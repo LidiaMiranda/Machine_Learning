{
 "cells": [
  {
   "cell_type": "markdown",
   "metadata": {},
   "source": [
    "#### Aquí encontrarás todo lo que necesitas saber: https://www.kaggle.com/t/ab8726f0cfc84544abbae69a6be88071"
   ]
  },
  {
   "cell_type": "markdown",
   "metadata": {},
   "source": [
    "## Librerias"
   ]
  },
  {
   "cell_type": "code",
   "execution_count": 145,
   "metadata": {},
   "outputs": [],
   "source": [
    "import pandas as pd\n",
    "\n",
    "import urllib.request\n",
    "from PIL import Image"
   ]
  },
  {
   "cell_type": "markdown",
   "metadata": {},
   "source": [
    "## Data"
   ]
  },
  {
   "cell_type": "code",
   "execution_count": 146,
   "metadata": {},
   "outputs": [],
   "source": [
    "### Para que funcione necesitas bajarte los archivos de datos de Kaggle \n",
    "train = pd.read_csv(\"data/train.csv\")"
   ]
  },
  {
   "cell_type": "markdown",
   "metadata": {},
   "source": [
    "## Data exploration"
   ]
  },
  {
   "cell_type": "code",
   "execution_count": 147,
   "metadata": {},
   "outputs": [
    {
     "name": "stdout",
     "output_type": "stream",
     "text": [
      "<class 'pandas.core.frame.DataFrame'>\n",
      "RangeIndex: 912 entries, 0 to 911\n",
      "Data columns (total 13 columns):\n",
      " #   Column            Non-Null Count  Dtype  \n",
      "---  ------            --------------  -----  \n",
      " 0   laptop_ID         912 non-null    int64  \n",
      " 1   Company           912 non-null    object \n",
      " 2   Product           912 non-null    object \n",
      " 3   TypeName          912 non-null    object \n",
      " 4   Inches            912 non-null    float64\n",
      " 5   ScreenResolution  912 non-null    object \n",
      " 6   Cpu               912 non-null    object \n",
      " 7   Ram               912 non-null    object \n",
      " 8   Memory            912 non-null    object \n",
      " 9   Gpu               912 non-null    object \n",
      " 10  OpSys             912 non-null    object \n",
      " 11  Weight            912 non-null    object \n",
      " 12  Price_euros       912 non-null    float64\n",
      "dtypes: float64(2), int64(1), object(10)\n",
      "memory usage: 92.8+ KB\n"
     ]
    }
   ],
   "source": [
    "train.info()"
   ]
  },
  {
   "cell_type": "code",
   "execution_count": 148,
   "metadata": {},
   "outputs": [
    {
     "data": {
      "text/html": [
       "<div>\n",
       "<style scoped>\n",
       "    .dataframe tbody tr th:only-of-type {\n",
       "        vertical-align: middle;\n",
       "    }\n",
       "\n",
       "    .dataframe tbody tr th {\n",
       "        vertical-align: top;\n",
       "    }\n",
       "\n",
       "    .dataframe thead th {\n",
       "        text-align: right;\n",
       "    }\n",
       "</style>\n",
       "<table border=\"1\" class=\"dataframe\">\n",
       "  <thead>\n",
       "    <tr style=\"text-align: right;\">\n",
       "      <th></th>\n",
       "      <th>laptop_ID</th>\n",
       "      <th>Company</th>\n",
       "      <th>Product</th>\n",
       "      <th>TypeName</th>\n",
       "      <th>Inches</th>\n",
       "      <th>ScreenResolution</th>\n",
       "      <th>Cpu</th>\n",
       "      <th>Ram</th>\n",
       "      <th>Memory</th>\n",
       "      <th>Gpu</th>\n",
       "      <th>OpSys</th>\n",
       "      <th>Weight</th>\n",
       "      <th>Price_euros</th>\n",
       "    </tr>\n",
       "  </thead>\n",
       "  <tbody>\n",
       "    <tr>\n",
       "      <th>0</th>\n",
       "      <td>1104</td>\n",
       "      <td>Acer</td>\n",
       "      <td>Aspire ES1-523</td>\n",
       "      <td>Notebook</td>\n",
       "      <td>15.6</td>\n",
       "      <td>1366x768</td>\n",
       "      <td>AMD A8-Series 7410 2.2GHz</td>\n",
       "      <td>4GB</td>\n",
       "      <td>500GB HDD</td>\n",
       "      <td>AMD Radeon R5</td>\n",
       "      <td>Windows 10</td>\n",
       "      <td>2.4kg</td>\n",
       "      <td>387.0</td>\n",
       "    </tr>\n",
       "    <tr>\n",
       "      <th>1</th>\n",
       "      <td>114</td>\n",
       "      <td>Dell</td>\n",
       "      <td>XPS 13</td>\n",
       "      <td>Ultrabook</td>\n",
       "      <td>13.3</td>\n",
       "      <td>Quad HD+ / Touchscreen 3200x1800</td>\n",
       "      <td>Intel Core i7 7560U 2.4GHz</td>\n",
       "      <td>8GB</td>\n",
       "      <td>256GB SSD</td>\n",
       "      <td>Intel Iris Plus Graphics 640</td>\n",
       "      <td>Windows 10</td>\n",
       "      <td>1.23kg</td>\n",
       "      <td>1379.0</td>\n",
       "    </tr>\n",
       "    <tr>\n",
       "      <th>2</th>\n",
       "      <td>172</td>\n",
       "      <td>Acer</td>\n",
       "      <td>Aspire A517-51G</td>\n",
       "      <td>Notebook</td>\n",
       "      <td>17.3</td>\n",
       "      <td>IPS Panel Full HD 1920x1080</td>\n",
       "      <td>Intel Core i5 8250U 1.6GHz</td>\n",
       "      <td>8GB</td>\n",
       "      <td>256GB SSD</td>\n",
       "      <td>Nvidia GeForce MX150</td>\n",
       "      <td>Windows 10</td>\n",
       "      <td>3kg</td>\n",
       "      <td>854.0</td>\n",
       "    </tr>\n",
       "    <tr>\n",
       "      <th>3</th>\n",
       "      <td>918</td>\n",
       "      <td>HP</td>\n",
       "      <td>Elitebook 820</td>\n",
       "      <td>Netbook</td>\n",
       "      <td>12.5</td>\n",
       "      <td>Full HD 1920x1080</td>\n",
       "      <td>Intel Core i7 7500U 2.7GHz</td>\n",
       "      <td>8GB</td>\n",
       "      <td>512GB SSD</td>\n",
       "      <td>Intel HD Graphics 620</td>\n",
       "      <td>Windows 10</td>\n",
       "      <td>1.26kg</td>\n",
       "      <td>1483.0</td>\n",
       "    </tr>\n",
       "    <tr>\n",
       "      <th>4</th>\n",
       "      <td>447</td>\n",
       "      <td>Lenovo</td>\n",
       "      <td>IdeaPad 320-15AST</td>\n",
       "      <td>Notebook</td>\n",
       "      <td>17.3</td>\n",
       "      <td>1600x900</td>\n",
       "      <td>AMD A6-Series 9220 2.5GHz</td>\n",
       "      <td>8GB</td>\n",
       "      <td>1TB HDD</td>\n",
       "      <td>AMD Radeon R4</td>\n",
       "      <td>Windows 10</td>\n",
       "      <td>2.8kg</td>\n",
       "      <td>519.0</td>\n",
       "    </tr>\n",
       "  </tbody>\n",
       "</table>\n",
       "</div>"
      ],
      "text/plain": [
       "   laptop_ID Company            Product   TypeName  Inches  \\\n",
       "0       1104    Acer     Aspire ES1-523   Notebook    15.6   \n",
       "1        114    Dell             XPS 13  Ultrabook    13.3   \n",
       "2        172    Acer    Aspire A517-51G   Notebook    17.3   \n",
       "3        918      HP      Elitebook 820    Netbook    12.5   \n",
       "4        447  Lenovo  IdeaPad 320-15AST   Notebook    17.3   \n",
       "\n",
       "                   ScreenResolution                         Cpu  Ram  \\\n",
       "0                          1366x768   AMD A8-Series 7410 2.2GHz  4GB   \n",
       "1  Quad HD+ / Touchscreen 3200x1800  Intel Core i7 7560U 2.4GHz  8GB   \n",
       "2       IPS Panel Full HD 1920x1080  Intel Core i5 8250U 1.6GHz  8GB   \n",
       "3                 Full HD 1920x1080  Intel Core i7 7500U 2.7GHz  8GB   \n",
       "4                          1600x900   AMD A6-Series 9220 2.5GHz  8GB   \n",
       "\n",
       "      Memory                           Gpu       OpSys  Weight  Price_euros  \n",
       "0  500GB HDD                 AMD Radeon R5  Windows 10   2.4kg        387.0  \n",
       "1  256GB SSD  Intel Iris Plus Graphics 640  Windows 10  1.23kg       1379.0  \n",
       "2  256GB SSD          Nvidia GeForce MX150  Windows 10     3kg        854.0  \n",
       "3  512GB SSD         Intel HD Graphics 620  Windows 10  1.26kg       1483.0  \n",
       "4    1TB HDD                 AMD Radeon R4  Windows 10   2.8kg        519.0  "
      ]
     },
     "execution_count": 148,
     "metadata": {},
     "output_type": "execute_result"
    }
   ],
   "source": [
    "train.head()"
   ]
  },
  {
   "cell_type": "markdown",
   "metadata": {},
   "source": [
    "## Data processing"
   ]
  },
  {
   "cell_type": "code",
   "execution_count": 149,
   "metadata": {},
   "outputs": [],
   "source": [
    "#En la columna \"OpSys\", convertimos los sistemas en números. Creamos diccionario\n",
    "sistema = {'No OS': 0, 'Windows 10': 1, 'Linux': 2, 'Mac OS X': 3, 'Android': 4, 'Chrome OS': 5, 'macOS': 6, 'Windows 7': 7, 'Windows 10 S':8}\n",
    "train[\"OpSys\"] = train[\"OpSys\"].replace(sistema)"
   ]
  },
  {
   "cell_type": "code",
   "execution_count": 150,
   "metadata": {},
   "outputs": [],
   "source": [
    "#En la columna \"Weight\", eliminar kg y convertirlo a float.\n",
    "train[\"Weight\"] = train[\"Weight\"].str.replace(\"kg\", \"\")\n",
    "train[\"Weight\"] = train[\"Weight\"].astype(float)"
   ]
  },
  {
   "cell_type": "code",
   "execution_count": 151,
   "metadata": {},
   "outputs": [
    {
     "data": {
      "text/html": [
       "<div>\n",
       "<style scoped>\n",
       "    .dataframe tbody tr th:only-of-type {\n",
       "        vertical-align: middle;\n",
       "    }\n",
       "\n",
       "    .dataframe tbody tr th {\n",
       "        vertical-align: top;\n",
       "    }\n",
       "\n",
       "    .dataframe thead th {\n",
       "        text-align: right;\n",
       "    }\n",
       "</style>\n",
       "<table border=\"1\" class=\"dataframe\">\n",
       "  <thead>\n",
       "    <tr style=\"text-align: right;\">\n",
       "      <th></th>\n",
       "      <th>laptop_ID</th>\n",
       "      <th>Inches</th>\n",
       "      <th>OpSys</th>\n",
       "      <th>Weight</th>\n",
       "      <th>Price_euros</th>\n",
       "    </tr>\n",
       "  </thead>\n",
       "  <tbody>\n",
       "    <tr>\n",
       "      <th>0</th>\n",
       "      <td>1104</td>\n",
       "      <td>15.6</td>\n",
       "      <td>1</td>\n",
       "      <td>2.40</td>\n",
       "      <td>387.0</td>\n",
       "    </tr>\n",
       "    <tr>\n",
       "      <th>1</th>\n",
       "      <td>114</td>\n",
       "      <td>13.3</td>\n",
       "      <td>1</td>\n",
       "      <td>1.23</td>\n",
       "      <td>1379.0</td>\n",
       "    </tr>\n",
       "    <tr>\n",
       "      <th>2</th>\n",
       "      <td>172</td>\n",
       "      <td>17.3</td>\n",
       "      <td>1</td>\n",
       "      <td>3.00</td>\n",
       "      <td>854.0</td>\n",
       "    </tr>\n",
       "    <tr>\n",
       "      <th>3</th>\n",
       "      <td>918</td>\n",
       "      <td>12.5</td>\n",
       "      <td>1</td>\n",
       "      <td>1.26</td>\n",
       "      <td>1483.0</td>\n",
       "    </tr>\n",
       "    <tr>\n",
       "      <th>4</th>\n",
       "      <td>447</td>\n",
       "      <td>17.3</td>\n",
       "      <td>1</td>\n",
       "      <td>2.80</td>\n",
       "      <td>519.0</td>\n",
       "    </tr>\n",
       "  </tbody>\n",
       "</table>\n",
       "</div>"
      ],
      "text/plain": [
       "   laptop_ID  Inches  OpSys  Weight  Price_euros\n",
       "0       1104    15.6      1    2.40        387.0\n",
       "1        114    13.3      1    1.23       1379.0\n",
       "2        172    17.3      1    3.00        854.0\n",
       "3        918    12.5      1    1.26       1483.0\n",
       "4        447    17.3      1    2.80        519.0"
      ]
     },
     "execution_count": 151,
     "metadata": {},
     "output_type": "execute_result"
    }
   ],
   "source": [
    "train_1st = train[[\"laptop_ID\", \"Inches\", \"OpSys\", \"Weight\", \"Price_euros\"]]\n",
    "train_1st.head()"
   ]
  },
  {
   "cell_type": "markdown",
   "metadata": {},
   "source": [
    "-----------------------------------------------------------------------------------------------------------------"
   ]
  },
  {
   "cell_type": "markdown",
   "metadata": {},
   "source": [
    "## Pasos que si o si debéis realizar para poder participar en la competición:"
   ]
  },
  {
   "cell_type": "markdown",
   "metadata": {},
   "source": [
    "### 1. Definir X e y"
   ]
  },
  {
   "cell_type": "code",
   "execution_count": 152,
   "metadata": {},
   "outputs": [
    {
     "data": {
      "text/plain": [
       "(912, 4)"
      ]
     },
     "execution_count": 152,
     "metadata": {},
     "output_type": "execute_result"
    }
   ],
   "source": [
    "X = train_1st.drop(['Price_euros'], axis=1)\n",
    "y = train_1st['Price_euros'].copy()\n",
    "X.shape"
   ]
  },
  {
   "cell_type": "code",
   "execution_count": 153,
   "metadata": {},
   "outputs": [
    {
     "data": {
      "text/plain": [
       "(912,)"
      ]
     },
     "execution_count": 153,
     "metadata": {},
     "output_type": "execute_result"
    }
   ],
   "source": [
    "y.shape"
   ]
  },
  {
   "cell_type": "markdown",
   "metadata": {},
   "source": [
    "### 2. Dividir X_train, X_test, y_train, y_test"
   ]
  },
  {
   "cell_type": "code",
   "execution_count": 154,
   "metadata": {},
   "outputs": [],
   "source": [
    "from sklearn.model_selection import train_test_split"
   ]
  },
  {
   "cell_type": "code",
   "execution_count": 155,
   "metadata": {},
   "outputs": [],
   "source": [
    "X_train, X_validation, y_train, y_validation= train_test_split(X, y, test_size = 0.20, random_state = 42)"
   ]
  },
  {
   "cell_type": "code",
   "execution_count": 156,
   "metadata": {},
   "outputs": [
    {
     "data": {
      "text/html": [
       "<div>\n",
       "<style scoped>\n",
       "    .dataframe tbody tr th:only-of-type {\n",
       "        vertical-align: middle;\n",
       "    }\n",
       "\n",
       "    .dataframe tbody tr th {\n",
       "        vertical-align: top;\n",
       "    }\n",
       "\n",
       "    .dataframe thead th {\n",
       "        text-align: right;\n",
       "    }\n",
       "</style>\n",
       "<table border=\"1\" class=\"dataframe\">\n",
       "  <thead>\n",
       "    <tr style=\"text-align: right;\">\n",
       "      <th></th>\n",
       "      <th>laptop_ID</th>\n",
       "      <th>Inches</th>\n",
       "      <th>OpSys</th>\n",
       "      <th>Weight</th>\n",
       "    </tr>\n",
       "  </thead>\n",
       "  <tbody>\n",
       "    <tr>\n",
       "      <th>25</th>\n",
       "      <td>26</td>\n",
       "      <td>15.6</td>\n",
       "      <td>1</td>\n",
       "      <td>2.30</td>\n",
       "    </tr>\n",
       "    <tr>\n",
       "      <th>84</th>\n",
       "      <td>776</td>\n",
       "      <td>15.6</td>\n",
       "      <td>1</td>\n",
       "      <td>2.72</td>\n",
       "    </tr>\n",
       "    <tr>\n",
       "      <th>10</th>\n",
       "      <td>1263</td>\n",
       "      <td>15.6</td>\n",
       "      <td>1</td>\n",
       "      <td>2.50</td>\n",
       "    </tr>\n",
       "    <tr>\n",
       "      <th>342</th>\n",
       "      <td>182</td>\n",
       "      <td>15.6</td>\n",
       "      <td>1</td>\n",
       "      <td>1.90</td>\n",
       "    </tr>\n",
       "    <tr>\n",
       "      <th>890</th>\n",
       "      <td>321</td>\n",
       "      <td>13.3</td>\n",
       "      <td>1</td>\n",
       "      <td>1.29</td>\n",
       "    </tr>\n",
       "    <tr>\n",
       "      <th>...</th>\n",
       "      <td>...</td>\n",
       "      <td>...</td>\n",
       "      <td>...</td>\n",
       "      <td>...</td>\n",
       "    </tr>\n",
       "    <tr>\n",
       "      <th>106</th>\n",
       "      <td>394</td>\n",
       "      <td>15.6</td>\n",
       "      <td>1</td>\n",
       "      <td>2.00</td>\n",
       "    </tr>\n",
       "    <tr>\n",
       "      <th>270</th>\n",
       "      <td>441</td>\n",
       "      <td>15.6</td>\n",
       "      <td>1</td>\n",
       "      <td>2.50</td>\n",
       "    </tr>\n",
       "    <tr>\n",
       "      <th>860</th>\n",
       "      <td>955</td>\n",
       "      <td>17.3</td>\n",
       "      <td>1</td>\n",
       "      <td>2.80</td>\n",
       "    </tr>\n",
       "    <tr>\n",
       "      <th>435</th>\n",
       "      <td>210</td>\n",
       "      <td>15.6</td>\n",
       "      <td>1</td>\n",
       "      <td>2.30</td>\n",
       "    </tr>\n",
       "    <tr>\n",
       "      <th>102</th>\n",
       "      <td>673</td>\n",
       "      <td>15.6</td>\n",
       "      <td>1</td>\n",
       "      <td>2.10</td>\n",
       "    </tr>\n",
       "  </tbody>\n",
       "</table>\n",
       "<p>729 rows × 4 columns</p>\n",
       "</div>"
      ],
      "text/plain": [
       "     laptop_ID  Inches  OpSys  Weight\n",
       "25          26    15.6      1    2.30\n",
       "84         776    15.6      1    2.72\n",
       "10        1263    15.6      1    2.50\n",
       "342        182    15.6      1    1.90\n",
       "890        321    13.3      1    1.29\n",
       "..         ...     ...    ...     ...\n",
       "106        394    15.6      1    2.00\n",
       "270        441    15.6      1    2.50\n",
       "860        955    17.3      1    2.80\n",
       "435        210    15.6      1    2.30\n",
       "102        673    15.6      1    2.10\n",
       "\n",
       "[729 rows x 4 columns]"
      ]
     },
     "execution_count": 156,
     "metadata": {},
     "output_type": "execute_result"
    }
   ],
   "source": [
    "X_train"
   ]
  },
  {
   "cell_type": "markdown",
   "metadata": {},
   "source": [
    "### 3. Asignar el modelo (vacío) a una variable\n"
   ]
  },
  {
   "cell_type": "code",
   "execution_count": 157,
   "metadata": {},
   "outputs": [],
   "source": [
    "from sklearn.linear_model import LinearRegression\n",
    "\n",
    "laptop_model = LinearRegression()"
   ]
  },
  {
   "cell_type": "markdown",
   "metadata": {},
   "source": [
    "### 4. Sacar métricas, valorar el modelo \n",
    "\n",
    "Recuerda que en la competición se va a evaluar con la métrica de MAE."
   ]
  },
  {
   "cell_type": "code",
   "execution_count": 158,
   "metadata": {},
   "outputs": [
    {
     "data": {
      "text/plain": [
       "LinearRegression()"
      ]
     },
     "execution_count": 158,
     "metadata": {},
     "output_type": "execute_result"
    }
   ],
   "source": [
    "laptop_model.fit(X_train, y_train)\n",
    "#OJO!! si ejecutamos esta celda más de una vez, hacemos overfitting"
   ]
  },
  {
   "cell_type": "code",
   "execution_count": 159,
   "metadata": {},
   "outputs": [
    {
     "data": {
      "text/plain": [
       "array([ 3.00893906e-02, -1.37587165e+02,  5.68403600e+01,  4.51417958e+02])"
      ]
     },
     "execution_count": 159,
     "metadata": {},
     "output_type": "execute_result"
    }
   ],
   "source": [
    "laptop_model.coef_"
   ]
  },
  {
   "cell_type": "code",
   "execution_count": 160,
   "metadata": {},
   "outputs": [
    {
     "data": {
      "text/plain": [
       "2157.8911837690403"
      ]
     },
     "execution_count": 160,
     "metadata": {},
     "output_type": "execute_result"
    }
   ],
   "source": [
    "laptop_model.intercept_"
   ]
  },
  {
   "cell_type": "code",
   "execution_count": 161,
   "metadata": {},
   "outputs": [
    {
     "data": {
      "text/plain": [
       "array([ 990.34453872,  851.8608682 , 1062.33378088, 1073.522147  ,\n",
       "       1090.94390414, 1425.72999607,  912.63831235, 1340.76322665,\n",
       "       1063.71789284,  991.55391125,  867.43335991, 1106.95916988,\n",
       "       1218.48532489, 1128.58913415,  938.48674698, 1200.67295203,\n",
       "        804.23792976, 1116.83258602, 1189.98839558, 1193.03024682,\n",
       "       1091.46031094, 1050.13986773,  976.83440235, 1115.05810311,\n",
       "       1055.79872496, 1059.68723612,  957.15479887, 1783.27369351,\n",
       "       1063.05592625, 1063.08189947, 1005.21834955,  886.19630595,\n",
       "       1202.98080353, 1555.12593183, 1059.58804252, 1021.46467852,\n",
       "       1041.32988508, 1227.70145315,  911.58374783, 1495.09765506,\n",
       "       1094.4685561 , 1287.82982121,  925.21876159, 1842.70949184,\n",
       "       1280.66314928,  948.51268201, 1042.61285331, 1041.29358691,\n",
       "       1205.55232047, 1000.42756854, 1119.28688649,  922.93982482,\n",
       "        834.48691309, 1387.41000233, 1362.70986022, 1350.43338887,\n",
       "       1054.62975483,  777.42817662,  810.82981929, 1096.57293316,\n",
       "       1004.87473652, 1124.05560189, 1260.4545339 , 1029.68333707,\n",
       "       1080.44138522, 1285.16799146,  930.72974604, 1036.65982076,\n",
       "        979.15128543, 1222.24572345, 1129.10905737,  990.85308052,\n",
       "       1564.4025123 , 1022.70259846, 1103.58941933, 1008.37270964,\n",
       "       1552.57738181, 1029.28171129, 1077.52892311, 1426.75241929,\n",
       "       1069.88621791, 1139.5177998 , 1558.67647991,  943.75845216,\n",
       "       1109.63712564, 1541.32200408, 1176.80924252, 1083.03373959,\n",
       "       1573.69108581, 1109.60652644, 1557.42522501,  966.38886399,\n",
       "        906.67683158,  942.77207017,  909.99507196, 1200.64286264,\n",
       "       1130.6731833 , 1101.99247478, 1020.05047717, 1073.97837502,\n",
       "       1038.55247453, 1087.8245206 , 1089.56467934, 1107.01934866,\n",
       "        917.91012367,  946.19260881, 1132.84093294, 1088.39119311,\n",
       "       1005.47950217, 1087.23860155,  997.77661819, 1090.58822842,\n",
       "       1116.051053  , 1275.66985244,  996.58115246,  748.89880839,\n",
       "       1029.31503162, 1023.7275916 , 1079.45464411,  917.24507309,\n",
       "       1081.62108023, 1150.3682683 ,  955.83086568, 1047.58123735,\n",
       "       1147.58936029, 1018.69182861,  946.4965867 , 1269.52952842,\n",
       "       1040.45688088, 1092.9111696 , 1038.52536298, 1080.80712469,\n",
       "       1195.88679327, 1124.9582836 , 1859.28874604,  936.15394624,\n",
       "       1092.39050787, 1323.58218463, 1079.78264956,  988.45393302,\n",
       "        977.04014092, 1080.77868344,  956.84965004, 1076.08463236,\n",
       "       1099.01274798, 1435.14500546, 1188.12285337,  940.44861919,\n",
       "       1028.47484167,  877.75787586,  922.48448203, 1228.60541962,\n",
       "       1078.51889516,  971.99503638, 1042.43708989, 1151.46908849,\n",
       "       1072.14871911, 1082.19277865, 1215.48181936, 1678.47930568,\n",
       "        937.38684026, 1186.58829445, 1010.87207099, 1305.8023417 ,\n",
       "        732.7972682 , 1191.43110778, 1015.78399249, 1047.33898023,\n",
       "       1022.51780719, 1015.52946476, 1231.51946453,  942.64862863,\n",
       "       1099.76498274, 1065.16489651,  839.45320453, 1197.63392358,\n",
       "        957.39280106, 1080.56640957,  970.79068977, 1069.97648608,\n",
       "       1075.15765817, 1098.49501956, 1178.49512553])"
      ]
     },
     "execution_count": 161,
     "metadata": {},
     "output_type": "execute_result"
    }
   ],
   "source": [
    "predictions = laptop_model.predict(X_validation)\n",
    "predictions"
   ]
  },
  {
   "cell_type": "code",
   "execution_count": 162,
   "metadata": {},
   "outputs": [
    {
     "name": "stdout",
     "output_type": "stream",
     "text": [
      "MAE:  484.62807694528806\n",
      "MAPE:  0.5992856484597536\n",
      "MSE:  452019.57350678666\n",
      "RMSE:  672.3240093190088\n"
     ]
    }
   ],
   "source": [
    "from sklearn.metrics import mean_absolute_error, mean_absolute_percentage_error ,mean_squared_error\n",
    "import numpy as np\n",
    "\n",
    "print(\"MAE: \", mean_absolute_error(y_validation, predictions))\n",
    "print(\"MAPE: \", mean_absolute_percentage_error(y_validation, predictions))\n",
    "print(\"MSE: \", mean_squared_error(y_validation, predictions))\n",
    "print(\"RMSE: \", np.sqrt(mean_squared_error(y_validation, predictions)))#en cuanto me equivoco"
   ]
  },
  {
   "cell_type": "markdown",
   "metadata": {},
   "source": [
    "-----------------------------------------------------------------"
   ]
  },
  {
   "cell_type": "markdown",
   "metadata": {},
   "source": [
    "## Una vez listo el modelo, toca predecir con el dataset de predicción "
   ]
  },
  {
   "cell_type": "markdown",
   "metadata": {},
   "source": [
    "Definición de **modelo que está listo**. \n",
    "\n",
    "Tras hacer suficientes pruebas, analizar los datos, hacer feature engineering, probar diferentes modelos con diferentes parámetros, es con este con el que observo mejores métricas y menos overfitting. ¡Cuidado con el overfitting aquí! Si vuestro modelo aprende muy bien de estos datos pero hay overfitting cuando le pasemos los datos desconocidos de `test.csv` nos arriesgamos a que digamos, no salga lo esperado."
   ]
  },
  {
   "cell_type": "markdown",
   "metadata": {},
   "source": [
    "### 1. Entrena dicho modelo con TODOS tus datos de train, esto es con `train.csv` al completo.\n",
    "\n",
    "\n",
    "**CON LAS TRANSFORMACIONES QUE LE HAYAS REALIZADO A `X` INCLUÍDAS.**\n",
    "\n",
    "\n",
    "Véase:\n",
    "- Estandarización/Normalización\n",
    "- Eliminación de Outliers\n",
    "- Eliminación de columnas\n",
    "- Creación de columnas nuevas\n",
    "- Gestión de valores nulos\n",
    "- Y un largo etcétera de técnicas que como Data Scientist hayas considerado las mejores para tu dataset."
   ]
  },
  {
   "cell_type": "markdown",
   "metadata": {},
   "source": [
    "### 2. Carga los datos de `test.csv` para predecir."
   ]
  },
  {
   "cell_type": "code",
   "execution_count": 163,
   "metadata": {},
   "outputs": [
    {
     "data": {
      "text/html": [
       "<div>\n",
       "<style scoped>\n",
       "    .dataframe tbody tr th:only-of-type {\n",
       "        vertical-align: middle;\n",
       "    }\n",
       "\n",
       "    .dataframe tbody tr th {\n",
       "        vertical-align: top;\n",
       "    }\n",
       "\n",
       "    .dataframe thead th {\n",
       "        text-align: right;\n",
       "    }\n",
       "</style>\n",
       "<table border=\"1\" class=\"dataframe\">\n",
       "  <thead>\n",
       "    <tr style=\"text-align: right;\">\n",
       "      <th></th>\n",
       "      <th>laptop_ID</th>\n",
       "      <th>Company</th>\n",
       "      <th>Product</th>\n",
       "      <th>TypeName</th>\n",
       "      <th>Inches</th>\n",
       "      <th>ScreenResolution</th>\n",
       "      <th>Cpu</th>\n",
       "      <th>Ram</th>\n",
       "      <th>Memory</th>\n",
       "      <th>Gpu</th>\n",
       "      <th>OpSys</th>\n",
       "      <th>Weight</th>\n",
       "    </tr>\n",
       "  </thead>\n",
       "  <tbody>\n",
       "    <tr>\n",
       "      <th>0</th>\n",
       "      <td>750</td>\n",
       "      <td>Toshiba</td>\n",
       "      <td>Tecra X40-D-10G</td>\n",
       "      <td>Notebook</td>\n",
       "      <td>14.0</td>\n",
       "      <td>IPS Panel Full HD / Touchscreen 1920x1080</td>\n",
       "      <td>Intel Core i5 7200U 2.5GHz</td>\n",
       "      <td>8GB</td>\n",
       "      <td>256GB SSD</td>\n",
       "      <td>Intel HD Graphics 620</td>\n",
       "      <td>Windows 10</td>\n",
       "      <td>1.25kg</td>\n",
       "    </tr>\n",
       "    <tr>\n",
       "      <th>1</th>\n",
       "      <td>726</td>\n",
       "      <td>Mediacom</td>\n",
       "      <td>Smartbook 142</td>\n",
       "      <td>Notebook</td>\n",
       "      <td>14.0</td>\n",
       "      <td>IPS Panel Full HD 1920x1200</td>\n",
       "      <td>Intel Atom Z8350 1.92GHz</td>\n",
       "      <td>4GB</td>\n",
       "      <td>32GB HDD</td>\n",
       "      <td>Intel HD Graphics 400</td>\n",
       "      <td>Windows 10</td>\n",
       "      <td>1.4kg</td>\n",
       "    </tr>\n",
       "    <tr>\n",
       "      <th>2</th>\n",
       "      <td>633</td>\n",
       "      <td>Mediacom</td>\n",
       "      <td>SmartBook 140</td>\n",
       "      <td>Notebook</td>\n",
       "      <td>14.0</td>\n",
       "      <td>Full HD 1920x1080</td>\n",
       "      <td>Intel Atom x5-Z8350 1.44GHz</td>\n",
       "      <td>2GB</td>\n",
       "      <td>32GB Flash Storage</td>\n",
       "      <td>Intel HD Graphics</td>\n",
       "      <td>Windows 10</td>\n",
       "      <td>1.4kg</td>\n",
       "    </tr>\n",
       "    <tr>\n",
       "      <th>3</th>\n",
       "      <td>363</td>\n",
       "      <td>Dell</td>\n",
       "      <td>Inspiron 7577</td>\n",
       "      <td>Gaming</td>\n",
       "      <td>15.6</td>\n",
       "      <td>Full HD 1920x1080</td>\n",
       "      <td>Intel Core i5 7300HQ 2.5GHz</td>\n",
       "      <td>8GB</td>\n",
       "      <td>1TB HDD</td>\n",
       "      <td>Nvidia GeForce GTX 1050</td>\n",
       "      <td>Windows 10</td>\n",
       "      <td>2.65kg</td>\n",
       "    </tr>\n",
       "    <tr>\n",
       "      <th>4</th>\n",
       "      <td>319</td>\n",
       "      <td>Asus</td>\n",
       "      <td>VivoBook Flip</td>\n",
       "      <td>2 in 1 Convertible</td>\n",
       "      <td>11.6</td>\n",
       "      <td>Touchscreen 1366x768</td>\n",
       "      <td>Intel Celeron Dual Core N3350 1.1GHz</td>\n",
       "      <td>2GB</td>\n",
       "      <td>32GB Flash Storage</td>\n",
       "      <td>Intel HD Graphics 500</td>\n",
       "      <td>Windows 10</td>\n",
       "      <td>1.1kg</td>\n",
       "    </tr>\n",
       "  </tbody>\n",
       "</table>\n",
       "</div>"
      ],
      "text/plain": [
       "   laptop_ID   Company          Product            TypeName  Inches  \\\n",
       "0        750   Toshiba  Tecra X40-D-10G            Notebook    14.0   \n",
       "1        726  Mediacom    Smartbook 142            Notebook    14.0   \n",
       "2        633  Mediacom    SmartBook 140            Notebook    14.0   \n",
       "3        363      Dell    Inspiron 7577              Gaming    15.6   \n",
       "4        319      Asus    VivoBook Flip  2 in 1 Convertible    11.6   \n",
       "\n",
       "                            ScreenResolution  \\\n",
       "0  IPS Panel Full HD / Touchscreen 1920x1080   \n",
       "1                IPS Panel Full HD 1920x1200   \n",
       "2                          Full HD 1920x1080   \n",
       "3                          Full HD 1920x1080   \n",
       "4                       Touchscreen 1366x768   \n",
       "\n",
       "                                    Cpu  Ram              Memory  \\\n",
       "0            Intel Core i5 7200U 2.5GHz  8GB           256GB SSD   \n",
       "1              Intel Atom Z8350 1.92GHz  4GB            32GB HDD   \n",
       "2           Intel Atom x5-Z8350 1.44GHz  2GB  32GB Flash Storage   \n",
       "3           Intel Core i5 7300HQ 2.5GHz  8GB             1TB HDD   \n",
       "4  Intel Celeron Dual Core N3350 1.1GHz  2GB  32GB Flash Storage   \n",
       "\n",
       "                       Gpu       OpSys  Weight  \n",
       "0    Intel HD Graphics 620  Windows 10  1.25kg  \n",
       "1    Intel HD Graphics 400  Windows 10   1.4kg  \n",
       "2        Intel HD Graphics  Windows 10   1.4kg  \n",
       "3  Nvidia GeForce GTX 1050  Windows 10  2.65kg  \n",
       "4    Intel HD Graphics 500  Windows 10   1.1kg  "
      ]
     },
     "execution_count": 163,
     "metadata": {},
     "output_type": "execute_result"
    }
   ],
   "source": [
    "X_pred = pd.read_csv(\"data/test.csv\")\n",
    "X_pred.head()"
   ]
  },
  {
   "cell_type": "code",
   "execution_count": 164,
   "metadata": {},
   "outputs": [
    {
     "data": {
      "text/html": [
       "<div>\n",
       "<style scoped>\n",
       "    .dataframe tbody tr th:only-of-type {\n",
       "        vertical-align: middle;\n",
       "    }\n",
       "\n",
       "    .dataframe tbody tr th {\n",
       "        vertical-align: top;\n",
       "    }\n",
       "\n",
       "    .dataframe thead th {\n",
       "        text-align: right;\n",
       "    }\n",
       "</style>\n",
       "<table border=\"1\" class=\"dataframe\">\n",
       "  <thead>\n",
       "    <tr style=\"text-align: right;\">\n",
       "      <th></th>\n",
       "      <th>laptop_ID</th>\n",
       "      <th>Inches</th>\n",
       "      <th>OpSys</th>\n",
       "      <th>Weight</th>\n",
       "    </tr>\n",
       "  </thead>\n",
       "  <tbody>\n",
       "    <tr>\n",
       "      <th>0</th>\n",
       "      <td>750</td>\n",
       "      <td>14.0</td>\n",
       "      <td>Windows 10</td>\n",
       "      <td>1.25kg</td>\n",
       "    </tr>\n",
       "    <tr>\n",
       "      <th>1</th>\n",
       "      <td>726</td>\n",
       "      <td>14.0</td>\n",
       "      <td>Windows 10</td>\n",
       "      <td>1.4kg</td>\n",
       "    </tr>\n",
       "    <tr>\n",
       "      <th>2</th>\n",
       "      <td>633</td>\n",
       "      <td>14.0</td>\n",
       "      <td>Windows 10</td>\n",
       "      <td>1.4kg</td>\n",
       "    </tr>\n",
       "    <tr>\n",
       "      <th>3</th>\n",
       "      <td>363</td>\n",
       "      <td>15.6</td>\n",
       "      <td>Windows 10</td>\n",
       "      <td>2.65kg</td>\n",
       "    </tr>\n",
       "    <tr>\n",
       "      <th>4</th>\n",
       "      <td>319</td>\n",
       "      <td>11.6</td>\n",
       "      <td>Windows 10</td>\n",
       "      <td>1.1kg</td>\n",
       "    </tr>\n",
       "  </tbody>\n",
       "</table>\n",
       "</div>"
      ],
      "text/plain": [
       "   laptop_ID  Inches       OpSys  Weight\n",
       "0        750    14.0  Windows 10  1.25kg\n",
       "1        726    14.0  Windows 10   1.4kg\n",
       "2        633    14.0  Windows 10   1.4kg\n",
       "3        363    15.6  Windows 10  2.65kg\n",
       "4        319    11.6  Windows 10   1.1kg"
      ]
     },
     "execution_count": 164,
     "metadata": {},
     "output_type": "execute_result"
    }
   ],
   "source": [
    "test_1st = X_pred[[\"laptop_ID\", \"Inches\", \"OpSys\", \"Weight\"]]\n",
    "test_1st.head()"
   ]
  },
  {
   "cell_type": "code",
   "execution_count": 165,
   "metadata": {},
   "outputs": [
    {
     "name": "stderr",
     "output_type": "stream",
     "text": [
      "C:\\Users\\lydia\\AppData\\Roaming\\Python\\Python37\\site-packages\\ipykernel_launcher.py:3: SettingWithCopyWarning: \n",
      "A value is trying to be set on a copy of a slice from a DataFrame.\n",
      "Try using .loc[row_indexer,col_indexer] = value instead\n",
      "\n",
      "See the caveats in the documentation: https://pandas.pydata.org/pandas-docs/stable/user_guide/indexing.html#returning-a-view-versus-a-copy\n",
      "  This is separate from the ipykernel package so we can avoid doing imports until\n",
      "C:\\Users\\lydia\\AppData\\Roaming\\Python\\Python37\\site-packages\\ipykernel_launcher.py:5: SettingWithCopyWarning: \n",
      "A value is trying to be set on a copy of a slice from a DataFrame.\n",
      "Try using .loc[row_indexer,col_indexer] = value instead\n",
      "\n",
      "See the caveats in the documentation: https://pandas.pydata.org/pandas-docs/stable/user_guide/indexing.html#returning-a-view-versus-a-copy\n",
      "  \"\"\"\n",
      "C:\\Users\\lydia\\AppData\\Roaming\\Python\\Python37\\site-packages\\ipykernel_launcher.py:6: SettingWithCopyWarning: \n",
      "A value is trying to be set on a copy of a slice from a DataFrame.\n",
      "Try using .loc[row_indexer,col_indexer] = value instead\n",
      "\n",
      "See the caveats in the documentation: https://pandas.pydata.org/pandas-docs/stable/user_guide/indexing.html#returning-a-view-versus-a-copy\n",
      "  \n"
     ]
    }
   ],
   "source": [
    "#En la columna \"OpSys\", convertimos los sistemas en números. Creamos diccionario\n",
    "sistema = {'No OS': 0, 'Windows 10': 1, 'Linux': 2, 'Mac OS X': 3, 'Android': 4, 'Chrome OS': 5, 'macOS': 6, 'Windows 7': 7, 'Windows 10 S':8}\n",
    "test_1st[\"OpSys\"] = test_1st[\"OpSys\"].replace(sistema)\n",
    "#En la columna \"Weight\", eliminar kg y convertirlo a float.\n",
    "test_1st[\"Weight\"] = test_1st[\"Weight\"].str.replace(\"kg\", \"\")\n",
    "test_1st[\"Weight\"] = test_1st[\"Weight\"].astype(float)"
   ]
  },
  {
   "cell_type": "code",
   "execution_count": 166,
   "metadata": {},
   "outputs": [
    {
     "data": {
      "text/html": [
       "<div>\n",
       "<style scoped>\n",
       "    .dataframe tbody tr th:only-of-type {\n",
       "        vertical-align: middle;\n",
       "    }\n",
       "\n",
       "    .dataframe tbody tr th {\n",
       "        vertical-align: top;\n",
       "    }\n",
       "\n",
       "    .dataframe thead th {\n",
       "        text-align: right;\n",
       "    }\n",
       "</style>\n",
       "<table border=\"1\" class=\"dataframe\">\n",
       "  <thead>\n",
       "    <tr style=\"text-align: right;\">\n",
       "      <th></th>\n",
       "      <th>laptop_ID</th>\n",
       "      <th>Inches</th>\n",
       "      <th>OpSys</th>\n",
       "      <th>Weight</th>\n",
       "    </tr>\n",
       "  </thead>\n",
       "  <tbody>\n",
       "    <tr>\n",
       "      <th>0</th>\n",
       "      <td>750</td>\n",
       "      <td>14.0</td>\n",
       "      <td>1</td>\n",
       "      <td>1.25</td>\n",
       "    </tr>\n",
       "    <tr>\n",
       "      <th>1</th>\n",
       "      <td>726</td>\n",
       "      <td>14.0</td>\n",
       "      <td>1</td>\n",
       "      <td>1.40</td>\n",
       "    </tr>\n",
       "    <tr>\n",
       "      <th>2</th>\n",
       "      <td>633</td>\n",
       "      <td>14.0</td>\n",
       "      <td>1</td>\n",
       "      <td>1.40</td>\n",
       "    </tr>\n",
       "    <tr>\n",
       "      <th>3</th>\n",
       "      <td>363</td>\n",
       "      <td>15.6</td>\n",
       "      <td>1</td>\n",
       "      <td>2.65</td>\n",
       "    </tr>\n",
       "    <tr>\n",
       "      <th>4</th>\n",
       "      <td>319</td>\n",
       "      <td>11.6</td>\n",
       "      <td>1</td>\n",
       "      <td>1.10</td>\n",
       "    </tr>\n",
       "  </tbody>\n",
       "</table>\n",
       "</div>"
      ],
      "text/plain": [
       "   laptop_ID  Inches  OpSys  Weight\n",
       "0        750    14.0      1    1.25\n",
       "1        726    14.0      1    1.40\n",
       "2        633    14.0      1    1.40\n",
       "3        363    15.6      1    2.65\n",
       "4        319    11.6      1    1.10"
      ]
     },
     "execution_count": 166,
     "metadata": {},
     "output_type": "execute_result"
    }
   ],
   "source": [
    "test_1st.head()"
   ]
  },
  {
   "cell_type": "markdown",
   "metadata": {},
   "source": [
    "**¿Por qué da error?** "
   ]
  },
  {
   "cell_type": "code",
   "execution_count": 167,
   "metadata": {},
   "outputs": [
    {
     "data": {
      "text/plain": [
       "array([ 875.35072462,  942.34127296,  939.54295964, 1275.55180787,\n",
       "       1124.87869951, 1061.91252941,  740.95032211, 1538.18509513,\n",
       "       1162.60705017, 1227.03614533,  851.25908039, 1031.00235048,\n",
       "       1122.91143405, 1067.90031813,  932.29516535,  921.84874985,\n",
       "        934.55843755, 1188.4848032 , 1076.95722469, 1033.56682231,\n",
       "       1430.12243103,  999.37961646, 1140.48286714,  967.40948414,\n",
       "        877.0456881 ,  838.57532137, 1096.66500452, 1050.14889931,\n",
       "       1068.77291046, 1220.05540672,  982.61310733,  986.64354368,\n",
       "       1181.35274049, 1185.17409309, 1000.21385882,  873.43454937,\n",
       "        993.71455046, 1243.81991454, 1181.65374054, 1019.99378231,\n",
       "       1799.34142808, 1197.57863197, 1276.42851242, 1287.61709892,\n",
       "       1017.55305775, 1414.34643605, 1177.1139914 , 1204.55448341,\n",
       "       1053.08605383, 1122.84405511, 1485.10720639, 1149.50810151,\n",
       "       1087.64204233, 1293.16392052, 1006.06511933, 1016.04396224,\n",
       "       1106.15785228, 1439.63129451, 1020.26304483, 1083.07193888,\n",
       "       1062.81521112, 1252.8605524 , 1132.14887695, 1171.39315221,\n",
       "       1099.5813216 , 1280.45534634, 1113.58372297, 1352.80180621,\n",
       "       1068.07931248, 1018.78209679,  899.49545745, 1288.85076393,\n",
       "       1853.48149366, 1060.26340984, 1144.24481196, 1028.65604287,\n",
       "       1012.65469587, 1206.72747528, 1013.81734734, 1190.19902132,\n",
       "       1458.35234121, 1071.93229647,  966.87029424, 1754.410258  ,\n",
       "       1084.77789206, 1152.344255  ,  965.42938127, 1128.57480738,\n",
       "       1020.74253315, 1106.41756085, 1006.24138883, 1078.76258812,\n",
       "       1044.95828378,  965.16011875, 1300.2364693 , 1476.58816003,\n",
       "       1017.1271803 ,  919.02188913,  905.75405069, 1018.93716972,\n",
       "        981.70811263,  936.74762415, 1002.775312  ,  928.17214784,\n",
       "       1312.95574314, 1067.14654137, 1119.8724056 ,  953.47732531,\n",
       "       1561.57899675, 1292.83293723,  931.47591898, 1169.58763001,\n",
       "       1122.33054092, 1150.08497652, 1090.17226406, 1295.74123437,\n",
       "        928.47561593, 1804.18813295, 1149.30224871, 1021.40875466,\n",
       "       1088.63036624, 1085.04829291, 1809.09039062,  906.50664458,\n",
       "       1079.21238699, 1021.58041011,  975.7210949 , 1305.27957939,\n",
       "       1094.94148554,  878.66441256, 1109.77854102, 1013.4971988 ,\n",
       "       1220.1996449 , 1058.80920601, 1341.0715704 ,  938.95071757,\n",
       "        875.62538411,  968.42917824,  946.31850209, 1093.29664091,\n",
       "       1017.48990113, 1144.4253483 , 1010.86935806, 1542.81886128,\n",
       "       1062.78280875, 1101.20927349, 1836.63143494, 1215.0844485 ,\n",
       "       1176.41187166,  917.75659273, 1197.77996494, 1274.19323642,\n",
       "        948.24911025, 1034.31372544,  813.33021654, 1011.21040512,\n",
       "        932.71899099, 1175.72602445, 1185.38196958, 1047.6463033 ,\n",
       "       1415.94014157, 1097.20738454, 1163.86772059, 1146.76457   ,\n",
       "        930.72666206, 1943.97416903,  890.86016149, 1100.6815832 ,\n",
       "       1200.05356209,  978.18842493,  890.64917662, 1145.14749368,\n",
       "       1170.24975537,  925.85140979, 1519.13773991,  976.53350845,\n",
       "       1055.55878083, 1047.16758597, 1117.99612668, 1573.55982049,\n",
       "       1144.67068941, 1205.73285681, 1136.93309005, 1081.47063328,\n",
       "       1563.40956241, 1121.58750086, 1297.50490266, 1019.56415975,\n",
       "       1306.49901143,  991.15695226,  845.80206594, 1139.46059886,\n",
       "       1028.38795128,  986.64045969, 1139.46136986, 1088.62702106,\n",
       "       1287.94808222, 1080.77857729,  971.23288854, 1095.31483692,\n",
       "       1952.70637492,  909.30147398,  933.77611339, 1270.76759477,\n",
       "        963.92116663, 1114.28234686, 1139.3468092 ,  945.63287527,\n",
       "       1225.16439434,  949.14455921, 1064.86785759, 1082.40340438,\n",
       "        987.39577844,  909.17659659, 1081.3803651 , 1027.69318237,\n",
       "       1269.74070051, 1086.61103189, 1029.85340971, 1231.46391172,\n",
       "       1021.40449974, 1053.66032643,  974.81158036, 1017.7605995 ,\n",
       "       1196.52061613,  865.81161681, 1114.50267339,  957.36116968,\n",
       "        957.15942484,  973.76722644, 1107.68131525, 1079.84426419,\n",
       "        884.08193871, 1247.70417067, 1073.91665425, 1073.74422781,\n",
       "        962.62527104, 1121.28039818, 1032.95882572, 1128.04896906,\n",
       "       1432.40922471, 1378.36158536,  905.322809  , 1084.77557907,\n",
       "       1083.57689062, 1217.70699841, 1167.27281503, 1158.12825932,\n",
       "       1060.52081362,  983.71958196, 1073.49694478,  899.33880172,\n",
       "       1202.38995662,  931.33230485, 1426.17979494, 1232.30178868,\n",
       "        942.4079135 ,  957.66631851, 1096.84020113, 1085.41234344,\n",
       "        961.33384638,  910.80450766,  863.3126554 , 1007.91674281,\n",
       "       1073.7376599 , 1088.36690063,  928.89120923, 1248.00224178,\n",
       "       1122.07704101, 1064.28959126, 1138.43755958, 1089.32396421,\n",
       "       1023.4505783 , 1170.36004917, 1752.63498396, 1598.52203318,\n",
       "       1214.09204922, 1077.07758225, 1054.05148851, 1766.74690813,\n",
       "       1085.41814035,  942.31764533, 1483.07651089, 1115.41428863,\n",
       "       1019.02281191,  871.08798877,  897.11449981, 1063.41211177,\n",
       "       1125.52432386, 1087.88469938, 1156.85997657, 1086.88595258,\n",
       "       1281.08440075, 1125.10175078, 1060.52687545, 1194.79391512,\n",
       "       1470.02543397, 1104.25112473,  958.65926839, 1078.84987846,\n",
       "        987.78694052,  912.43231259, 1140.40343373, 1177.31587499,\n",
       "        971.7748649 , 1172.32592332,  822.68581017, 1071.42077683,\n",
       "       1051.67339447,  873.79562205, 1137.70621949,  955.55349326,\n",
       "        882.94008386,  963.05386141, 1181.14211476,  946.38279704,\n",
       "       1711.25744595, 1206.35790119, 1011.29332246, 1075.18195065,\n",
       "        948.93239149, 1024.38334941, 1102.38558251, 1269.28755647,\n",
       "        955.91687893, 1047.53112233, 1009.54167604,  851.49979551,\n",
       "       1271.3647566 , 1121.85830538,  994.65388947,  966.05854555,\n",
       "       1945.0272977 , 1228.44413791,  892.44833128, 1040.87233544,\n",
       "        961.33296924, 1014.99391756, 1011.08086094,  928.50625593,\n",
       "        857.23691149,  993.26475159, 1100.90837958, 1207.14705817,\n",
       "       1145.56874514, 1121.49102391,  936.2955123 , 1843.67235234,\n",
       "        955.82892375,  706.25379974, 1124.08492028, 1091.39715432,\n",
       "        820.13041881, 1275.09815402, 1064.83120029,  797.46781689,\n",
       "       1048.54446518, 1963.44971469, 1221.52489969, 1079.39446533,\n",
       "       1077.26083152, 1050.10977834, 1267.4878512 , 1155.86213951,\n",
       "       1019.17182302, 1019.47877875, 1136.29346208, 1030.93975257,\n",
       "        896.92635964,  947.58057575, 1437.40467961, 1074.30314954,\n",
       "       1831.33107623, 1023.71675684, 1097.29765271, 1154.4174451 ,\n",
       "        581.05866635, 1048.81295671,  942.19380385, 1031.4887005 ,\n",
       "       1498.67824375, 1119.72852656, 1264.21493672, 1026.24889162,\n",
       "       1613.52022384, 1009.00458684, 1664.67239158, 1093.22561928,\n",
       "       1108.10745389, 1302.03047157, 1014.74015274])"
      ]
     },
     "execution_count": 167,
     "metadata": {},
     "output_type": "execute_result"
    }
   ],
   "source": [
    "predictions_submit = laptop_model.predict(test_1st)\n",
    "predictions_submit"
   ]
  },
  {
   "cell_type": "markdown",
   "metadata": {},
   "source": [
    "IMPORTANTE: APLICAR LO MISMO A ESTOS DATOS QUE HAYÁIS APLICADO A LOS DATOS DE ENTRENAMIENTO\n",
    "\n",
    "- SI EL ARRAY CON EL QUE HICISTEIS `.fit()` ERA DE 4 COLUMNAS, PARA `.predict()` DEBEN SER LAS MISMAS\n",
    "- SI AL ARRAY CON EL QUE HICISTEIS `.fit()` LO NORMALIZASTEIS, PARA `.predict()` DEBÉIS NORMALIZARLO\n",
    "- TODO IGUAL SALVO BORRAR FILAS, EL NÚMERO DE ROWS SE DEBE MANTENER EN ESTE SET, PUES LA PREDICCIÓN DEBE TENER 391 FILAS, SI O SI"
   ]
  },
  {
   "cell_type": "markdown",
   "metadata": {},
   "source": [
    "**Entonces, si al cargar los datos de train usé `index_col=0` para que utilizara la primera columna del conjunto de datos como índice, ¿tendré que hacerlo también para el conjunto `test.csv`?**"
   ]
  },
  {
   "cell_type": "code",
   "execution_count": 168,
   "metadata": {},
   "outputs": [],
   "source": [
    "# ¿Qué opináis?\n",
    "# Sí"
   ]
  },
  {
   "cell_type": "markdown",
   "metadata": {},
   "source": [
    "![](https://www.tierraljelechu.com/web/img/wiki_up/1.996-SorpresaDto.-1-Red.jpg)"
   ]
  },
  {
   "cell_type": "markdown",
   "metadata": {},
   "source": [
    "### 3. AHORA puedo hacer la predicción que será lo que subirás a Kaggle. "
   ]
  },
  {
   "cell_type": "markdown",
   "metadata": {},
   "source": [
    "**¿Qué es lo que subirás a Kaggle?**"
   ]
  },
  {
   "cell_type": "code",
   "execution_count": 170,
   "metadata": {},
   "outputs": [
    {
     "data": {
      "text/plain": [
       "array([ 875.35072462,  942.34127296,  939.54295964, 1275.55180787,\n",
       "       1124.87869951, 1061.91252941,  740.95032211, 1538.18509513,\n",
       "       1162.60705017, 1227.03614533,  851.25908039, 1031.00235048,\n",
       "       1122.91143405, 1067.90031813,  932.29516535,  921.84874985,\n",
       "        934.55843755, 1188.4848032 , 1076.95722469, 1033.56682231,\n",
       "       1430.12243103,  999.37961646, 1140.48286714,  967.40948414,\n",
       "        877.0456881 ,  838.57532137, 1096.66500452, 1050.14889931,\n",
       "       1068.77291046, 1220.05540672,  982.61310733,  986.64354368,\n",
       "       1181.35274049, 1185.17409309, 1000.21385882,  873.43454937,\n",
       "        993.71455046, 1243.81991454, 1181.65374054, 1019.99378231,\n",
       "       1799.34142808, 1197.57863197, 1276.42851242, 1287.61709892,\n",
       "       1017.55305775, 1414.34643605, 1177.1139914 , 1204.55448341,\n",
       "       1053.08605383, 1122.84405511, 1485.10720639, 1149.50810151,\n",
       "       1087.64204233, 1293.16392052, 1006.06511933, 1016.04396224,\n",
       "       1106.15785228, 1439.63129451, 1020.26304483, 1083.07193888,\n",
       "       1062.81521112, 1252.8605524 , 1132.14887695, 1171.39315221,\n",
       "       1099.5813216 , 1280.45534634, 1113.58372297, 1352.80180621,\n",
       "       1068.07931248, 1018.78209679,  899.49545745, 1288.85076393,\n",
       "       1853.48149366, 1060.26340984, 1144.24481196, 1028.65604287,\n",
       "       1012.65469587, 1206.72747528, 1013.81734734, 1190.19902132,\n",
       "       1458.35234121, 1071.93229647,  966.87029424, 1754.410258  ,\n",
       "       1084.77789206, 1152.344255  ,  965.42938127, 1128.57480738,\n",
       "       1020.74253315, 1106.41756085, 1006.24138883, 1078.76258812,\n",
       "       1044.95828378,  965.16011875, 1300.2364693 , 1476.58816003,\n",
       "       1017.1271803 ,  919.02188913,  905.75405069, 1018.93716972,\n",
       "        981.70811263,  936.74762415, 1002.775312  ,  928.17214784,\n",
       "       1312.95574314, 1067.14654137, 1119.8724056 ,  953.47732531,\n",
       "       1561.57899675, 1292.83293723,  931.47591898, 1169.58763001,\n",
       "       1122.33054092, 1150.08497652, 1090.17226406, 1295.74123437,\n",
       "        928.47561593, 1804.18813295, 1149.30224871, 1021.40875466,\n",
       "       1088.63036624, 1085.04829291, 1809.09039062,  906.50664458,\n",
       "       1079.21238699, 1021.58041011,  975.7210949 , 1305.27957939,\n",
       "       1094.94148554,  878.66441256, 1109.77854102, 1013.4971988 ,\n",
       "       1220.1996449 , 1058.80920601, 1341.0715704 ,  938.95071757,\n",
       "        875.62538411,  968.42917824,  946.31850209, 1093.29664091,\n",
       "       1017.48990113, 1144.4253483 , 1010.86935806, 1542.81886128,\n",
       "       1062.78280875, 1101.20927349, 1836.63143494, 1215.0844485 ,\n",
       "       1176.41187166,  917.75659273, 1197.77996494, 1274.19323642,\n",
       "        948.24911025, 1034.31372544,  813.33021654, 1011.21040512,\n",
       "        932.71899099, 1175.72602445, 1185.38196958, 1047.6463033 ,\n",
       "       1415.94014157, 1097.20738454, 1163.86772059, 1146.76457   ,\n",
       "        930.72666206, 1943.97416903,  890.86016149, 1100.6815832 ,\n",
       "       1200.05356209,  978.18842493,  890.64917662, 1145.14749368,\n",
       "       1170.24975537,  925.85140979, 1519.13773991,  976.53350845,\n",
       "       1055.55878083, 1047.16758597, 1117.99612668, 1573.55982049,\n",
       "       1144.67068941, 1205.73285681, 1136.93309005, 1081.47063328,\n",
       "       1563.40956241, 1121.58750086, 1297.50490266, 1019.56415975,\n",
       "       1306.49901143,  991.15695226,  845.80206594, 1139.46059886,\n",
       "       1028.38795128,  986.64045969, 1139.46136986, 1088.62702106,\n",
       "       1287.94808222, 1080.77857729,  971.23288854, 1095.31483692,\n",
       "       1952.70637492,  909.30147398,  933.77611339, 1270.76759477,\n",
       "        963.92116663, 1114.28234686, 1139.3468092 ,  945.63287527,\n",
       "       1225.16439434,  949.14455921, 1064.86785759, 1082.40340438,\n",
       "        987.39577844,  909.17659659, 1081.3803651 , 1027.69318237,\n",
       "       1269.74070051, 1086.61103189, 1029.85340971, 1231.46391172,\n",
       "       1021.40449974, 1053.66032643,  974.81158036, 1017.7605995 ,\n",
       "       1196.52061613,  865.81161681, 1114.50267339,  957.36116968,\n",
       "        957.15942484,  973.76722644, 1107.68131525, 1079.84426419,\n",
       "        884.08193871, 1247.70417067, 1073.91665425, 1073.74422781,\n",
       "        962.62527104, 1121.28039818, 1032.95882572, 1128.04896906,\n",
       "       1432.40922471, 1378.36158536,  905.322809  , 1084.77557907,\n",
       "       1083.57689062, 1217.70699841, 1167.27281503, 1158.12825932,\n",
       "       1060.52081362,  983.71958196, 1073.49694478,  899.33880172,\n",
       "       1202.38995662,  931.33230485, 1426.17979494, 1232.30178868,\n",
       "        942.4079135 ,  957.66631851, 1096.84020113, 1085.41234344,\n",
       "        961.33384638,  910.80450766,  863.3126554 , 1007.91674281,\n",
       "       1073.7376599 , 1088.36690063,  928.89120923, 1248.00224178,\n",
       "       1122.07704101, 1064.28959126, 1138.43755958, 1089.32396421,\n",
       "       1023.4505783 , 1170.36004917, 1752.63498396, 1598.52203318,\n",
       "       1214.09204922, 1077.07758225, 1054.05148851, 1766.74690813,\n",
       "       1085.41814035,  942.31764533, 1483.07651089, 1115.41428863,\n",
       "       1019.02281191,  871.08798877,  897.11449981, 1063.41211177,\n",
       "       1125.52432386, 1087.88469938, 1156.85997657, 1086.88595258,\n",
       "       1281.08440075, 1125.10175078, 1060.52687545, 1194.79391512,\n",
       "       1470.02543397, 1104.25112473,  958.65926839, 1078.84987846,\n",
       "        987.78694052,  912.43231259, 1140.40343373, 1177.31587499,\n",
       "        971.7748649 , 1172.32592332,  822.68581017, 1071.42077683,\n",
       "       1051.67339447,  873.79562205, 1137.70621949,  955.55349326,\n",
       "        882.94008386,  963.05386141, 1181.14211476,  946.38279704,\n",
       "       1711.25744595, 1206.35790119, 1011.29332246, 1075.18195065,\n",
       "        948.93239149, 1024.38334941, 1102.38558251, 1269.28755647,\n",
       "        955.91687893, 1047.53112233, 1009.54167604,  851.49979551,\n",
       "       1271.3647566 , 1121.85830538,  994.65388947,  966.05854555,\n",
       "       1945.0272977 , 1228.44413791,  892.44833128, 1040.87233544,\n",
       "        961.33296924, 1014.99391756, 1011.08086094,  928.50625593,\n",
       "        857.23691149,  993.26475159, 1100.90837958, 1207.14705817,\n",
       "       1145.56874514, 1121.49102391,  936.2955123 , 1843.67235234,\n",
       "        955.82892375,  706.25379974, 1124.08492028, 1091.39715432,\n",
       "        820.13041881, 1275.09815402, 1064.83120029,  797.46781689,\n",
       "       1048.54446518, 1963.44971469, 1221.52489969, 1079.39446533,\n",
       "       1077.26083152, 1050.10977834, 1267.4878512 , 1155.86213951,\n",
       "       1019.17182302, 1019.47877875, 1136.29346208, 1030.93975257,\n",
       "        896.92635964,  947.58057575, 1437.40467961, 1074.30314954,\n",
       "       1831.33107623, 1023.71675684, 1097.29765271, 1154.4174451 ,\n",
       "        581.05866635, 1048.81295671,  942.19380385, 1031.4887005 ,\n",
       "       1498.67824375, 1119.72852656, 1264.21493672, 1026.24889162,\n",
       "       1613.52022384, 1009.00458684, 1664.67239158, 1093.22561928,\n",
       "       1108.10745389, 1302.03047157, 1014.74015274])"
      ]
     },
     "execution_count": 170,
     "metadata": {},
     "output_type": "execute_result"
    }
   ],
   "source": [
    "predictions_submit = laptop_model.predict(test_1st)\n",
    "predictions_submit"
   ]
  },
  {
   "cell_type": "markdown",
   "metadata": {},
   "source": [
    "**¡PERO! Para subir a Kaggle la predicción, ésta tendrá que tener una forma específica y no valdrá otra.**\n",
    "\n",
    "En este caso, la **MISMA** forma que `sample_submission.csv`. "
   ]
  },
  {
   "cell_type": "code",
   "execution_count": 176,
   "metadata": {},
   "outputs": [
    {
     "data": {
      "text/html": [
       "<div>\n",
       "<style scoped>\n",
       "    .dataframe tbody tr th:only-of-type {\n",
       "        vertical-align: middle;\n",
       "    }\n",
       "\n",
       "    .dataframe tbody tr th {\n",
       "        vertical-align: top;\n",
       "    }\n",
       "\n",
       "    .dataframe thead th {\n",
       "        text-align: right;\n",
       "    }\n",
       "</style>\n",
       "<table border=\"1\" class=\"dataframe\">\n",
       "  <thead>\n",
       "    <tr style=\"text-align: right;\">\n",
       "      <th></th>\n",
       "      <th>laptop_ID</th>\n",
       "      <th>Inches</th>\n",
       "      <th>OpSys</th>\n",
       "      <th>Weight</th>\n",
       "    </tr>\n",
       "  </thead>\n",
       "  <tbody>\n",
       "    <tr>\n",
       "      <th>0</th>\n",
       "      <td>750</td>\n",
       "      <td>14.0</td>\n",
       "      <td>1</td>\n",
       "      <td>1.25</td>\n",
       "    </tr>\n",
       "    <tr>\n",
       "      <th>1</th>\n",
       "      <td>726</td>\n",
       "      <td>14.0</td>\n",
       "      <td>1</td>\n",
       "      <td>1.40</td>\n",
       "    </tr>\n",
       "    <tr>\n",
       "      <th>2</th>\n",
       "      <td>633</td>\n",
       "      <td>14.0</td>\n",
       "      <td>1</td>\n",
       "      <td>1.40</td>\n",
       "    </tr>\n",
       "    <tr>\n",
       "      <th>3</th>\n",
       "      <td>363</td>\n",
       "      <td>15.6</td>\n",
       "      <td>1</td>\n",
       "      <td>2.65</td>\n",
       "    </tr>\n",
       "    <tr>\n",
       "      <th>4</th>\n",
       "      <td>319</td>\n",
       "      <td>11.6</td>\n",
       "      <td>1</td>\n",
       "      <td>1.10</td>\n",
       "    </tr>\n",
       "  </tbody>\n",
       "</table>\n",
       "</div>"
      ],
      "text/plain": [
       "   laptop_ID  Inches  OpSys  Weight\n",
       "0        750    14.0      1    1.25\n",
       "1        726    14.0      1    1.40\n",
       "2        633    14.0      1    1.40\n",
       "3        363    15.6      1    2.65\n",
       "4        319    11.6      1    1.10"
      ]
     },
     "execution_count": 176,
     "metadata": {},
     "output_type": "execute_result"
    }
   ],
   "source": [
    "test_1st.head()"
   ]
  },
  {
   "cell_type": "code",
   "execution_count": 171,
   "metadata": {},
   "outputs": [],
   "source": [
    "sample = pd.read_csv(\"data/sample_submission.csv\")"
   ]
  },
  {
   "cell_type": "code",
   "execution_count": 172,
   "metadata": {},
   "outputs": [
    {
     "data": {
      "text/html": [
       "<div>\n",
       "<style scoped>\n",
       "    .dataframe tbody tr th:only-of-type {\n",
       "        vertical-align: middle;\n",
       "    }\n",
       "\n",
       "    .dataframe tbody tr th {\n",
       "        vertical-align: top;\n",
       "    }\n",
       "\n",
       "    .dataframe thead th {\n",
       "        text-align: right;\n",
       "    }\n",
       "</style>\n",
       "<table border=\"1\" class=\"dataframe\">\n",
       "  <thead>\n",
       "    <tr style=\"text-align: right;\">\n",
       "      <th></th>\n",
       "      <th>laptop_ID</th>\n",
       "      <th>Price_euros</th>\n",
       "    </tr>\n",
       "  </thead>\n",
       "  <tbody>\n",
       "    <tr>\n",
       "      <th>0</th>\n",
       "      <td>750</td>\n",
       "      <td>500</td>\n",
       "    </tr>\n",
       "    <tr>\n",
       "      <th>1</th>\n",
       "      <td>726</td>\n",
       "      <td>500</td>\n",
       "    </tr>\n",
       "    <tr>\n",
       "      <th>2</th>\n",
       "      <td>633</td>\n",
       "      <td>500</td>\n",
       "    </tr>\n",
       "    <tr>\n",
       "      <th>3</th>\n",
       "      <td>363</td>\n",
       "      <td>650</td>\n",
       "    </tr>\n",
       "    <tr>\n",
       "      <th>4</th>\n",
       "      <td>319</td>\n",
       "      <td>650</td>\n",
       "    </tr>\n",
       "  </tbody>\n",
       "</table>\n",
       "</div>"
      ],
      "text/plain": [
       "   laptop_ID  Price_euros\n",
       "0        750          500\n",
       "1        726          500\n",
       "2        633          500\n",
       "3        363          650\n",
       "4        319          650"
      ]
     },
     "execution_count": 172,
     "metadata": {},
     "output_type": "execute_result"
    }
   ],
   "source": [
    "sample.head()"
   ]
  },
  {
   "cell_type": "code",
   "execution_count": 173,
   "metadata": {},
   "outputs": [
    {
     "data": {
      "text/plain": [
       "(391, 2)"
      ]
     },
     "execution_count": 173,
     "metadata": {},
     "output_type": "execute_result"
    }
   ],
   "source": [
    "sample.shape"
   ]
  },
  {
   "cell_type": "markdown",
   "metadata": {},
   "source": [
    "### 4. Mete tus predicciones en un dataframe. \n",
    "\n",
    "En este caso, la **MISMA** forma que `sample_submission.csv`. "
   ]
  },
  {
   "cell_type": "code",
   "execution_count": 174,
   "metadata": {},
   "outputs": [],
   "source": [
    "submission = pd.DataFrame({\"laptop_ID\": sample[\"laptop_ID\"], \"Price_euros\": predictions_submit})\n",
    "# cuando haya eliminado columnas, el laptop ID será del csv que tenga los datos limpios ( que coincida laptop id con los datos que nos hemos quedado)"
   ]
  },
  {
   "cell_type": "code",
   "execution_count": 175,
   "metadata": {},
   "outputs": [
    {
     "data": {
      "text/html": [
       "<div>\n",
       "<style scoped>\n",
       "    .dataframe tbody tr th:only-of-type {\n",
       "        vertical-align: middle;\n",
       "    }\n",
       "\n",
       "    .dataframe tbody tr th {\n",
       "        vertical-align: top;\n",
       "    }\n",
       "\n",
       "    .dataframe thead th {\n",
       "        text-align: right;\n",
       "    }\n",
       "</style>\n",
       "<table border=\"1\" class=\"dataframe\">\n",
       "  <thead>\n",
       "    <tr style=\"text-align: right;\">\n",
       "      <th></th>\n",
       "      <th>laptop_ID</th>\n",
       "      <th>Price_euros</th>\n",
       "    </tr>\n",
       "  </thead>\n",
       "  <tbody>\n",
       "    <tr>\n",
       "      <th>0</th>\n",
       "      <td>750</td>\n",
       "      <td>875.350725</td>\n",
       "    </tr>\n",
       "    <tr>\n",
       "      <th>1</th>\n",
       "      <td>726</td>\n",
       "      <td>942.341273</td>\n",
       "    </tr>\n",
       "    <tr>\n",
       "      <th>2</th>\n",
       "      <td>633</td>\n",
       "      <td>939.542960</td>\n",
       "    </tr>\n",
       "    <tr>\n",
       "      <th>3</th>\n",
       "      <td>363</td>\n",
       "      <td>1275.551808</td>\n",
       "    </tr>\n",
       "    <tr>\n",
       "      <th>4</th>\n",
       "      <td>319</td>\n",
       "      <td>1124.878700</td>\n",
       "    </tr>\n",
       "  </tbody>\n",
       "</table>\n",
       "</div>"
      ],
      "text/plain": [
       "   laptop_ID  Price_euros\n",
       "0        750   875.350725\n",
       "1        726   942.341273\n",
       "2        633   939.542960\n",
       "3        363  1275.551808\n",
       "4        319  1124.878700"
      ]
     },
     "execution_count": 175,
     "metadata": {},
     "output_type": "execute_result"
    }
   ],
   "source": [
    "submission.head()"
   ]
  },
  {
   "cell_type": "code",
   "execution_count": 177,
   "metadata": {},
   "outputs": [
    {
     "data": {
      "text/plain": [
       "(391, 2)"
      ]
     },
     "execution_count": 177,
     "metadata": {},
     "output_type": "execute_result"
    }
   ],
   "source": [
    "submission.shape"
   ]
  },
  {
   "cell_type": "markdown",
   "metadata": {},
   "source": [
    "### 5. Pásale el CHEQUEATOR para comprobar que efectivamente está listo para subir a Kaggle."
   ]
  },
  {
   "cell_type": "code",
   "execution_count": 178,
   "metadata": {},
   "outputs": [],
   "source": [
    "def chequeator(df_to_submit):\n",
    "    \"\"\"\n",
    "    Esta función se asegura de que tu submission tenga la forma requerida por Kaggle.\n",
    "    \n",
    "    Si es así, se guardará el dataframe en un `csv` y estará listo para subir a Kaggle.\n",
    "    \n",
    "    Si no, LEE EL MENSAJE Y HAZLE CASO.\n",
    "    \n",
    "    Si aún no:\n",
    "    - apaga tu ordenador, \n",
    "    - date una vuelta, \n",
    "    - enciendelo otra vez, \n",
    "    - abre este notebook y \n",
    "    - leelo todo de nuevo. \n",
    "    Todos nos merecemos una segunda oportunidad. También tú.\n",
    "    \"\"\"\n",
    "    if df_to_submit.shape == sample.shape:\n",
    "        if df_to_submit.columns.all() == sample.columns.all():\n",
    "            if df_to_submit.laptop_ID.all() == sample.laptop_ID.all():\n",
    "                print(\"You're ready to submit!\")\n",
    "                submission.to_csv(\"submission1.csv\", index = False) #muy importante el index = False\n",
    "                urllib.request.urlretrieve(\"https://i.kym-cdn.com/photos/images/facebook/000/747/556/27a.jpg\", \"gfg.png\")     \n",
    "                img = Image.open(\"gfg.png\")\n",
    "                img.show()   \n",
    "            else:\n",
    "                print(\"Check the ids and try again\")\n",
    "        else:\n",
    "            print(\"Check the names of the columns and try again\")\n",
    "    else:\n",
    "        print(\"Check the number of rows and/or columns and try again\")\n",
    "        print(\"\\nMensaje secreto de Clara: No me puedo creer que después de todo este notebook hayas hecho algún cambio en las filas de `diamonds_test.csv`. Lloro.\")\n"
   ]
  },
  {
   "cell_type": "code",
   "execution_count": 179,
   "metadata": {},
   "outputs": [
    {
     "name": "stdout",
     "output_type": "stream",
     "text": [
      "You're ready to submit!\n"
     ]
    }
   ],
   "source": [
    "chequeator(submission)"
   ]
  },
  {
   "cell_type": "code",
   "execution_count": null,
   "metadata": {},
   "outputs": [],
   "source": []
  }
 ],
 "metadata": {
  "kernelspec": {
   "display_name": "Python 3",
   "language": "python",
   "name": "python3"
  },
  "language_info": {
   "codemirror_mode": {
    "name": "ipython",
    "version": 3
   },
   "file_extension": ".py",
   "mimetype": "text/x-python",
   "name": "python",
   "nbconvert_exporter": "python",
   "pygments_lexer": "ipython3",
   "version": "3.7.4"
  }
 },
 "nbformat": 4,
 "nbformat_minor": 4
}
