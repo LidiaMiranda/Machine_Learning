{
 "cells": [
  {
   "attachments": {},
   "cell_type": "markdown",
   "metadata": {},
   "source": [
    "# Pipelines, ML Wrap-Up y AutoML\n",
    "Los Pipelines son un tipo de objeto compuesto de Sklearn que facilitan mucho el trabajo repetitivo de procesado y entrenamiento. Se construyen como una secuencia de \"transformadores\" (modelos, preprocesadores, etc) que se aplican uno detrás de otro y a los que se pueden añadir selección por columnas y funciones diseñadas por el usuario."
   ]
  },
  {
   "cell_type": "code",
<<<<<<< HEAD
   "execution_count": 114,
=======
   "execution_count": 19,
>>>>>>> upstream/main
   "metadata": {},
   "outputs": [],
   "source": [
    "# Primero el pipeline más sencillo imputer y scaler comparado con ir haciendo una función que lo hace todo\n",
    "# Selección por columnas\n",
    "# Funciones personalizadas\n",
    "# Meter un modelo\n",
    "# Usar el grid_search\n",
    "# Guardar el modelo mejor -> Para la sesión de AutoML"
   ]
  },
  {
   "cell_type": "code",
<<<<<<< HEAD
   "execution_count": 115,
   "metadata": {},
   "outputs": [],
   "source": [
    "import pandas as pd"
   ]
  },
  {
   "cell_type": "code",
   "execution_count": 116,
=======
   "execution_count": 20,
>>>>>>> upstream/main
   "metadata": {
    "tags": []
   },
   "outputs": [],
   "source": [
    "def data_report(df):\n",
    "    '''Esta funcion describe los campos de un dataframe de pandas de forma bastante clara, crack'''\n",
    "    # Sacamos los NOMBRES\n",
    "    cols = pd.DataFrame(df.columns.values, columns=[\"COL_N\"])\n",
    "\n",
    "    # Sacamos los TIPOS\n",
    "    types = pd.DataFrame(df.dtypes.values, columns=[\"DATA_TYPE\"])\n",
    "\n",
    "    # Sacamos los MISSINGS\n",
    "    percent_missing = round(df.isnull().sum() * 100 / len(df), 2)\n",
    "    percent_missing_df = pd.DataFrame(percent_missing.values, columns=[\"MISSINGS (%)\"])\n",
    "\n",
    "    # Sacamos los VALORES UNICOS\n",
    "    unicos = pd.DataFrame(df.nunique().values, columns=[\"UNIQUE_VALUES\"])\n",
    "    \n",
    "    percent_cardin = round(unicos['UNIQUE_VALUES']*100/len(df), 2)\n",
    "    percent_cardin_df = pd.DataFrame(percent_cardin.values, columns=[\"CARDIN (%)\"])\n",
    "\n",
    "    concatenado = pd.concat([cols, types, percent_missing_df, unicos, percent_cardin_df], axis=1, sort=False)\n",
    "    concatenado.set_index('COL_N', drop=True, inplace=True)\n",
    "\n",
    "\n",
    "    return concatenado.T"
   ]
  },
  {
   "attachments": {},
   "cell_type": "markdown",
   "metadata": {
    "tags": []
   },
   "source": [
    "## Datos de Partida  \n",
    "Sí, my heart will go on"
   ]
  },
  {
   "cell_type": "code",
<<<<<<< HEAD
   "execution_count": 117,
=======
   "execution_count": 21,
>>>>>>> upstream/main
   "metadata": {
    "tags": []
   },
   "outputs": [],
   "source": [
    "import numpy as np\n",
    "import pandas as pd\n",
    "import seaborn as sns\n",
    "\n",
    "from matplotlib import pyplot as plt\n",
    "from sklearn.metrics import accuracy_score"
   ]
  },
  {
   "cell_type": "code",
<<<<<<< HEAD
   "execution_count": 118,
=======
   "execution_count": 22,
>>>>>>> upstream/main
   "metadata": {},
   "outputs": [],
   "source": [
    "train = pd.read_csv(\"titanic_train.csv\")\n",
    "test = pd.read_csv(\"titanic_test.csv\")"
   ]
  },
  {
   "cell_type": "code",
<<<<<<< HEAD
   "execution_count": 119,
=======
   "execution_count": 23,
>>>>>>> upstream/main
   "metadata": {
    "tags": []
   },
   "outputs": [
    {
     "data": {
      "text/html": [
       "<div>\n",
       "<style scoped>\n",
       "    .dataframe tbody tr th:only-of-type {\n",
       "        vertical-align: middle;\n",
       "    }\n",
       "\n",
       "    .dataframe tbody tr th {\n",
       "        vertical-align: top;\n",
       "    }\n",
       "\n",
       "    .dataframe thead th {\n",
       "        text-align: right;\n",
       "    }\n",
       "</style>\n",
       "<table border=\"1\" class=\"dataframe\">\n",
       "  <thead>\n",
       "    <tr style=\"text-align: right;\">\n",
       "      <th></th>\n",
       "      <th>PassengerId</th>\n",
       "      <th>Survived</th>\n",
       "      <th>Pclass</th>\n",
       "      <th>Name</th>\n",
       "      <th>Sex</th>\n",
       "      <th>Age</th>\n",
       "      <th>SibSp</th>\n",
       "      <th>Parch</th>\n",
       "      <th>Ticket</th>\n",
       "      <th>Fare</th>\n",
       "      <th>Cabin</th>\n",
       "      <th>Embarked</th>\n",
       "    </tr>\n",
       "  </thead>\n",
       "  <tbody>\n",
       "    <tr>\n",
       "      <th>0</th>\n",
       "      <td>1</td>\n",
       "      <td>0</td>\n",
       "      <td>3</td>\n",
       "      <td>Braund, Mr. Owen Harris</td>\n",
       "      <td>male</td>\n",
       "      <td>22.0</td>\n",
       "      <td>1</td>\n",
       "      <td>0</td>\n",
       "      <td>A/5 21171</td>\n",
       "      <td>7.2500</td>\n",
       "      <td>NaN</td>\n",
       "      <td>S</td>\n",
       "    </tr>\n",
       "    <tr>\n",
       "      <th>1</th>\n",
       "      <td>2</td>\n",
       "      <td>1</td>\n",
       "      <td>1</td>\n",
       "      <td>Cumings, Mrs. John Bradley (Florence Briggs Th...</td>\n",
       "      <td>female</td>\n",
       "      <td>38.0</td>\n",
       "      <td>1</td>\n",
       "      <td>0</td>\n",
       "      <td>PC 17599</td>\n",
       "      <td>71.2833</td>\n",
       "      <td>C85</td>\n",
       "      <td>C</td>\n",
       "    </tr>\n",
       "    <tr>\n",
       "      <th>2</th>\n",
       "      <td>3</td>\n",
       "      <td>1</td>\n",
       "      <td>3</td>\n",
       "      <td>Heikkinen, Miss. Laina</td>\n",
       "      <td>female</td>\n",
       "      <td>26.0</td>\n",
       "      <td>0</td>\n",
       "      <td>0</td>\n",
       "      <td>STON/O2. 3101282</td>\n",
       "      <td>7.9250</td>\n",
       "      <td>NaN</td>\n",
       "      <td>S</td>\n",
       "    </tr>\n",
       "    <tr>\n",
       "      <th>3</th>\n",
       "      <td>4</td>\n",
       "      <td>1</td>\n",
       "      <td>1</td>\n",
       "      <td>Futrelle, Mrs. Jacques Heath (Lily May Peel)</td>\n",
       "      <td>female</td>\n",
       "      <td>35.0</td>\n",
       "      <td>1</td>\n",
       "      <td>0</td>\n",
       "      <td>113803</td>\n",
       "      <td>53.1000</td>\n",
       "      <td>C123</td>\n",
       "      <td>S</td>\n",
       "    </tr>\n",
       "    <tr>\n",
       "      <th>4</th>\n",
       "      <td>5</td>\n",
       "      <td>0</td>\n",
       "      <td>3</td>\n",
       "      <td>Allen, Mr. William Henry</td>\n",
       "      <td>male</td>\n",
       "      <td>35.0</td>\n",
       "      <td>0</td>\n",
       "      <td>0</td>\n",
       "      <td>373450</td>\n",
       "      <td>8.0500</td>\n",
       "      <td>NaN</td>\n",
       "      <td>S</td>\n",
       "    </tr>\n",
       "  </tbody>\n",
       "</table>\n",
       "</div>"
      ],
      "text/plain": [
       "   PassengerId  Survived  Pclass   \n",
       "0            1         0       3  \\\n",
       "1            2         1       1   \n",
       "2            3         1       3   \n",
       "3            4         1       1   \n",
       "4            5         0       3   \n",
       "\n",
       "                                                Name     Sex   Age  SibSp   \n",
       "0                            Braund, Mr. Owen Harris    male  22.0      1  \\\n",
       "1  Cumings, Mrs. John Bradley (Florence Briggs Th...  female  38.0      1   \n",
       "2                             Heikkinen, Miss. Laina  female  26.0      0   \n",
       "3       Futrelle, Mrs. Jacques Heath (Lily May Peel)  female  35.0      1   \n",
       "4                           Allen, Mr. William Henry    male  35.0      0   \n",
       "\n",
       "   Parch            Ticket     Fare Cabin Embarked  \n",
       "0      0         A/5 21171   7.2500   NaN        S  \n",
       "1      0          PC 17599  71.2833   C85        C  \n",
       "2      0  STON/O2. 3101282   7.9250   NaN        S  \n",
       "3      0            113803  53.1000  C123        S  \n",
       "4      0            373450   8.0500   NaN        S  "
      ]
     },
<<<<<<< HEAD
     "execution_count": 119,
=======
     "execution_count": 23,
>>>>>>> upstream/main
     "metadata": {},
     "output_type": "execute_result"
    }
   ],
   "source": [
    "train.head()"
   ]
  },
  {
   "cell_type": "code",
<<<<<<< HEAD
   "execution_count": 120,
=======
   "execution_count": 24,
>>>>>>> upstream/main
   "metadata": {
    "tags": []
   },
   "outputs": [
    {
     "name": "stdout",
     "output_type": "stream",
     "text": [
      "<class 'pandas.core.frame.DataFrame'>\n",
      "RangeIndex: 891 entries, 0 to 890\n",
      "Data columns (total 12 columns):\n",
      " #   Column       Non-Null Count  Dtype  \n",
      "---  ------       --------------  -----  \n",
      " 0   PassengerId  891 non-null    int64  \n",
      " 1   Survived     891 non-null    int64  \n",
      " 2   Pclass       891 non-null    int64  \n",
      " 3   Name         891 non-null    object \n",
      " 4   Sex          891 non-null    object \n",
      " 5   Age          714 non-null    float64\n",
      " 6   SibSp        891 non-null    int64  \n",
      " 7   Parch        891 non-null    int64  \n",
      " 8   Ticket       891 non-null    object \n",
      " 9   Fare         891 non-null    float64\n",
      " 10  Cabin        204 non-null    object \n",
      " 11  Embarked     889 non-null    object \n",
      "dtypes: float64(2), int64(5), object(5)\n",
      "memory usage: 83.7+ KB\n"
     ]
    }
   ],
   "source": [
    "train.info()"
   ]
  },
  {
   "cell_type": "code",
<<<<<<< HEAD
   "execution_count": 121,
=======
   "execution_count": 25,
>>>>>>> upstream/main
   "metadata": {
    "tags": []
   },
   "outputs": [
    {
     "data": {
      "text/plain": [
<<<<<<< HEAD
       "<seaborn.axisgrid.PairGrid at 0x1f2ea9da588>"
      ]
     },
     "execution_count": 121,
=======
       "<seaborn.axisgrid.PairGrid at 0x20e29767280>"
      ]
     },
     "execution_count": 25,
>>>>>>> upstream/main
     "metadata": {},
     "output_type": "execute_result"
    },
    {
     "data": {
<<<<<<< HEAD
      "image/png": "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",
=======
      "image/png": "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",
>>>>>>> upstream/main
      "text/plain": [
       "<Figure size 1080x1080 with 42 Axes>"
      ]
     },
     "metadata": {
      "needs_background": "light"
     },
     "output_type": "display_data"
    }
   ],
   "source": [
    "sns.pairplot(train.drop([\"Name\",\"PassengerId\"],axis = 1))"
   ]
  },
  {
   "cell_type": "code",
<<<<<<< HEAD
   "execution_count": 122,
=======
   "execution_count": 26,
>>>>>>> upstream/main
   "metadata": {
    "tags": []
   },
   "outputs": [
    {
     "data": {
      "text/html": [
       "<div>\n",
       "<style scoped>\n",
       "    .dataframe tbody tr th:only-of-type {\n",
       "        vertical-align: middle;\n",
       "    }\n",
       "\n",
       "    .dataframe tbody tr th {\n",
       "        vertical-align: top;\n",
       "    }\n",
       "\n",
       "    .dataframe thead th {\n",
       "        text-align: right;\n",
       "    }\n",
       "</style>\n",
       "<table border=\"1\" class=\"dataframe\">\n",
       "  <thead>\n",
       "    <tr style=\"text-align: right;\">\n",
       "      <th>COL_N</th>\n",
       "      <th>PassengerId</th>\n",
       "      <th>Survived</th>\n",
       "      <th>Pclass</th>\n",
       "      <th>Name</th>\n",
       "      <th>Sex</th>\n",
       "      <th>Age</th>\n",
       "      <th>SibSp</th>\n",
       "      <th>Parch</th>\n",
       "      <th>Ticket</th>\n",
       "      <th>Fare</th>\n",
       "      <th>Cabin</th>\n",
       "      <th>Embarked</th>\n",
       "    </tr>\n",
       "  </thead>\n",
       "  <tbody>\n",
       "    <tr>\n",
       "      <th>DATA_TYPE</th>\n",
       "      <td>int64</td>\n",
       "      <td>int64</td>\n",
       "      <td>int64</td>\n",
       "      <td>object</td>\n",
       "      <td>object</td>\n",
       "      <td>float64</td>\n",
       "      <td>int64</td>\n",
       "      <td>int64</td>\n",
       "      <td>object</td>\n",
       "      <td>float64</td>\n",
       "      <td>object</td>\n",
       "      <td>object</td>\n",
       "    </tr>\n",
       "    <tr>\n",
       "      <th>MISSINGS (%)</th>\n",
       "      <td>0.0</td>\n",
       "      <td>0.0</td>\n",
       "      <td>0.0</td>\n",
       "      <td>0.0</td>\n",
       "      <td>0.0</td>\n",
       "      <td>19.87</td>\n",
       "      <td>0.0</td>\n",
       "      <td>0.0</td>\n",
       "      <td>0.0</td>\n",
       "      <td>0.0</td>\n",
       "      <td>77.1</td>\n",
       "      <td>0.22</td>\n",
       "    </tr>\n",
       "    <tr>\n",
       "      <th>UNIQUE_VALUES</th>\n",
       "      <td>891</td>\n",
       "      <td>2</td>\n",
       "      <td>3</td>\n",
       "      <td>891</td>\n",
       "      <td>2</td>\n",
       "      <td>88</td>\n",
       "      <td>7</td>\n",
       "      <td>7</td>\n",
       "      <td>681</td>\n",
       "      <td>248</td>\n",
       "      <td>147</td>\n",
       "      <td>3</td>\n",
       "    </tr>\n",
       "    <tr>\n",
       "      <th>CARDIN (%)</th>\n",
       "      <td>100.0</td>\n",
       "      <td>0.22</td>\n",
       "      <td>0.34</td>\n",
       "      <td>100.0</td>\n",
       "      <td>0.22</td>\n",
       "      <td>9.88</td>\n",
       "      <td>0.79</td>\n",
       "      <td>0.79</td>\n",
       "      <td>76.43</td>\n",
       "      <td>27.83</td>\n",
       "      <td>16.5</td>\n",
       "      <td>0.34</td>\n",
       "    </tr>\n",
       "  </tbody>\n",
       "</table>\n",
       "</div>"
      ],
      "text/plain": [
       "COL_N         PassengerId Survived Pclass    Name     Sex      Age  SibSp   \n",
       "DATA_TYPE           int64    int64  int64  object  object  float64  int64  \\\n",
       "MISSINGS (%)          0.0      0.0    0.0     0.0     0.0    19.87    0.0   \n",
       "UNIQUE_VALUES         891        2      3     891       2       88      7   \n",
       "CARDIN (%)          100.0     0.22   0.34   100.0    0.22     9.88   0.79   \n",
       "\n",
       "COL_N          Parch  Ticket     Fare   Cabin Embarked  \n",
       "DATA_TYPE      int64  object  float64  object   object  \n",
       "MISSINGS (%)     0.0     0.0      0.0    77.1     0.22  \n",
       "UNIQUE_VALUES      7     681      248     147        3  \n",
       "CARDIN (%)      0.79   76.43    27.83    16.5     0.34  "
      ]
     },
<<<<<<< HEAD
     "execution_count": 122,
=======
     "execution_count": 26,
>>>>>>> upstream/main
     "metadata": {},
     "output_type": "execute_result"
    }
   ],
   "source": [
    "data_report(train)"
   ]
  },
  {
   "attachments": {},
   "cell_type": "markdown",
   "metadata": {
    "tags": []
   },
   "source": [
    "## LIMPIEZA INICIAL  \n",
    "(Aquí todavía no pienso en Pipelines, ni en splits)"
   ]
  },
  {
   "attachments": {},
   "cell_type": "markdown",
   "metadata": {
    "tags": []
   },
   "source": [
    "Nos apuntamos las columnas que son identificadores unicos para descartarlos posteriormente"
   ]
  },
  {
   "cell_type": "code",
<<<<<<< HEAD
   "execution_count": 123,
=======
   "execution_count": 27,
>>>>>>> upstream/main
   "metadata": {
    "tags": []
   },
   "outputs": [],
   "source": [
    "columns_to_exclude = [\"PassengerId\",\"Name\"]"
   ]
  },
  {
   "attachments": {},
   "cell_type": "markdown",
   "metadata": {},
   "source": [
    "Tenemos que tomar una decisión respecto a cuatro features, debido a su nivel de \"nulos\", o su cardinaliad siendo \"textual\"/\"categórica\": __Age, Cabin, Ticket, Embarked.__\n",
    "__Fare__ podría ser discutible por su cardinalidad (27.83) pero es numérica, sin missings, nos las quedamos."
   ]
  },
  {
   "attachments": {},
   "cell_type": "markdown",
   "metadata": {
    "tags": []
   },
   "source": [
    "### Age"
   ]
  },
  {
   "attachments": {},
   "cell_type": "markdown",
   "metadata": {},
   "source": [
    "Esta suficientemente informada?"
   ]
  },
  {
   "cell_type": "code",
<<<<<<< HEAD
   "execution_count": 124,
=======
   "execution_count": 28,
>>>>>>> upstream/main
   "metadata": {
    "tags": []
   },
   "outputs": [
    {
     "name": "stdout",
     "output_type": "stream",
     "text": [
      "0.8013468013468014\n"
     ]
    }
   ],
   "source": [
    "print(len(train[train.Age.isna() == False])/len(train)) # hay un 80 de filas con datos. un 20% de NaN"
   ]
  },
  {
   "attachments": {},
   "cell_type": "markdown",
   "metadata": {},
   "source": [
    "Un 80% tiene buena pinta si la variables es continua o categorica como para hacer una imputación.\n",
    "Como es continua pero entera (no hay decimales) podemos imputarle la media redondeada, convertirla a categorica con tramos iguales (binning) y escoger la moda de esos binnings.   \n",
    "Para este ejeplo le imputaremos la media.\n",
    "Pero no lo hacemos ya, esperamos a tener toda la estrategia de imputación/drop clara... O hazlo ya impaciente, si eres de los que le gusta ir para arriba y para abajo :-)"
   ]
  },
  {
   "attachments": {},
   "cell_type": "markdown",
   "metadata": {
    "tags": []
   },
   "source": [
    "### Embarked"
   ]
  },
  {
   "attachments": {},
   "cell_type": "markdown",
   "metadata": {
    "tags": []
   },
   "source": [
    "Esta casi completamente informada, así que la quiero conservar.  \n",
    "Tenemos que decidir qué hacemos con los dos valores faltantes:\n",
    "- Puedo hacer una imputación a la categoría más frecuente\n",
    "- Puedo \"prescindir\" de las filas en las que falta esta feature (ojo tendré que hacerlo luego posteriormente con cada instancia que me viniera sin este dato, por eso no suele ser aconsejable este método si queremos dar una \"etiqueta\"/Prediccion/f(x) para todas las instancias que nos lleguen en el futuro)\n",
    "- Puedo prescindir de la columna"
   ]
  },
  {
   "attachments": {},
   "cell_type": "markdown",
   "metadata": {
    "tags": []
   },
   "source": [
    "Faltando tan pocos valores lo más práctico es imputar, pero si fueran valores más altos (más de un 20%, pero la experiencia ya os dirá el número para el campo de dominio que trabajéis), es bueno ver si es fácil imputar y si es informativa la feature"
   ]
  },
  {
   "cell_type": "code",
<<<<<<< HEAD
   "execution_count": 125,
=======
   "execution_count": 29,
>>>>>>> upstream/main
   "metadata": {
    "tags": []
   },
   "outputs": [
    {
     "data": {
      "text/plain": [
       "Embarked\n",
       "S    644\n",
       "C    168\n",
       "Q     77\n",
       "Name: count, dtype: int64"
      ]
     },
<<<<<<< HEAD
     "execution_count": 125,
=======
     "execution_count": 29,
>>>>>>> upstream/main
     "metadata": {},
     "output_type": "execute_result"
    }
   ],
   "source": [
    "train.Embarked.value_counts()"
   ]
  },
  {
   "attachments": {},
   "cell_type": "markdown",
   "metadata": {},
   "source": [
    "Solo tres clases, imputariamos además S a los valores faltantes (la más frecuente)"
   ]
  },
  {
   "attachments": {},
   "cell_type": "markdown",
   "metadata": {
    "tags": []
   },
   "source": [
    "¿Es informativa? Lo mejor es hacer un test estadístico contra el target o calcular su information value. Ahora lo vamos a hacer a \"ojimetro\""
   ]
  },
  {
   "cell_type": "code",
<<<<<<< HEAD
   "execution_count": 126,
=======
   "execution_count": 30,
>>>>>>> upstream/main
   "metadata": {
    "tags": []
   },
   "outputs": [
    {
     "data": {
      "text/plain": [
       "Survived\n",
       "0    0.663043\n",
       "1    0.336957\n",
       "Name: proportion, dtype: float64"
      ]
     },
<<<<<<< HEAD
     "execution_count": 126,
=======
     "execution_count": 30,
>>>>>>> upstream/main
     "metadata": {},
     "output_type": "execute_result"
    }
   ],
   "source": [
    "train[train.Embarked == \"S\"].Survived.value_counts(True)"
   ]
  },
  {
   "cell_type": "code",
<<<<<<< HEAD
   "execution_count": 127,
=======
   "execution_count": 31,
>>>>>>> upstream/main
   "metadata": {
    "tags": []
   },
   "outputs": [
    {
     "data": {
      "text/plain": [
       "Survived\n",
       "1    0.553571\n",
       "0    0.446429\n",
       "Name: proportion, dtype: float64"
      ]
     },
<<<<<<< HEAD
     "execution_count": 127,
=======
     "execution_count": 31,
>>>>>>> upstream/main
     "metadata": {},
     "output_type": "execute_result"
    }
   ],
   "source": [
    "train[train.Embarked == \"C\"].Survived.value_counts(True)"
   ]
  },
  {
   "cell_type": "code",
<<<<<<< HEAD
   "execution_count": 128,
=======
   "execution_count": 32,
>>>>>>> upstream/main
   "metadata": {
    "tags": []
   },
   "outputs": [
    {
     "data": {
      "text/plain": [
       "Survived\n",
       "0    0.61039\n",
       "1    0.38961\n",
       "Name: proportion, dtype: float64"
      ]
     },
<<<<<<< HEAD
     "execution_count": 128,
=======
     "execution_count": 32,
>>>>>>> upstream/main
     "metadata": {},
     "output_type": "execute_result"
    }
   ],
   "source": [
    "train[train.Embarked == \"Q\"].Survived.value_counts(True)"
   ]
  },
  {
   "cell_type": "code",
<<<<<<< HEAD
   "execution_count": 129,
=======
   "execution_count": 33,
>>>>>>> upstream/main
   "metadata": {
    "tags": []
   },
   "outputs": [
    {
     "data": {
      "text/plain": [
       "Survived\n",
       "0    0.616162\n",
       "1    0.383838\n",
       "Name: proportion, dtype: float64"
      ]
     },
<<<<<<< HEAD
     "execution_count": 129,
=======
     "execution_count": 33,
>>>>>>> upstream/main
     "metadata": {},
     "output_type": "execute_result"
    }
   ],
   "source": [
    "train.Survived.value_counts(True)"
   ]
  },
  {
   "attachments": {},
   "cell_type": "markdown",
   "metadata": {
    "tags": []
   },
   "source": [
    "Ser S o Q no parece diferenciarse mucho del conjunto total, pero haber embarcado en C, sí que cambia algo la distribución. Así que me la quedo e imputo la de mayor frecuencia"
   ]
  },
  {
   "attachments": {},
   "cell_type": "markdown",
   "metadata": {
    "tags": []
   },
   "source": [
    "### Cabin"
   ]
  },
  {
   "attachments": {},
   "cell_type": "markdown",
   "metadata": {
    "tags": []
   },
   "source": [
    "En Cabin tenemos el problema de que faltan muchos valores, tenemos un 23% escaso de instancias informadas"
   ]
  },
  {
   "cell_type": "code",
<<<<<<< HEAD
   "execution_count": 130,
=======
   "execution_count": 34,
>>>>>>> upstream/main
   "metadata": {
    "tags": []
   },
   "outputs": [
    {
     "name": "stdout",
     "output_type": "stream",
     "text": [
      "0.22895622895622897\n"
     ]
    }
   ],
   "source": [
    "print(len(train[train.Cabin.isna() == False])/len(train))"
   ]
  },
  {
   "attachments": {},
   "cell_type": "markdown",
   "metadata": {
    "tags": []
   },
   "source": [
    "Las features a imputar tienen que tener valor informativo (correlar con el target) y además un método \"sencillo\" para poder hacer esa imputación"
   ]
  },
  {
   "attachments": {},
   "cell_type": "markdown",
   "metadata": {
    "tags": []
   },
   "source": [
    "Antes de comprobar el valor informativo, veamos la cardinaliad (valores diferentes que tiene sobre el total) en el caso de categóricas o la varianza/distribución en el caso de numéricas"
   ]
  },
  {
   "attachments": {},
   "cell_type": "markdown",
   "metadata": {
    "tags": []
   },
   "source": [
    "Cabin es categórca/textual, veamos cuantos registros diferentes en relación con el total de informados"
   ]
  },
  {
   "cell_type": "code",
<<<<<<< HEAD
   "execution_count": 131,
=======
   "execution_count": 35,
>>>>>>> upstream/main
   "metadata": {
    "tags": []
   },
   "outputs": [
    {
     "name": "stdout",
     "output_type": "stream",
     "text": [
      "0.7254901960784313\n"
     ]
    }
   ],
   "source": [
    "print(len(train.Cabin.unique())/len(train[train.Cabin.isna() == False]))"
   ]
  },
  {
   "attachments": {},
   "cell_type": "markdown",
   "metadata": {
    "tags": []
   },
   "source": [
    "El 72% de los valores informados son únicos, lo que es normal porque son camarotes, hacer una imputación es practicamente imposible, así que prescindiremos de la columna"
   ]
  },
  {
   "cell_type": "code",
<<<<<<< HEAD
   "execution_count": 132,
=======
   "execution_count": 36,
>>>>>>> upstream/main
   "metadata": {
    "tags": []
   },
   "outputs": [
    {
     "name": "stdout",
     "output_type": "stream",
     "text": [
      "['PassengerId', 'Name', 'Cabin']\n"
     ]
    }
   ],
   "source": [
    "columns_to_exclude.append(\"Cabin\")\n",
    "print(columns_to_exclude)"
   ]
  },
  {
   "attachments": {},
   "cell_type": "markdown",
   "metadata": {
    "tags": []
   },
   "source": [
    "### Ticket"
   ]
  },
  {
   "attachments": {},
   "cell_type": "markdown",
   "metadata": {},
   "source": [
    "Mucha cardinalidad (76%) y texto (object), veamos que pinta tiene"
   ]
  },
  {
   "cell_type": "code",
<<<<<<< HEAD
   "execution_count": 133,
=======
   "execution_count": 37,
>>>>>>> upstream/main
   "metadata": {
    "tags": []
   },
   "outputs": [
    {
     "data": {
      "text/plain": [
       "Ticket\n",
       "347082      0.007856\n",
       "CA. 2343    0.007856\n",
       "1601        0.007856\n",
       "3101295     0.006734\n",
       "CA 2144     0.006734\n",
       "              ...   \n",
       "9234        0.001122\n",
       "19988       0.001122\n",
       "2693        0.001122\n",
       "PC 17612    0.001122\n",
       "370376      0.001122\n",
       "Name: proportion, Length: 681, dtype: float64"
      ]
     },
<<<<<<< HEAD
     "execution_count": 133,
=======
     "execution_count": 37,
>>>>>>> upstream/main
     "metadata": {},
     "output_type": "execute_result"
    }
   ],
   "source": [
    "train.Ticket.value_counts(True)"
   ]
  },
  {
   "attachments": {},
   "cell_type": "markdown",
   "metadata": {},
   "source": [
    "De primeras, fuera. Si tuviera que rascar a lo mejor intentaríamos buscar alguna \"codificación\" de cada Ticket (por ejemplo relacionandolo con Fare, se ve que los hay letraletra numero y solo número), pero eso si necesito rascar más"
   ]
  },
  {
   "cell_type": "code",
<<<<<<< HEAD
   "execution_count": 134,
=======
   "execution_count": 38,
>>>>>>> upstream/main
   "metadata": {
    "tags": []
   },
   "outputs": [
    {
     "name": "stdout",
     "output_type": "stream",
     "text": [
      "['PassengerId', 'Name', 'Cabin', 'Ticket']\n"
     ]
    }
   ],
   "source": [
    "columns_to_exclude.append(\"Ticket\")\n",
    "print(columns_to_exclude)"
   ]
  },
  {
   "attachments": {},
   "cell_type": "markdown",
   "metadata": {
    "tags": []
   },
   "source": [
    "### Levad anclas, soltad amarres,..."
   ]
  },
  {
   "attachments": {},
   "cell_type": "markdown",
   "metadata": {
    "tags": []
   },
   "source": [
    "## Func vs Pipeline"
   ]
  },
  {
   "attachments": {},
   "cell_type": "markdown",
   "metadata": {},
   "source": [
    "A partir de aquí vamos a hacer dos hilos de preprocesado, uno con funciones y otro con Pipeline que harán lo mismo"
   ]
  },
  {
   "attachments": {},
   "cell_type": "markdown",
   "metadata": {
    "tags": []
   },
   "source": [
    "## Exclusión de columnas"
   ]
  },
  {
   "cell_type": "code",
<<<<<<< HEAD
   "execution_count": 135,
=======
   "execution_count": 39,
>>>>>>> upstream/main
   "metadata": {
    "tags": []
   },
   "outputs": [],
   "source": [
    "# FUNCTION_BASED_PREPROCESSING\n",
    "\n",
    "def func_exclude_columns(X, exclude_cols = columns_to_exclude):\n",
    "    # Skip missing values from colum\n",
    "    X_temp = X[[col for col in X.columns if col not in exclude_cols]].copy()\n",
    "    return X_temp   "
   ]
  },
  {
   "cell_type": "code",
<<<<<<< HEAD
   "execution_count": 136,
=======
   "execution_count": 40,
>>>>>>> upstream/main
   "metadata": {
    "tags": []
   },
   "outputs": [],
   "source": [
    "# PIPELINE PREPROCESSING"
   ]
  },
  {
   "attachments": {},
   "cell_type": "markdown",
   "metadata": {},
   "source": [
    "Un pipeline es una lista de objetos (llamados \"transformers\" en terminología Sklearn, no confundir con los transformes de Deep) que se van a ejecutar en orden cada vez que llamemos a su método fit o fit_transform o predict. Por ejemplo, si hemos creado un objeto Pipeline con nombre PipeExample, luego podremos ejecutar PipeExample.fit -> (que llama a los métodos fit_transform de todos los elementos de PipeExample, salvo del último que sólo ejecuta fit) o PipeExample.predict -> (Que llama a los métodos transform de todos los elementos de PipeExample, salvo del último que sólo ejecutara predict) o PipeExample.fit_transform (Que llamará a todos los fit_transform de todos los elementos). Evidentemente el último elemento de PipeExample tiene que tener un método predict o un método fit o un método fit_transform para poder ejecutar los comandos anteriores.\n",
    "\n",
    "PipeExample = Pipeline([\"a\",(Transformer_A()),(\"b\",(Transformer_B()),(\"c\",(Transformer_C())])\n",
    "\n",
    "* PipeExample.fit(X<,y>) equivale a Transformer_C.fit(Transformer_B.fit_transform(Transformer_A.fit_transform(X<,y>)<,y>)<,y>)  \n",
    "* PipeExample.predict(X) equivale a Transformer_C.predict(Transformer_B.transform(Transformer_A.transform(X)))  \n",
    "* PipeExample.fit_transform(X,y) equivale a Transformer_C.fit_transform(Transformer_B.fit_transform(Transformer_A.fit_transform(X<,y>)<,y>),y)\n",
    "\n",
    "Como un Pipeline es un transformer :-) se puede meter como paso dentro de otro Pipeline (lo cual para entenderlo lo complica, pero le da mucha versatilidad) (OJO si ese pipeline termina con un \"modelo\" que no tiene fit_transform, tiene que ser el último elemento del nuevo pipeline o dará error)\n",
    "\n",
    "Supongamos que Transformer_C es un modelo ( ejemplo Transformer_C es RandomForestClassifier):\n",
    "* PipePipeExample = Pipeline([(\"mal_ejemplo\",PipeExample()), (\"da_igual\", OtroPipe())]) -> Dará error\n",
    "* PiPeGoodExample = Pipeline([ (\"el_primero\", OtroPipe()),(\"bien\",PipeExample())]) -> Si OtroPipe no es un modelo o tiene fit_transform, todo OK :-)\n"
   ]
  },
  {
   "cell_type": "code",
<<<<<<< HEAD
   "execution_count": 137,
=======
   "execution_count": 41,
>>>>>>> upstream/main
   "metadata": {},
   "outputs": [],
   "source": [
    "from sklearn.ensemble import RandomForestClassifier"
   ]
  },
  {
   "cell_type": "code",
<<<<<<< HEAD
   "execution_count": 138,
=======
   "execution_count": 42,
>>>>>>> upstream/main
   "metadata": {
    "tags": []
   },
   "outputs": [],
   "source": [
    "from sklearn.pipeline import Pipeline, make_pipeline\n",
    "from sklearn.compose import ColumnTransformer"
   ]
  },
  {
   "cell_type": "code",
<<<<<<< HEAD
   "execution_count": 139,
=======
   "execution_count": 43,
>>>>>>> upstream/main
   "metadata": {
    "tags": []
   },
   "outputs": [],
   "source": [
    "# Column Transformer nos permite aplicar diferentes transformers según las columnas\n",
    "pipe_exclude_columns = ColumnTransformer([(\"excluye\",\"drop\", columns_to_exclude)], remainder = \"passthrough\")"
   ]
  },
  {
   "cell_type": "code",
<<<<<<< HEAD
   "execution_count": 140,
=======
   "execution_count": 44,
>>>>>>> upstream/main
   "metadata": {
    "tags": []
   },
   "outputs": [],
   "source": [
    "# Probemos que los dos dan \"el mismo resultado\""
   ]
  },
  {
   "cell_type": "code",
<<<<<<< HEAD
   "execution_count": 141,
=======
   "execution_count": 45,
>>>>>>> upstream/main
   "metadata": {
    "tags": []
   },
   "outputs": [
    {
     "data": {
      "text/plain": [
       "{'n_jobs': None,\n",
       " 'remainder': 'passthrough',\n",
       " 'sparse_threshold': 0.3,\n",
       " 'transformer_weights': None,\n",
       " 'transformers': [('excluye',\n",
       "   'drop',\n",
       "   ['PassengerId', 'Name', 'Cabin', 'Ticket'])],\n",
       " 'verbose': False,\n",
       " 'verbose_feature_names_out': True,\n",
       " 'excluye': 'drop'}"
      ]
     },
<<<<<<< HEAD
     "execution_count": 141,
=======
     "execution_count": 45,
>>>>>>> upstream/main
     "metadata": {},
     "output_type": "execute_result"
    }
   ],
   "source": [
    "pipe_exclude_columns.get_params()"
   ]
  },
  {
   "cell_type": "code",
<<<<<<< HEAD
   "execution_count": 142,
   "metadata": {},
   "outputs": [
    {
     "data": {
      "text/plain": [
       "ColumnTransformer(remainder='passthrough',\n",
       "                  transformers=[('excluye', 'drop',\n",
       "                                 ['PassengerId', 'Name', 'Cabin', 'Ticket'])])"
      ]
     },
     "execution_count": 142,
     "metadata": {},
     "output_type": "execute_result"
    }
   ],
   "source": [
    "pipe_exclude_columns.fit(train)"
   ]
  },
  {
   "cell_type": "code",
   "execution_count": 143,
=======
   "execution_count": 46,
>>>>>>> upstream/main
   "metadata": {
    "tags": []
   },
   "outputs": [],
   "source": [
    "train_compacto = func_exclude_columns(train, columns_to_exclude)"
   ]
  },
  {
   "cell_type": "code",
<<<<<<< HEAD
   "execution_count": 144,
=======
   "execution_count": 47,
>>>>>>> upstream/main
   "metadata": {
    "tags": []
   },
   "outputs": [
    {
     "data": {
      "text/html": [
       "<div>\n",
       "<style scoped>\n",
       "    .dataframe tbody tr th:only-of-type {\n",
       "        vertical-align: middle;\n",
       "    }\n",
       "\n",
       "    .dataframe tbody tr th {\n",
       "        vertical-align: top;\n",
       "    }\n",
       "\n",
       "    .dataframe thead th {\n",
       "        text-align: right;\n",
       "    }\n",
       "</style>\n",
       "<table border=\"1\" class=\"dataframe\">\n",
       "  <thead>\n",
       "    <tr style=\"text-align: right;\">\n",
       "      <th></th>\n",
       "      <th>Survived</th>\n",
       "      <th>Pclass</th>\n",
       "      <th>Sex</th>\n",
       "      <th>Age</th>\n",
       "      <th>SibSp</th>\n",
       "      <th>Parch</th>\n",
       "      <th>Fare</th>\n",
       "      <th>Embarked</th>\n",
       "    </tr>\n",
       "  </thead>\n",
       "  <tbody>\n",
       "    <tr>\n",
       "      <th>0</th>\n",
       "      <td>0</td>\n",
       "      <td>3</td>\n",
       "      <td>male</td>\n",
       "      <td>22.0</td>\n",
       "      <td>1</td>\n",
       "      <td>0</td>\n",
       "      <td>7.2500</td>\n",
       "      <td>S</td>\n",
       "    </tr>\n",
       "    <tr>\n",
       "      <th>1</th>\n",
       "      <td>1</td>\n",
       "      <td>1</td>\n",
       "      <td>female</td>\n",
       "      <td>38.0</td>\n",
       "      <td>1</td>\n",
       "      <td>0</td>\n",
       "      <td>71.2833</td>\n",
       "      <td>C</td>\n",
       "    </tr>\n",
       "    <tr>\n",
       "      <th>2</th>\n",
       "      <td>1</td>\n",
       "      <td>3</td>\n",
       "      <td>female</td>\n",
       "      <td>26.0</td>\n",
       "      <td>0</td>\n",
       "      <td>0</td>\n",
       "      <td>7.9250</td>\n",
       "      <td>S</td>\n",
       "    </tr>\n",
       "    <tr>\n",
       "      <th>3</th>\n",
       "      <td>1</td>\n",
       "      <td>1</td>\n",
       "      <td>female</td>\n",
       "      <td>35.0</td>\n",
       "      <td>1</td>\n",
       "      <td>0</td>\n",
       "      <td>53.1000</td>\n",
       "      <td>S</td>\n",
       "    </tr>\n",
       "    <tr>\n",
       "      <th>4</th>\n",
       "      <td>0</td>\n",
       "      <td>3</td>\n",
       "      <td>male</td>\n",
       "      <td>35.0</td>\n",
       "      <td>0</td>\n",
       "      <td>0</td>\n",
       "      <td>8.0500</td>\n",
       "      <td>S</td>\n",
       "    </tr>\n",
       "    <tr>\n",
       "      <th>...</th>\n",
       "      <td>...</td>\n",
       "      <td>...</td>\n",
       "      <td>...</td>\n",
       "      <td>...</td>\n",
       "      <td>...</td>\n",
       "      <td>...</td>\n",
       "      <td>...</td>\n",
       "      <td>...</td>\n",
       "    </tr>\n",
       "    <tr>\n",
       "      <th>886</th>\n",
       "      <td>0</td>\n",
       "      <td>2</td>\n",
       "      <td>male</td>\n",
       "      <td>27.0</td>\n",
       "      <td>0</td>\n",
       "      <td>0</td>\n",
       "      <td>13.0000</td>\n",
       "      <td>S</td>\n",
       "    </tr>\n",
       "    <tr>\n",
       "      <th>887</th>\n",
       "      <td>1</td>\n",
       "      <td>1</td>\n",
       "      <td>female</td>\n",
       "      <td>19.0</td>\n",
       "      <td>0</td>\n",
       "      <td>0</td>\n",
       "      <td>30.0000</td>\n",
       "      <td>S</td>\n",
       "    </tr>\n",
       "    <tr>\n",
       "      <th>888</th>\n",
       "      <td>0</td>\n",
       "      <td>3</td>\n",
       "      <td>female</td>\n",
       "      <td>NaN</td>\n",
       "      <td>1</td>\n",
       "      <td>2</td>\n",
       "      <td>23.4500</td>\n",
       "      <td>S</td>\n",
       "    </tr>\n",
       "    <tr>\n",
       "      <th>889</th>\n",
       "      <td>1</td>\n",
       "      <td>1</td>\n",
       "      <td>male</td>\n",
       "      <td>26.0</td>\n",
       "      <td>0</td>\n",
       "      <td>0</td>\n",
       "      <td>30.0000</td>\n",
       "      <td>C</td>\n",
       "    </tr>\n",
       "    <tr>\n",
       "      <th>890</th>\n",
       "      <td>0</td>\n",
       "      <td>3</td>\n",
       "      <td>male</td>\n",
       "      <td>32.0</td>\n",
       "      <td>0</td>\n",
       "      <td>0</td>\n",
       "      <td>7.7500</td>\n",
       "      <td>Q</td>\n",
       "    </tr>\n",
       "  </tbody>\n",
       "</table>\n",
       "<p>891 rows × 8 columns</p>\n",
       "</div>"
      ],
      "text/plain": [
       "     Survived  Pclass     Sex   Age  SibSp  Parch     Fare Embarked\n",
       "0           0       3    male  22.0      1      0   7.2500        S\n",
       "1           1       1  female  38.0      1      0  71.2833        C\n",
       "2           1       3  female  26.0      0      0   7.9250        S\n",
       "3           1       1  female  35.0      1      0  53.1000        S\n",
       "4           0       3    male  35.0      0      0   8.0500        S\n",
       "..        ...     ...     ...   ...    ...    ...      ...      ...\n",
       "886         0       2    male  27.0      0      0  13.0000        S\n",
       "887         1       1  female  19.0      0      0  30.0000        S\n",
       "888         0       3  female   NaN      1      2  23.4500        S\n",
       "889         1       1    male  26.0      0      0  30.0000        C\n",
       "890         0       3    male  32.0      0      0   7.7500        Q\n",
       "\n",
       "[891 rows x 8 columns]"
      ]
     },
<<<<<<< HEAD
     "execution_count": 144,
=======
     "execution_count": 47,
>>>>>>> upstream/main
     "metadata": {},
     "output_type": "execute_result"
    }
   ],
   "source": [
    "train_compacto"
   ]
  },
  {
   "cell_type": "code",
<<<<<<< HEAD
   "execution_count": 153,
   "metadata": {
    "tags": []
   },
   "outputs": [
    {
     "ename": "NameError",
     "evalue": "name 'X_train' is not defined",
     "output_type": "error",
     "traceback": [
      "\u001b[1;31m---------------------------------------------------------------------------\u001b[0m",
      "\u001b[1;31mNameError\u001b[0m                                 Traceback (most recent call last)",
      "\u001b[1;32m~\\AppData\\Local\\Temp\\ipykernel_11740\\344047002.py\u001b[0m in \u001b[0;36m<module>\u001b[1;34m\u001b[0m\n\u001b[1;32m----> 1\u001b[1;33m \u001b[0mpipe_train_compacto\u001b[0m \u001b[1;33m=\u001b[0m \u001b[0mpipe_exclude_columns\u001b[0m\u001b[1;33m.\u001b[0m\u001b[0mfit_transform\u001b[0m\u001b[1;33m(\u001b[0m\u001b[0mX_train\u001b[0m\u001b[1;33m)\u001b[0m\u001b[1;33m\u001b[0m\u001b[1;33m\u001b[0m\u001b[0m\n\u001b[0m",
      "\u001b[1;31mNameError\u001b[0m: name 'X_train' is not defined"
     ]
    }
   ],
   "source": [
    "pipe_train_compacto = pipe_exclude_columns.fit_transform(X_train)"
   ]
  },
  {
   "cell_type": "code",
   "execution_count": 148,
   "metadata": {},
   "outputs": [
    {
     "data": {
      "text/plain": [
       "'1.0.2'"
      ]
     },
     "execution_count": 148,
     "metadata": {},
     "output_type": "execute_result"
    }
   ],
   "source": [
    "import sklearn\n",
    "sklearn.__version__"
=======
   "execution_count": 51,
   "metadata": {
    "tags": []
   },
   "outputs": [],
   "source": [
    "pipe_train_compacto = pipe_exclude_columns.fit_transform(train)"
>>>>>>> upstream/main
   ]
  },
  {
   "cell_type": "code",
<<<<<<< HEAD
   "execution_count": 146,
=======
   "execution_count": 52,
>>>>>>> upstream/main
   "metadata": {
    "tags": []
   },
   "outputs": [
    {
     "ename": "ValueError",
     "evalue": "DataFrame constructor not properly called!",
     "output_type": "error",
     "traceback": [
      "\u001b[1;31m---------------------------------------------------------------------------\u001b[0m",
      "\u001b[1;31mValueError\u001b[0m                                Traceback (most recent call last)",
      "\u001b[1;32m~\\AppData\\Local\\Temp\\ipykernel_11740\\805842556.py\u001b[0m in \u001b[0;36m<module>\u001b[1;34m\u001b[0m\n\u001b[1;32m----> 1\u001b[1;33m \u001b[0mdf_check\u001b[0m \u001b[1;33m=\u001b[0m \u001b[0mpd\u001b[0m\u001b[1;33m.\u001b[0m\u001b[0mDataFrame\u001b[0m\u001b[1;33m(\u001b[0m\u001b[0mpipe_train_compacto\u001b[0m\u001b[1;33m,\u001b[0m \u001b[0mcolumns\u001b[0m \u001b[1;33m=\u001b[0m \u001b[0mpipe_exclude_columns\u001b[0m\u001b[1;33m.\u001b[0m\u001b[0mget_feature_names_out\u001b[0m\u001b[1;33m(\u001b[0m\u001b[1;33m)\u001b[0m\u001b[1;33m)\u001b[0m\u001b[1;33m\u001b[0m\u001b[1;33m\u001b[0m\u001b[0m\n\u001b[0m",
      "\u001b[1;32mc:\\Users\\lydia\\AppData\\Local\\Programs\\Python\\Python37\\lib\\site-packages\\pandas\\core\\frame.py\u001b[0m in \u001b[0;36m__init__\u001b[1;34m(self, data, index, columns, dtype, copy)\u001b[0m\n\u001b[0;32m    728\u001b[0m         \u001b[1;32melse\u001b[0m\u001b[1;33m:\u001b[0m\u001b[1;33m\u001b[0m\u001b[1;33m\u001b[0m\u001b[0m\n\u001b[0;32m    729\u001b[0m             \u001b[1;32mif\u001b[0m \u001b[0mindex\u001b[0m \u001b[1;32mis\u001b[0m \u001b[1;32mNone\u001b[0m \u001b[1;32mor\u001b[0m \u001b[0mcolumns\u001b[0m \u001b[1;32mis\u001b[0m \u001b[1;32mNone\u001b[0m\u001b[1;33m:\u001b[0m\u001b[1;33m\u001b[0m\u001b[1;33m\u001b[0m\u001b[0m\n\u001b[1;32m--> 730\u001b[1;33m                 \u001b[1;32mraise\u001b[0m \u001b[0mValueError\u001b[0m\u001b[1;33m(\u001b[0m\u001b[1;34m\"DataFrame constructor not properly called!\"\u001b[0m\u001b[1;33m)\u001b[0m\u001b[1;33m\u001b[0m\u001b[1;33m\u001b[0m\u001b[0m\n\u001b[0m\u001b[0;32m    731\u001b[0m \u001b[1;33m\u001b[0m\u001b[0m\n\u001b[0;32m    732\u001b[0m             \u001b[1;31m# Argument 1 to \"ensure_index\" has incompatible type \"Collection[Any]\";\u001b[0m\u001b[1;33m\u001b[0m\u001b[1;33m\u001b[0m\u001b[1;33m\u001b[0m\u001b[0m\n",
      "\u001b[1;31mValueError\u001b[0m: DataFrame constructor not properly called!"
     ]
    }
   ],
   "source": [
    "df_check = pd.DataFrame(train_compacto, columns = pipe_exclude_columns.get_feature_names_out())"
   ]
  },
  {
   "cell_type": "code",
<<<<<<< HEAD
   "execution_count": 76,
=======
   "execution_count": 53,
>>>>>>> upstream/main
   "metadata": {
    "tags": []
   },
   "outputs": [
    {
     "data": {
      "text/html": [
       "<div>\n",
       "<style scoped>\n",
       "    .dataframe tbody tr th:only-of-type {\n",
       "        vertical-align: middle;\n",
       "    }\n",
       "\n",
       "    .dataframe tbody tr th {\n",
       "        vertical-align: top;\n",
       "    }\n",
       "\n",
       "    .dataframe thead th {\n",
       "        text-align: right;\n",
       "    }\n",
       "</style>\n",
       "<table border=\"1\" class=\"dataframe\">\n",
       "  <thead>\n",
       "    <tr style=\"text-align: right;\">\n",
       "      <th></th>\n",
       "      <th>remainder__Survived</th>\n",
       "      <th>remainder__Pclass</th>\n",
       "      <th>remainder__Sex</th>\n",
       "      <th>remainder__Age</th>\n",
       "      <th>remainder__SibSp</th>\n",
       "      <th>remainder__Parch</th>\n",
       "      <th>remainder__Fare</th>\n",
       "      <th>remainder__Embarked</th>\n",
       "    </tr>\n",
       "  </thead>\n",
       "  <tbody>\n",
       "    <tr>\n",
       "      <th>0</th>\n",
       "      <td>NaN</td>\n",
       "      <td>NaN</td>\n",
       "      <td>NaN</td>\n",
       "      <td>NaN</td>\n",
       "      <td>NaN</td>\n",
       "      <td>NaN</td>\n",
       "      <td>NaN</td>\n",
       "      <td>NaN</td>\n",
       "    </tr>\n",
       "    <tr>\n",
       "      <th>1</th>\n",
       "      <td>NaN</td>\n",
       "      <td>NaN</td>\n",
       "      <td>NaN</td>\n",
       "      <td>NaN</td>\n",
       "      <td>NaN</td>\n",
       "      <td>NaN</td>\n",
       "      <td>NaN</td>\n",
       "      <td>NaN</td>\n",
       "    </tr>\n",
       "    <tr>\n",
       "      <th>2</th>\n",
       "      <td>NaN</td>\n",
       "      <td>NaN</td>\n",
       "      <td>NaN</td>\n",
       "      <td>NaN</td>\n",
       "      <td>NaN</td>\n",
       "      <td>NaN</td>\n",
       "      <td>NaN</td>\n",
       "      <td>NaN</td>\n",
       "    </tr>\n",
       "    <tr>\n",
       "      <th>3</th>\n",
       "      <td>NaN</td>\n",
       "      <td>NaN</td>\n",
       "      <td>NaN</td>\n",
       "      <td>NaN</td>\n",
       "      <td>NaN</td>\n",
       "      <td>NaN</td>\n",
       "      <td>NaN</td>\n",
       "      <td>NaN</td>\n",
       "    </tr>\n",
       "    <tr>\n",
       "      <th>4</th>\n",
       "      <td>NaN</td>\n",
       "      <td>NaN</td>\n",
       "      <td>NaN</td>\n",
       "      <td>NaN</td>\n",
       "      <td>NaN</td>\n",
       "      <td>NaN</td>\n",
       "      <td>NaN</td>\n",
       "      <td>NaN</td>\n",
       "    </tr>\n",
       "    <tr>\n",
       "      <th>...</th>\n",
       "      <td>...</td>\n",
       "      <td>...</td>\n",
       "      <td>...</td>\n",
       "      <td>...</td>\n",
       "      <td>...</td>\n",
       "      <td>...</td>\n",
       "      <td>...</td>\n",
       "      <td>...</td>\n",
       "    </tr>\n",
       "    <tr>\n",
       "      <th>886</th>\n",
       "      <td>NaN</td>\n",
       "      <td>NaN</td>\n",
       "      <td>NaN</td>\n",
       "      <td>NaN</td>\n",
       "      <td>NaN</td>\n",
       "      <td>NaN</td>\n",
       "      <td>NaN</td>\n",
       "      <td>NaN</td>\n",
       "    </tr>\n",
       "    <tr>\n",
       "      <th>887</th>\n",
       "      <td>NaN</td>\n",
       "      <td>NaN</td>\n",
       "      <td>NaN</td>\n",
       "      <td>NaN</td>\n",
       "      <td>NaN</td>\n",
       "      <td>NaN</td>\n",
       "      <td>NaN</td>\n",
       "      <td>NaN</td>\n",
       "    </tr>\n",
       "    <tr>\n",
       "      <th>888</th>\n",
       "      <td>NaN</td>\n",
       "      <td>NaN</td>\n",
       "      <td>NaN</td>\n",
       "      <td>NaN</td>\n",
       "      <td>NaN</td>\n",
       "      <td>NaN</td>\n",
       "      <td>NaN</td>\n",
       "      <td>NaN</td>\n",
       "    </tr>\n",
       "    <tr>\n",
       "      <th>889</th>\n",
       "      <td>NaN</td>\n",
       "      <td>NaN</td>\n",
       "      <td>NaN</td>\n",
       "      <td>NaN</td>\n",
       "      <td>NaN</td>\n",
       "      <td>NaN</td>\n",
       "      <td>NaN</td>\n",
       "      <td>NaN</td>\n",
       "    </tr>\n",
       "    <tr>\n",
       "      <th>890</th>\n",
       "      <td>NaN</td>\n",
       "      <td>NaN</td>\n",
       "      <td>NaN</td>\n",
       "      <td>NaN</td>\n",
       "      <td>NaN</td>\n",
       "      <td>NaN</td>\n",
       "      <td>NaN</td>\n",
       "      <td>NaN</td>\n",
       "    </tr>\n",
       "  </tbody>\n",
       "</table>\n",
       "<p>891 rows × 8 columns</p>\n",
       "</div>"
      ],
      "text/plain": [
<<<<<<< HEAD
       "     remainder__Survived  remainder__Pclass  remainder__Sex  remainder__Age  \\\n",
       "0                    NaN                NaN             NaN             NaN   \n",
       "1                    NaN                NaN             NaN             NaN   \n",
       "2                    NaN                NaN             NaN             NaN   \n",
       "3                    NaN                NaN             NaN             NaN   \n",
       "4                    NaN                NaN             NaN             NaN   \n",
       "..                   ...                ...             ...             ...   \n",
       "886                  NaN                NaN             NaN             NaN   \n",
       "887                  NaN                NaN             NaN             NaN   \n",
       "888                  NaN                NaN             NaN             NaN   \n",
       "889                  NaN                NaN             NaN             NaN   \n",
       "890                  NaN                NaN             NaN             NaN   \n",
=======
       "    remainder__Survived remainder__Pclass remainder__Sex remainder__Age   \n",
       "0                     0                 3           male           22.0  \\\n",
       "1                     1                 1         female           38.0   \n",
       "2                     1                 3         female           26.0   \n",
       "3                     1                 1         female           35.0   \n",
       "4                     0                 3           male           35.0   \n",
       "..                  ...               ...            ...            ...   \n",
       "886                   0                 2           male           27.0   \n",
       "887                   1                 1         female           19.0   \n",
       "888                   0                 3         female            NaN   \n",
       "889                   1                 1           male           26.0   \n",
       "890                   0                 3           male           32.0   \n",
>>>>>>> upstream/main
       "\n",
       "     remainder__SibSp  remainder__Parch  remainder__Fare  remainder__Embarked  \n",
       "0                 NaN               NaN              NaN                  NaN  \n",
       "1                 NaN               NaN              NaN                  NaN  \n",
       "2                 NaN               NaN              NaN                  NaN  \n",
       "3                 NaN               NaN              NaN                  NaN  \n",
       "4                 NaN               NaN              NaN                  NaN  \n",
       "..                ...               ...              ...                  ...  \n",
       "886               NaN               NaN              NaN                  NaN  \n",
       "887               NaN               NaN              NaN                  NaN  \n",
       "888               NaN               NaN              NaN                  NaN  \n",
       "889               NaN               NaN              NaN                  NaN  \n",
       "890               NaN               NaN              NaN                  NaN  \n",
       "\n",
       "[891 rows x 8 columns]"
      ]
     },
<<<<<<< HEAD
     "execution_count": 76,
=======
     "execution_count": 53,
>>>>>>> upstream/main
     "metadata": {},
     "output_type": "execute_result"
    }
   ],
   "source": [
    "df_check"
   ]
  },
  {
   "attachments": {},
   "cell_type": "markdown",
   "metadata": {
    "jp-MarkdownHeadingCollapsed": true,
    "tags": []
   },
   "source": [
    "Primera ventaja para las funciones, devuelven el dataframe, segunda ventaja, el paso de parámetros es más flexible"
   ]
  },
  {
   "attachments": {},
   "cell_type": "markdown",
   "metadata": {},
   "source": [
    "## Imputamos valores faltantes"
   ]
  },
  {
   "cell_type": "code",
   "execution_count": 54,
   "metadata": {
    "tags": []
   },
   "outputs": [],
   "source": [
    "age_mean = train_compacto.Age.mean()"
   ]
  },
  {
   "cell_type": "code",
   "execution_count": 55,
   "metadata": {
    "tags": []
   },
   "outputs": [
    {
     "data": {
      "text/plain": [
       "0    S\n",
       "Name: Embarked, dtype: object"
      ]
     },
     "execution_count": 55,
     "metadata": {},
     "output_type": "execute_result"
    }
   ],
   "source": [
    "train_compacto.Embarked.mode()"
   ]
  },
  {
   "cell_type": "code",
   "execution_count": 56,
   "metadata": {
    "tags": []
   },
   "outputs": [
    {
     "data": {
      "text/plain": [
       "Embarked\n",
       "S    644\n",
       "C    168\n",
       "Q     77\n",
       "Name: count, dtype: int64"
      ]
     },
     "execution_count": 56,
     "metadata": {},
     "output_type": "execute_result"
    }
   ],
   "source": [
    "train_compacto.Embarked.value_counts()"
   ]
  },
  {
   "cell_type": "code",
   "execution_count": 57,
   "metadata": {
    "tags": []
   },
   "outputs": [
    {
     "data": {
      "text/plain": [
       "29.69911764705882"
      ]
     },
     "execution_count": 57,
     "metadata": {},
     "output_type": "execute_result"
    }
   ],
   "source": [
    "age_mean"
   ]
  },
  {
   "cell_type": "code",
<<<<<<< HEAD
   "execution_count": null,
   "metadata": {},
   "outputs": [],
   "source": []
  },
  {
   "cell_type": "code",
   "execution_count": 208,
=======
   "execution_count": 58,
>>>>>>> upstream/main
   "metadata": {
    "tags": []
   },
   "outputs": [],
   "source": [
    "# FUNCTION BASED PROCESSING\n",
    "def func_missing_imputer(X, mean_col_imputed = [], mode_col_imputed = []):\n",
    "    X_temp = X.copy()\n",
    "    for col in mean_col_imputed:\n",
    "        valor_imputado = round(X_temp[col].mean(),0)\n",
    "        es_nulo = X_temp[col].isna()\n",
    "        X_temp.loc[es_nulo,col] = valor_imputado\n",
    "    for col in mode_col_imputed:\n",
    "        valor_imputado = X_temp[col].mode().values[0]\n",
    "        es_nulo = X_temp[col].isna()\n",
    "        X_temp.loc[es_nulo,col] = valor_imputado\n",
    "    return X_temp\n",
    "        "
   ]
  },
  {
   "cell_type": "code",
<<<<<<< HEAD
   "execution_count": 112,
=======
   "execution_count": 59,
>>>>>>> upstream/main
   "metadata": {
    "tags": []
   },
   "outputs": [],
   "source": [
    "# PIPELINE PROCESSING\n",
    "from sklearn.impute import SimpleImputer\n",
    "from sklearn.compose import make_column_selector\n",
    "\n",
    "# Vamos a hacer un pequeño truco :-), que luego repetiremos porque después del primer paso ya no podemos utilizar las columnas de pandas\n",
    "imputer_step = ColumnTransformer(\n",
    "    [(\"Impute_Numeric\", SimpleImputer(), [\"Age\"]),\n",
    "     (\"Impute_Mode\", SimpleImputer(strategy = \"most_frequent\"), [\"Embarked\"]),\n",
    "     (\"Exclude\", \"drop\", columns_to_exclude)\n",
    "    ], remainder = \"passthrough\")\n",
    "\n",
    "pipe_missings = Pipeline([(\"first_stage\",imputer_step)])"
   ]
  },
  {
   "cell_type": "code",
<<<<<<< HEAD
   "execution_count": 113,
=======
   "execution_count": 60,
>>>>>>> upstream/main
   "metadata": {
    "tags": []
   },
   "outputs": [
    {
     "ename": "NameError",
     "evalue": "name 'func_missing_imputer' is not defined",
     "output_type": "error",
     "traceback": [
      "\u001b[1;31m---------------------------------------------------------------------------\u001b[0m",
      "\u001b[1;31mNameError\u001b[0m                                 Traceback (most recent call last)",
      "\u001b[1;32m~\\AppData\\Local\\Temp\\ipykernel_11740\\2806438874.py\u001b[0m in \u001b[0;36m<module>\u001b[1;34m\u001b[0m\n\u001b[1;32m----> 1\u001b[1;33m \u001b[0mtrain_almost_ready\u001b[0m \u001b[1;33m=\u001b[0m \u001b[0mfunc_missing_imputer\u001b[0m\u001b[1;33m(\u001b[0m\u001b[0mtrain_compacto\u001b[0m\u001b[1;33m,\u001b[0m \u001b[0mmean_col_imputed\u001b[0m\u001b[1;33m=\u001b[0m \u001b[1;33m[\u001b[0m\u001b[1;34m\"Age\"\u001b[0m\u001b[1;33m]\u001b[0m\u001b[1;33m,\u001b[0m \u001b[0mmode_col_imputed\u001b[0m\u001b[1;33m=\u001b[0m \u001b[1;33m[\u001b[0m\u001b[1;34m\"Embarked\"\u001b[0m\u001b[1;33m]\u001b[0m\u001b[1;33m)\u001b[0m\u001b[1;33m\u001b[0m\u001b[1;33m\u001b[0m\u001b[0m\n\u001b[0m",
      "\u001b[1;31mNameError\u001b[0m: name 'func_missing_imputer' is not defined"
     ]
    }
   ],
   "source": [
    "train_almost_ready = func_missing_imputer(train_compacto, mean_col_imputed= [\"Age\"], mode_col_imputed= [\"Embarked\"])"
   ]
  },
  {
   "cell_type": "code",
   "execution_count": 61,
   "metadata": {
    "tags": []
   },
   "outputs": [],
   "source": [
    "pipe_train = pipe_missings.fit_transform(train)"
   ]
  },
  {
   "cell_type": "code",
   "execution_count": 62,
   "metadata": {
    "tags": []
   },
   "outputs": [
    {
     "name": "stdout",
     "output_type": "stream",
     "text": [
      "<class 'pandas.core.frame.DataFrame'>\n",
      "RangeIndex: 891 entries, 0 to 890\n",
      "Data columns (total 8 columns):\n",
      " #   Column    Non-Null Count  Dtype  \n",
      "---  ------    --------------  -----  \n",
      " 0   Survived  891 non-null    int64  \n",
      " 1   Pclass    891 non-null    int64  \n",
      " 2   Sex       891 non-null    object \n",
      " 3   Age       891 non-null    float64\n",
      " 4   SibSp     891 non-null    int64  \n",
      " 5   Parch     891 non-null    int64  \n",
      " 6   Fare      891 non-null    float64\n",
      " 7   Embarked  891 non-null    object \n",
      "dtypes: float64(2), int64(4), object(2)\n",
      "memory usage: 55.8+ KB\n"
     ]
    }
   ],
   "source": [
    "train_almost_ready.info()"
   ]
  },
  {
   "cell_type": "code",
   "execution_count": 63,
   "metadata": {
    "tags": []
   },
   "outputs": [],
   "source": [
    "df_check = pd.DataFrame(pipe_train, columns = pipe_missings.get_feature_names_out())"
   ]
  },
  {
   "cell_type": "code",
   "execution_count": 64,
   "metadata": {
    "tags": []
   },
   "outputs": [
    {
     "name": "stdout",
     "output_type": "stream",
     "text": [
      "<class 'pandas.core.frame.DataFrame'>\n",
      "RangeIndex: 891 entries, 0 to 890\n",
      "Data columns (total 8 columns):\n",
      " #   Column                 Non-Null Count  Dtype \n",
      "---  ------                 --------------  ----- \n",
      " 0   Impute_Numeric__Age    891 non-null    object\n",
      " 1   Impute_Mode__Embarked  891 non-null    object\n",
      " 2   remainder__Survived    891 non-null    object\n",
      " 3   remainder__Pclass      891 non-null    object\n",
      " 4   remainder__Sex         891 non-null    object\n",
      " 5   remainder__SibSp       891 non-null    object\n",
      " 6   remainder__Parch       891 non-null    object\n",
      " 7   remainder__Fare        891 non-null    object\n",
      "dtypes: object(8)\n",
      "memory usage: 55.8+ KB\n"
     ]
    }
   ],
   "source": [
    "df_check.info()"
   ]
  },
  {
   "attachments": {},
   "cell_type": "markdown",
   "metadata": {
    "tags": []
   },
   "source": [
    "## Codificación de Variables Categóricas (OneHotEnconder vs OrdinalEncoder)"
   ]
  },
  {
   "attachments": {},
   "cell_type": "markdown",
   "metadata": {},
   "source": [
    "El LabelEncoder se recomienda solo para target"
   ]
  },
  {
   "attachments": {},
   "cell_type": "markdown",
   "metadata": {},
   "source": [
    "Tenemos dos features a codificar: __Sex__ y __Embarked__  \n",
    "Ambas tienen pocos valores, por lo que podemos usar un OneHotEncoder, si tuvieran muchos valores de etiquetas podríamos hacer un OneHotEncoder y una PCA sobre estos, o agrupar las categorías en función de su correlación con el target, o buscar algún mecanismo de agrupación no supervisado que las agrupe por semejanza"
   ]
  },
  {
   "cell_type": "code",
<<<<<<< HEAD
   "execution_count": 149,
=======
   "execution_count": 65,
>>>>>>> upstream/main
   "metadata": {
    "tags": []
   },
   "outputs": [],
   "source": [
    "# Encoding with functions\n",
    "from sklearn.preprocessing import OneHotEncoder\n",
    "\n",
    "def func_oneHotEnconder(X, cols_to_encode):\n",
    "    X_temp = X.copy()\n",
    "    OHEncoder = OneHotEncoder()\n",
    "    OHEncoder.fit(X_temp[cols_to_encode])\n",
    "    X_temp = pd.concat([X_temp, pd.DataFrame(OHEncoder.transform(X_temp[cols_to_encode]).toarray(),\n",
    "                                            columns = OHEncoder.get_feature_names_out())], axis = 1)\n",
    "    return X_temp.drop(cols_to_encode, axis = 1)"
   ]
  },
  {
   "cell_type": "code",
<<<<<<< HEAD
   "execution_count": 150,
=======
   "execution_count": 66,
>>>>>>> upstream/main
   "metadata": {
    "tags": []
   },
   "outputs": [],
   "source": [
    "# Encoding with pipeline\n",
    "\n",
    "cat_pipeline = Pipeline(\n",
    "    [(\"Impute_Mode\", SimpleImputer(strategy = \"most_frequent\")),\n",
    "     (\"OHEncoder\", OneHotEncoder())\n",
    "    ]\n",
    ")\n",
    "\n",
    "preprocessing = ColumnTransformer(\n",
    "    [(\"Impute_Numeric\", SimpleImputer(), [\"Age\"]),\n",
    "     (\"Process_Categorical\", cat_pipeline, [\"Sex\",\"Embarked\"]),\n",
    "     (\"Exclude\", \"drop\", columns_to_exclude)\n",
    "    ], remainder = \"passthrough\")"
   ]
  },
  {
   "cell_type": "code",
<<<<<<< HEAD
   "execution_count": 151,
=======
   "execution_count": 67,
>>>>>>> upstream/main
   "metadata": {
    "tags": []
   },
   "outputs": [
    {
     "data": {
<<<<<<< HEAD
=======
      "text/html": [
       "<style>#sk-container-id-1 {color: black;background-color: white;}#sk-container-id-1 pre{padding: 0;}#sk-container-id-1 div.sk-toggleable {background-color: white;}#sk-container-id-1 label.sk-toggleable__label {cursor: pointer;display: block;width: 100%;margin-bottom: 0;padding: 0.3em;box-sizing: border-box;text-align: center;}#sk-container-id-1 label.sk-toggleable__label-arrow:before {content: \"▸\";float: left;margin-right: 0.25em;color: #696969;}#sk-container-id-1 label.sk-toggleable__label-arrow:hover:before {color: black;}#sk-container-id-1 div.sk-estimator:hover label.sk-toggleable__label-arrow:before {color: black;}#sk-container-id-1 div.sk-toggleable__content {max-height: 0;max-width: 0;overflow: hidden;text-align: left;background-color: #f0f8ff;}#sk-container-id-1 div.sk-toggleable__content pre {margin: 0.2em;color: black;border-radius: 0.25em;background-color: #f0f8ff;}#sk-container-id-1 input.sk-toggleable__control:checked~div.sk-toggleable__content {max-height: 200px;max-width: 100%;overflow: auto;}#sk-container-id-1 input.sk-toggleable__control:checked~label.sk-toggleable__label-arrow:before {content: \"▾\";}#sk-container-id-1 div.sk-estimator input.sk-toggleable__control:checked~label.sk-toggleable__label {background-color: #d4ebff;}#sk-container-id-1 div.sk-label input.sk-toggleable__control:checked~label.sk-toggleable__label {background-color: #d4ebff;}#sk-container-id-1 input.sk-hidden--visually {border: 0;clip: rect(1px 1px 1px 1px);clip: rect(1px, 1px, 1px, 1px);height: 1px;margin: -1px;overflow: hidden;padding: 0;position: absolute;width: 1px;}#sk-container-id-1 div.sk-estimator {font-family: monospace;background-color: #f0f8ff;border: 1px dotted black;border-radius: 0.25em;box-sizing: border-box;margin-bottom: 0.5em;}#sk-container-id-1 div.sk-estimator:hover {background-color: #d4ebff;}#sk-container-id-1 div.sk-parallel-item::after {content: \"\";width: 100%;border-bottom: 1px solid gray;flex-grow: 1;}#sk-container-id-1 div.sk-label:hover label.sk-toggleable__label {background-color: #d4ebff;}#sk-container-id-1 div.sk-serial::before {content: \"\";position: absolute;border-left: 1px solid gray;box-sizing: border-box;top: 0;bottom: 0;left: 50%;z-index: 0;}#sk-container-id-1 div.sk-serial {display: flex;flex-direction: column;align-items: center;background-color: white;padding-right: 0.2em;padding-left: 0.2em;position: relative;}#sk-container-id-1 div.sk-item {position: relative;z-index: 1;}#sk-container-id-1 div.sk-parallel {display: flex;align-items: stretch;justify-content: center;background-color: white;position: relative;}#sk-container-id-1 div.sk-item::before, #sk-container-id-1 div.sk-parallel-item::before {content: \"\";position: absolute;border-left: 1px solid gray;box-sizing: border-box;top: 0;bottom: 0;left: 50%;z-index: -1;}#sk-container-id-1 div.sk-parallel-item {display: flex;flex-direction: column;z-index: 1;position: relative;background-color: white;}#sk-container-id-1 div.sk-parallel-item:first-child::after {align-self: flex-end;width: 50%;}#sk-container-id-1 div.sk-parallel-item:last-child::after {align-self: flex-start;width: 50%;}#sk-container-id-1 div.sk-parallel-item:only-child::after {width: 0;}#sk-container-id-1 div.sk-dashed-wrapped {border: 1px dashed gray;margin: 0 0.4em 0.5em 0.4em;box-sizing: border-box;padding-bottom: 0.4em;background-color: white;}#sk-container-id-1 div.sk-label label {font-family: monospace;font-weight: bold;display: inline-block;line-height: 1.2em;}#sk-container-id-1 div.sk-label-container {text-align: center;}#sk-container-id-1 div.sk-container {/* jupyter's `normalize.less` sets `[hidden] { display: none; }` but bootstrap.min.css set `[hidden] { display: none !important; }` so we also need the `!important` here to be able to override the default hidden behavior on the sphinx rendered scikit-learn.org. See: https://github.com/scikit-learn/scikit-learn/issues/21755 */display: inline-block !important;position: relative;}#sk-container-id-1 div.sk-text-repr-fallback {display: none;}</style><div id=\"sk-container-id-1\" class=\"sk-top-container\"><div class=\"sk-text-repr-fallback\"><pre>ColumnTransformer(remainder=&#x27;passthrough&#x27;,\n",
       "                  transformers=[(&#x27;Impute_Numeric&#x27;, SimpleImputer(), [&#x27;Age&#x27;]),\n",
       "                                (&#x27;Process_Categorical&#x27;,\n",
       "                                 Pipeline(steps=[(&#x27;Impute_Mode&#x27;,\n",
       "                                                  SimpleImputer(strategy=&#x27;most_frequent&#x27;)),\n",
       "                                                 (&#x27;OHEncoder&#x27;,\n",
       "                                                  OneHotEncoder())]),\n",
       "                                 [&#x27;Sex&#x27;, &#x27;Embarked&#x27;]),\n",
       "                                (&#x27;Exclude&#x27;, &#x27;drop&#x27;,\n",
       "                                 [&#x27;PassengerId&#x27;, &#x27;Name&#x27;, &#x27;Cabin&#x27;, &#x27;Ticket&#x27;])])</pre><b>In a Jupyter environment, please rerun this cell to show the HTML representation or trust the notebook. <br />On GitHub, the HTML representation is unable to render, please try loading this page with nbviewer.org.</b></div><div class=\"sk-container\" hidden><div class=\"sk-item sk-dashed-wrapped\"><div class=\"sk-label-container\"><div class=\"sk-label sk-toggleable\"><input class=\"sk-toggleable__control sk-hidden--visually\" id=\"sk-estimator-id-1\" type=\"checkbox\" ><label for=\"sk-estimator-id-1\" class=\"sk-toggleable__label sk-toggleable__label-arrow\">ColumnTransformer</label><div class=\"sk-toggleable__content\"><pre>ColumnTransformer(remainder=&#x27;passthrough&#x27;,\n",
       "                  transformers=[(&#x27;Impute_Numeric&#x27;, SimpleImputer(), [&#x27;Age&#x27;]),\n",
       "                                (&#x27;Process_Categorical&#x27;,\n",
       "                                 Pipeline(steps=[(&#x27;Impute_Mode&#x27;,\n",
       "                                                  SimpleImputer(strategy=&#x27;most_frequent&#x27;)),\n",
       "                                                 (&#x27;OHEncoder&#x27;,\n",
       "                                                  OneHotEncoder())]),\n",
       "                                 [&#x27;Sex&#x27;, &#x27;Embarked&#x27;]),\n",
       "                                (&#x27;Exclude&#x27;, &#x27;drop&#x27;,\n",
       "                                 [&#x27;PassengerId&#x27;, &#x27;Name&#x27;, &#x27;Cabin&#x27;, &#x27;Ticket&#x27;])])</pre></div></div></div><div class=\"sk-parallel\"><div class=\"sk-parallel-item\"><div class=\"sk-item\"><div class=\"sk-label-container\"><div class=\"sk-label sk-toggleable\"><input class=\"sk-toggleable__control sk-hidden--visually\" id=\"sk-estimator-id-2\" type=\"checkbox\" ><label for=\"sk-estimator-id-2\" class=\"sk-toggleable__label sk-toggleable__label-arrow\">Impute_Numeric</label><div class=\"sk-toggleable__content\"><pre>[&#x27;Age&#x27;]</pre></div></div></div><div class=\"sk-serial\"><div class=\"sk-item\"><div class=\"sk-estimator sk-toggleable\"><input class=\"sk-toggleable__control sk-hidden--visually\" id=\"sk-estimator-id-3\" type=\"checkbox\" ><label for=\"sk-estimator-id-3\" class=\"sk-toggleable__label sk-toggleable__label-arrow\">SimpleImputer</label><div class=\"sk-toggleable__content\"><pre>SimpleImputer()</pre></div></div></div></div></div></div><div class=\"sk-parallel-item\"><div class=\"sk-item\"><div class=\"sk-label-container\"><div class=\"sk-label sk-toggleable\"><input class=\"sk-toggleable__control sk-hidden--visually\" id=\"sk-estimator-id-4\" type=\"checkbox\" ><label for=\"sk-estimator-id-4\" class=\"sk-toggleable__label sk-toggleable__label-arrow\">Process_Categorical</label><div class=\"sk-toggleable__content\"><pre>[&#x27;Sex&#x27;, &#x27;Embarked&#x27;]</pre></div></div></div><div class=\"sk-serial\"><div class=\"sk-item\"><div class=\"sk-serial\"><div class=\"sk-item\"><div class=\"sk-estimator sk-toggleable\"><input class=\"sk-toggleable__control sk-hidden--visually\" id=\"sk-estimator-id-5\" type=\"checkbox\" ><label for=\"sk-estimator-id-5\" class=\"sk-toggleable__label sk-toggleable__label-arrow\">SimpleImputer</label><div class=\"sk-toggleable__content\"><pre>SimpleImputer(strategy=&#x27;most_frequent&#x27;)</pre></div></div></div><div class=\"sk-item\"><div class=\"sk-estimator sk-toggleable\"><input class=\"sk-toggleable__control sk-hidden--visually\" id=\"sk-estimator-id-6\" type=\"checkbox\" ><label for=\"sk-estimator-id-6\" class=\"sk-toggleable__label sk-toggleable__label-arrow\">OneHotEncoder</label><div class=\"sk-toggleable__content\"><pre>OneHotEncoder()</pre></div></div></div></div></div></div></div></div><div class=\"sk-parallel-item\"><div class=\"sk-item\"><div class=\"sk-label-container\"><div class=\"sk-label sk-toggleable\"><input class=\"sk-toggleable__control sk-hidden--visually\" id=\"sk-estimator-id-7\" type=\"checkbox\" ><label for=\"sk-estimator-id-7\" class=\"sk-toggleable__label sk-toggleable__label-arrow\">Exclude</label><div class=\"sk-toggleable__content\"><pre>[&#x27;PassengerId&#x27;, &#x27;Name&#x27;, &#x27;Cabin&#x27;, &#x27;Ticket&#x27;]</pre></div></div></div><div class=\"sk-serial\"><div class=\"sk-item\"><div class=\"sk-estimator sk-toggleable\"><input class=\"sk-toggleable__control sk-hidden--visually\" id=\"sk-estimator-id-8\" type=\"checkbox\" ><label for=\"sk-estimator-id-8\" class=\"sk-toggleable__label sk-toggleable__label-arrow\">drop</label><div class=\"sk-toggleable__content\"><pre>drop</pre></div></div></div></div></div></div><div class=\"sk-parallel-item\"><div class=\"sk-item\"><div class=\"sk-label-container\"><div class=\"sk-label sk-toggleable\"><input class=\"sk-toggleable__control sk-hidden--visually\" id=\"sk-estimator-id-9\" type=\"checkbox\" ><label for=\"sk-estimator-id-9\" class=\"sk-toggleable__label sk-toggleable__label-arrow\">remainder</label><div class=\"sk-toggleable__content\"><pre></pre></div></div></div><div class=\"sk-serial\"><div class=\"sk-item\"><div class=\"sk-estimator sk-toggleable\"><input class=\"sk-toggleable__control sk-hidden--visually\" id=\"sk-estimator-id-10\" type=\"checkbox\" ><label for=\"sk-estimator-id-10\" class=\"sk-toggleable__label sk-toggleable__label-arrow\">passthrough</label><div class=\"sk-toggleable__content\"><pre>passthrough</pre></div></div></div></div></div></div></div></div></div></div>"
      ],
>>>>>>> upstream/main
      "text/plain": [
       "ColumnTransformer(remainder='passthrough',\n",
       "                  transformers=[('Impute_Numeric', SimpleImputer(), ['Age']),\n",
       "                                ('Process_Categorical',\n",
       "                                 Pipeline(steps=[('Impute_Mode',\n",
       "                                                  SimpleImputer(strategy='most_frequent')),\n",
       "                                                 ('OHEncoder',\n",
       "                                                  OneHotEncoder())]),\n",
       "                                 ['Sex', 'Embarked']),\n",
       "                                ('Exclude', 'drop',\n",
       "                                 ['PassengerId', 'Name', 'Cabin', 'Ticket'])])"
      ]
     },
<<<<<<< HEAD
     "execution_count": 151,
=======
     "execution_count": 67,
>>>>>>> upstream/main
     "metadata": {},
     "output_type": "execute_result"
    }
   ],
   "source": [
    "preprocessing"
   ]
  },
  {
   "cell_type": "code",
<<<<<<< HEAD
   "execution_count": 152,
=======
   "execution_count": 68,
>>>>>>> upstream/main
   "metadata": {
    "tags": []
   },
   "outputs": [
    {
     "ename": "NameError",
     "evalue": "name 'train_almost_ready' is not defined",
     "output_type": "error",
     "traceback": [
      "\u001b[1;31m---------------------------------------------------------------------------\u001b[0m",
      "\u001b[1;31mNameError\u001b[0m                                 Traceback (most recent call last)",
      "\u001b[1;32m~\\AppData\\Local\\Temp\\ipykernel_11740\\196261281.py\u001b[0m in \u001b[0;36m<module>\u001b[1;34m\u001b[0m\n\u001b[1;32m----> 1\u001b[1;33m \u001b[0mtrain_almost_ready_encoded\u001b[0m \u001b[1;33m=\u001b[0m \u001b[0mfunc_oneHotEnconder\u001b[0m\u001b[1;33m(\u001b[0m\u001b[0mtrain_almost_ready\u001b[0m\u001b[1;33m,\u001b[0m \u001b[1;33m[\u001b[0m\u001b[1;34m\"Sex\"\u001b[0m\u001b[1;33m,\u001b[0m\u001b[1;34m\"Embarked\"\u001b[0m\u001b[1;33m]\u001b[0m\u001b[1;33m)\u001b[0m\u001b[1;33m\u001b[0m\u001b[1;33m\u001b[0m\u001b[0m\n\u001b[0m",
      "\u001b[1;31mNameError\u001b[0m: name 'train_almost_ready' is not defined"
     ]
    }
   ],
   "source": [
    "train_almost_ready_encoded = func_oneHotEnconder(train_almost_ready, [\"Sex\",\"Embarked\"])"
   ]
  },
  {
   "cell_type": "code",
   "execution_count": 69,
   "metadata": {
    "tags": []
   },
   "outputs": [],
   "source": [
    "pipe_preprocessed = preprocessing.fit_transform(train)"
   ]
  },
  {
   "cell_type": "code",
   "execution_count": 70,
   "metadata": {
    "tags": []
   },
   "outputs": [],
   "source": [
    "df_check = pd.DataFrame(pipe_preprocessed, columns= preprocessing.get_feature_names_out())"
   ]
  },
  {
   "cell_type": "code",
   "execution_count": 71,
   "metadata": {
    "tags": []
   },
   "outputs": [
    {
     "data": {
      "text/html": [
       "<div>\n",
       "<style scoped>\n",
       "    .dataframe tbody tr th:only-of-type {\n",
       "        vertical-align: middle;\n",
       "    }\n",
       "\n",
       "    .dataframe tbody tr th {\n",
       "        vertical-align: top;\n",
       "    }\n",
       "\n",
       "    .dataframe thead th {\n",
       "        text-align: right;\n",
       "    }\n",
       "</style>\n",
       "<table border=\"1\" class=\"dataframe\">\n",
       "  <thead>\n",
       "    <tr style=\"text-align: right;\">\n",
       "      <th></th>\n",
       "      <th>Survived</th>\n",
       "      <th>Pclass</th>\n",
       "      <th>Age</th>\n",
       "      <th>SibSp</th>\n",
       "      <th>Parch</th>\n",
       "      <th>Fare</th>\n",
       "      <th>Sex_female</th>\n",
       "      <th>Sex_male</th>\n",
       "      <th>Embarked_C</th>\n",
       "      <th>Embarked_Q</th>\n",
       "      <th>Embarked_S</th>\n",
       "    </tr>\n",
       "  </thead>\n",
       "  <tbody>\n",
       "    <tr>\n",
       "      <th>0</th>\n",
       "      <td>0</td>\n",
       "      <td>3</td>\n",
       "      <td>22.0</td>\n",
       "      <td>1</td>\n",
       "      <td>0</td>\n",
       "      <td>7.2500</td>\n",
       "      <td>0.0</td>\n",
       "      <td>1.0</td>\n",
       "      <td>0.0</td>\n",
       "      <td>0.0</td>\n",
       "      <td>1.0</td>\n",
       "    </tr>\n",
       "    <tr>\n",
       "      <th>1</th>\n",
       "      <td>1</td>\n",
       "      <td>1</td>\n",
       "      <td>38.0</td>\n",
       "      <td>1</td>\n",
       "      <td>0</td>\n",
       "      <td>71.2833</td>\n",
       "      <td>1.0</td>\n",
       "      <td>0.0</td>\n",
       "      <td>1.0</td>\n",
       "      <td>0.0</td>\n",
       "      <td>0.0</td>\n",
       "    </tr>\n",
       "    <tr>\n",
       "      <th>2</th>\n",
       "      <td>1</td>\n",
       "      <td>3</td>\n",
       "      <td>26.0</td>\n",
       "      <td>0</td>\n",
       "      <td>0</td>\n",
       "      <td>7.9250</td>\n",
       "      <td>1.0</td>\n",
       "      <td>0.0</td>\n",
       "      <td>0.0</td>\n",
       "      <td>0.0</td>\n",
       "      <td>1.0</td>\n",
       "    </tr>\n",
       "    <tr>\n",
       "      <th>3</th>\n",
       "      <td>1</td>\n",
       "      <td>1</td>\n",
       "      <td>35.0</td>\n",
       "      <td>1</td>\n",
       "      <td>0</td>\n",
       "      <td>53.1000</td>\n",
       "      <td>1.0</td>\n",
       "      <td>0.0</td>\n",
       "      <td>0.0</td>\n",
       "      <td>0.0</td>\n",
       "      <td>1.0</td>\n",
       "    </tr>\n",
       "    <tr>\n",
       "      <th>4</th>\n",
       "      <td>0</td>\n",
       "      <td>3</td>\n",
       "      <td>35.0</td>\n",
       "      <td>0</td>\n",
       "      <td>0</td>\n",
       "      <td>8.0500</td>\n",
       "      <td>0.0</td>\n",
       "      <td>1.0</td>\n",
       "      <td>0.0</td>\n",
       "      <td>0.0</td>\n",
       "      <td>1.0</td>\n",
       "    </tr>\n",
       "  </tbody>\n",
       "</table>\n",
       "</div>"
      ],
      "text/plain": [
       "   Survived  Pclass   Age  SibSp  Parch     Fare  Sex_female  Sex_male   \n",
       "0         0       3  22.0      1      0   7.2500         0.0       1.0  \\\n",
       "1         1       1  38.0      1      0  71.2833         1.0       0.0   \n",
       "2         1       3  26.0      0      0   7.9250         1.0       0.0   \n",
       "3         1       1  35.0      1      0  53.1000         1.0       0.0   \n",
       "4         0       3  35.0      0      0   8.0500         0.0       1.0   \n",
       "\n",
       "   Embarked_C  Embarked_Q  Embarked_S  \n",
       "0         0.0         0.0         1.0  \n",
       "1         1.0         0.0         0.0  \n",
       "2         0.0         0.0         1.0  \n",
       "3         0.0         0.0         1.0  \n",
       "4         0.0         0.0         1.0  "
      ]
     },
     "execution_count": 71,
     "metadata": {},
     "output_type": "execute_result"
    }
   ],
   "source": [
    "train_almost_ready_encoded.head()"
   ]
  },
  {
   "cell_type": "code",
   "execution_count": 72,
   "metadata": {
    "tags": []
   },
   "outputs": [
    {
     "data": {
      "text/html": [
       "<div>\n",
       "<style scoped>\n",
       "    .dataframe tbody tr th:only-of-type {\n",
       "        vertical-align: middle;\n",
       "    }\n",
       "\n",
       "    .dataframe tbody tr th {\n",
       "        vertical-align: top;\n",
       "    }\n",
       "\n",
       "    .dataframe thead th {\n",
       "        text-align: right;\n",
       "    }\n",
       "</style>\n",
       "<table border=\"1\" class=\"dataframe\">\n",
       "  <thead>\n",
       "    <tr style=\"text-align: right;\">\n",
       "      <th></th>\n",
       "      <th>Impute_Numeric__Age</th>\n",
       "      <th>Process_Categorical__Sex_female</th>\n",
       "      <th>Process_Categorical__Sex_male</th>\n",
       "      <th>Process_Categorical__Embarked_C</th>\n",
       "      <th>Process_Categorical__Embarked_Q</th>\n",
       "      <th>Process_Categorical__Embarked_S</th>\n",
       "      <th>remainder__Survived</th>\n",
       "      <th>remainder__Pclass</th>\n",
       "      <th>remainder__SibSp</th>\n",
       "      <th>remainder__Parch</th>\n",
       "      <th>remainder__Fare</th>\n",
       "    </tr>\n",
       "  </thead>\n",
       "  <tbody>\n",
       "    <tr>\n",
       "      <th>0</th>\n",
       "      <td>22.0</td>\n",
       "      <td>0.0</td>\n",
       "      <td>1.0</td>\n",
       "      <td>0.0</td>\n",
       "      <td>0.0</td>\n",
       "      <td>1.0</td>\n",
       "      <td>0.0</td>\n",
       "      <td>3.0</td>\n",
       "      <td>1.0</td>\n",
       "      <td>0.0</td>\n",
       "      <td>7.2500</td>\n",
       "    </tr>\n",
       "    <tr>\n",
       "      <th>1</th>\n",
       "      <td>38.0</td>\n",
       "      <td>1.0</td>\n",
       "      <td>0.0</td>\n",
       "      <td>1.0</td>\n",
       "      <td>0.0</td>\n",
       "      <td>0.0</td>\n",
       "      <td>1.0</td>\n",
       "      <td>1.0</td>\n",
       "      <td>1.0</td>\n",
       "      <td>0.0</td>\n",
       "      <td>71.2833</td>\n",
       "    </tr>\n",
       "    <tr>\n",
       "      <th>2</th>\n",
       "      <td>26.0</td>\n",
       "      <td>1.0</td>\n",
       "      <td>0.0</td>\n",
       "      <td>0.0</td>\n",
       "      <td>0.0</td>\n",
       "      <td>1.0</td>\n",
       "      <td>1.0</td>\n",
       "      <td>3.0</td>\n",
       "      <td>0.0</td>\n",
       "      <td>0.0</td>\n",
       "      <td>7.9250</td>\n",
       "    </tr>\n",
       "    <tr>\n",
       "      <th>3</th>\n",
       "      <td>35.0</td>\n",
       "      <td>1.0</td>\n",
       "      <td>0.0</td>\n",
       "      <td>0.0</td>\n",
       "      <td>0.0</td>\n",
       "      <td>1.0</td>\n",
       "      <td>1.0</td>\n",
       "      <td>1.0</td>\n",
       "      <td>1.0</td>\n",
       "      <td>0.0</td>\n",
       "      <td>53.1000</td>\n",
       "    </tr>\n",
       "    <tr>\n",
       "      <th>4</th>\n",
       "      <td>35.0</td>\n",
       "      <td>0.0</td>\n",
       "      <td>1.0</td>\n",
       "      <td>0.0</td>\n",
       "      <td>0.0</td>\n",
       "      <td>1.0</td>\n",
       "      <td>0.0</td>\n",
       "      <td>3.0</td>\n",
       "      <td>0.0</td>\n",
       "      <td>0.0</td>\n",
       "      <td>8.0500</td>\n",
       "    </tr>\n",
       "  </tbody>\n",
       "</table>\n",
       "</div>"
      ],
      "text/plain": [
       "   Impute_Numeric__Age  Process_Categorical__Sex_female   \n",
       "0                 22.0                              0.0  \\\n",
       "1                 38.0                              1.0   \n",
       "2                 26.0                              1.0   \n",
       "3                 35.0                              1.0   \n",
       "4                 35.0                              0.0   \n",
       "\n",
       "   Process_Categorical__Sex_male  Process_Categorical__Embarked_C   \n",
       "0                            1.0                              0.0  \\\n",
       "1                            0.0                              1.0   \n",
       "2                            0.0                              0.0   \n",
       "3                            0.0                              0.0   \n",
       "4                            1.0                              0.0   \n",
       "\n",
       "   Process_Categorical__Embarked_Q  Process_Categorical__Embarked_S   \n",
       "0                              0.0                              1.0  \\\n",
       "1                              0.0                              0.0   \n",
       "2                              0.0                              1.0   \n",
       "3                              0.0                              1.0   \n",
       "4                              0.0                              1.0   \n",
       "\n",
       "   remainder__Survived  remainder__Pclass  remainder__SibSp  remainder__Parch   \n",
       "0                  0.0                3.0               1.0               0.0  \\\n",
       "1                  1.0                1.0               1.0               0.0   \n",
       "2                  1.0                3.0               0.0               0.0   \n",
       "3                  1.0                1.0               1.0               0.0   \n",
       "4                  0.0                3.0               0.0               0.0   \n",
       "\n",
       "   remainder__Fare  \n",
       "0           7.2500  \n",
       "1          71.2833  \n",
       "2           7.9250  \n",
       "3          53.1000  \n",
       "4           8.0500  "
      ]
     },
     "execution_count": 72,
     "metadata": {},
     "output_type": "execute_result"
    }
   ],
   "source": [
    "df_check.head()"
   ]
  },
  {
   "cell_type": "code",
   "execution_count": 73,
   "metadata": {
    "tags": []
   },
   "outputs": [
    {
     "name": "stdout",
     "output_type": "stream",
     "text": [
      "<class 'pandas.core.frame.DataFrame'>\n",
      "RangeIndex: 891 entries, 0 to 890\n",
      "Data columns (total 11 columns):\n",
      " #   Column      Non-Null Count  Dtype  \n",
      "---  ------      --------------  -----  \n",
      " 0   Survived    891 non-null    int64  \n",
      " 1   Pclass      891 non-null    int64  \n",
      " 2   Age         891 non-null    float64\n",
      " 3   SibSp       891 non-null    int64  \n",
      " 4   Parch       891 non-null    int64  \n",
      " 5   Fare        891 non-null    float64\n",
      " 6   Sex_female  891 non-null    float64\n",
      " 7   Sex_male    891 non-null    float64\n",
      " 8   Embarked_C  891 non-null    float64\n",
      " 9   Embarked_Q  891 non-null    float64\n",
      " 10  Embarked_S  891 non-null    float64\n",
      "dtypes: float64(7), int64(4)\n",
      "memory usage: 76.7 KB\n"
     ]
    }
   ],
   "source": [
    "train_almost_ready_encoded.info()"
   ]
  },
  {
   "cell_type": "code",
   "execution_count": 74,
   "metadata": {
    "tags": []
   },
   "outputs": [
    {
     "data": {
      "text/plain": [
       "Parch\n",
       "0    678\n",
       "1    118\n",
       "2     80\n",
       "5      5\n",
       "3      5\n",
       "4      4\n",
       "6      1\n",
       "Name: count, dtype: int64"
      ]
     },
     "execution_count": 74,
     "metadata": {},
     "output_type": "execute_result"
    }
   ],
   "source": [
    "train.Parch.value_counts()"
   ]
  },
  {
   "attachments": {},
   "cell_type": "markdown",
   "metadata": {},
   "source": [
    "La distribución de __Fare__ tiene una forma de larga cola que puede beneficiarse de una transformación logarítmica"
   ]
  },
  {
   "cell_type": "code",
   "execution_count": 75,
   "metadata": {
    "tags": []
   },
   "outputs": [
    {
     "data": {
      "text/html": [
       "<div>\n",
       "<style scoped>\n",
       "    .dataframe tbody tr th:only-of-type {\n",
       "        vertical-align: middle;\n",
       "    }\n",
       "\n",
       "    .dataframe tbody tr th {\n",
       "        vertical-align: top;\n",
       "    }\n",
       "\n",
       "    .dataframe thead th {\n",
       "        text-align: right;\n",
       "    }\n",
       "</style>\n",
       "<table border=\"1\" class=\"dataframe\">\n",
       "  <thead>\n",
       "    <tr style=\"text-align: right;\">\n",
       "      <th></th>\n",
       "      <th>PassengerId</th>\n",
       "      <th>Survived</th>\n",
       "      <th>Pclass</th>\n",
       "      <th>Name</th>\n",
       "      <th>Sex</th>\n",
       "      <th>Age</th>\n",
       "      <th>SibSp</th>\n",
       "      <th>Parch</th>\n",
       "      <th>Ticket</th>\n",
       "      <th>Fare</th>\n",
       "      <th>Cabin</th>\n",
       "      <th>Embarked</th>\n",
       "    </tr>\n",
       "  </thead>\n",
       "  <tbody>\n",
       "    <tr>\n",
       "      <th>179</th>\n",
       "      <td>180</td>\n",
       "      <td>0</td>\n",
       "      <td>3</td>\n",
       "      <td>Leonard, Mr. Lionel</td>\n",
       "      <td>male</td>\n",
       "      <td>36.0</td>\n",
       "      <td>0</td>\n",
       "      <td>0</td>\n",
       "      <td>LINE</td>\n",
       "      <td>0.0</td>\n",
       "      <td>NaN</td>\n",
       "      <td>S</td>\n",
       "    </tr>\n",
       "    <tr>\n",
       "      <th>263</th>\n",
       "      <td>264</td>\n",
       "      <td>0</td>\n",
       "      <td>1</td>\n",
       "      <td>Harrison, Mr. William</td>\n",
       "      <td>male</td>\n",
       "      <td>40.0</td>\n",
       "      <td>0</td>\n",
       "      <td>0</td>\n",
       "      <td>112059</td>\n",
       "      <td>0.0</td>\n",
       "      <td>B94</td>\n",
       "      <td>S</td>\n",
       "    </tr>\n",
       "    <tr>\n",
       "      <th>271</th>\n",
       "      <td>272</td>\n",
       "      <td>1</td>\n",
       "      <td>3</td>\n",
       "      <td>Tornquist, Mr. William Henry</td>\n",
       "      <td>male</td>\n",
       "      <td>25.0</td>\n",
       "      <td>0</td>\n",
       "      <td>0</td>\n",
       "      <td>LINE</td>\n",
       "      <td>0.0</td>\n",
       "      <td>NaN</td>\n",
       "      <td>S</td>\n",
       "    </tr>\n",
       "    <tr>\n",
       "      <th>277</th>\n",
       "      <td>278</td>\n",
       "      <td>0</td>\n",
       "      <td>2</td>\n",
       "      <td>Parkes, Mr. Francis \"Frank\"</td>\n",
       "      <td>male</td>\n",
       "      <td>NaN</td>\n",
       "      <td>0</td>\n",
       "      <td>0</td>\n",
       "      <td>239853</td>\n",
       "      <td>0.0</td>\n",
       "      <td>NaN</td>\n",
       "      <td>S</td>\n",
       "    </tr>\n",
       "    <tr>\n",
       "      <th>302</th>\n",
       "      <td>303</td>\n",
       "      <td>0</td>\n",
       "      <td>3</td>\n",
       "      <td>Johnson, Mr. William Cahoone Jr</td>\n",
       "      <td>male</td>\n",
       "      <td>19.0</td>\n",
       "      <td>0</td>\n",
       "      <td>0</td>\n",
       "      <td>LINE</td>\n",
       "      <td>0.0</td>\n",
       "      <td>NaN</td>\n",
       "      <td>S</td>\n",
       "    </tr>\n",
       "    <tr>\n",
       "      <th>413</th>\n",
       "      <td>414</td>\n",
       "      <td>0</td>\n",
       "      <td>2</td>\n",
       "      <td>Cunningham, Mr. Alfred Fleming</td>\n",
       "      <td>male</td>\n",
       "      <td>NaN</td>\n",
       "      <td>0</td>\n",
       "      <td>0</td>\n",
       "      <td>239853</td>\n",
       "      <td>0.0</td>\n",
       "      <td>NaN</td>\n",
       "      <td>S</td>\n",
       "    </tr>\n",
       "    <tr>\n",
       "      <th>466</th>\n",
       "      <td>467</td>\n",
       "      <td>0</td>\n",
       "      <td>2</td>\n",
       "      <td>Campbell, Mr. William</td>\n",
       "      <td>male</td>\n",
       "      <td>NaN</td>\n",
       "      <td>0</td>\n",
       "      <td>0</td>\n",
       "      <td>239853</td>\n",
       "      <td>0.0</td>\n",
       "      <td>NaN</td>\n",
       "      <td>S</td>\n",
       "    </tr>\n",
       "    <tr>\n",
       "      <th>481</th>\n",
       "      <td>482</td>\n",
       "      <td>0</td>\n",
       "      <td>2</td>\n",
       "      <td>Frost, Mr. Anthony Wood \"Archie\"</td>\n",
       "      <td>male</td>\n",
       "      <td>NaN</td>\n",
       "      <td>0</td>\n",
       "      <td>0</td>\n",
       "      <td>239854</td>\n",
       "      <td>0.0</td>\n",
       "      <td>NaN</td>\n",
       "      <td>S</td>\n",
       "    </tr>\n",
       "    <tr>\n",
       "      <th>597</th>\n",
       "      <td>598</td>\n",
       "      <td>0</td>\n",
       "      <td>3</td>\n",
       "      <td>Johnson, Mr. Alfred</td>\n",
       "      <td>male</td>\n",
       "      <td>49.0</td>\n",
       "      <td>0</td>\n",
       "      <td>0</td>\n",
       "      <td>LINE</td>\n",
       "      <td>0.0</td>\n",
       "      <td>NaN</td>\n",
       "      <td>S</td>\n",
       "    </tr>\n",
       "    <tr>\n",
       "      <th>633</th>\n",
       "      <td>634</td>\n",
       "      <td>0</td>\n",
       "      <td>1</td>\n",
       "      <td>Parr, Mr. William Henry Marsh</td>\n",
       "      <td>male</td>\n",
       "      <td>NaN</td>\n",
       "      <td>0</td>\n",
       "      <td>0</td>\n",
       "      <td>112052</td>\n",
       "      <td>0.0</td>\n",
       "      <td>NaN</td>\n",
       "      <td>S</td>\n",
       "    </tr>\n",
       "    <tr>\n",
       "      <th>674</th>\n",
       "      <td>675</td>\n",
       "      <td>0</td>\n",
       "      <td>2</td>\n",
       "      <td>Watson, Mr. Ennis Hastings</td>\n",
       "      <td>male</td>\n",
       "      <td>NaN</td>\n",
       "      <td>0</td>\n",
       "      <td>0</td>\n",
       "      <td>239856</td>\n",
       "      <td>0.0</td>\n",
       "      <td>NaN</td>\n",
       "      <td>S</td>\n",
       "    </tr>\n",
       "    <tr>\n",
       "      <th>732</th>\n",
       "      <td>733</td>\n",
       "      <td>0</td>\n",
       "      <td>2</td>\n",
       "      <td>Knight, Mr. Robert J</td>\n",
       "      <td>male</td>\n",
       "      <td>NaN</td>\n",
       "      <td>0</td>\n",
       "      <td>0</td>\n",
       "      <td>239855</td>\n",
       "      <td>0.0</td>\n",
       "      <td>NaN</td>\n",
       "      <td>S</td>\n",
       "    </tr>\n",
       "    <tr>\n",
       "      <th>806</th>\n",
       "      <td>807</td>\n",
       "      <td>0</td>\n",
       "      <td>1</td>\n",
       "      <td>Andrews, Mr. Thomas Jr</td>\n",
       "      <td>male</td>\n",
       "      <td>39.0</td>\n",
       "      <td>0</td>\n",
       "      <td>0</td>\n",
       "      <td>112050</td>\n",
       "      <td>0.0</td>\n",
       "      <td>A36</td>\n",
       "      <td>S</td>\n",
       "    </tr>\n",
       "    <tr>\n",
       "      <th>815</th>\n",
       "      <td>816</td>\n",
       "      <td>0</td>\n",
       "      <td>1</td>\n",
       "      <td>Fry, Mr. Richard</td>\n",
       "      <td>male</td>\n",
       "      <td>NaN</td>\n",
       "      <td>0</td>\n",
       "      <td>0</td>\n",
       "      <td>112058</td>\n",
       "      <td>0.0</td>\n",
       "      <td>B102</td>\n",
       "      <td>S</td>\n",
       "    </tr>\n",
       "    <tr>\n",
       "      <th>822</th>\n",
       "      <td>823</td>\n",
       "      <td>0</td>\n",
       "      <td>1</td>\n",
       "      <td>Reuchlin, Jonkheer. John George</td>\n",
       "      <td>male</td>\n",
       "      <td>38.0</td>\n",
       "      <td>0</td>\n",
       "      <td>0</td>\n",
       "      <td>19972</td>\n",
       "      <td>0.0</td>\n",
       "      <td>NaN</td>\n",
       "      <td>S</td>\n",
       "    </tr>\n",
       "  </tbody>\n",
       "</table>\n",
       "</div>"
      ],
      "text/plain": [
       "     PassengerId  Survived  Pclass                              Name   Sex   \n",
       "179          180         0       3               Leonard, Mr. Lionel  male  \\\n",
       "263          264         0       1             Harrison, Mr. William  male   \n",
       "271          272         1       3      Tornquist, Mr. William Henry  male   \n",
       "277          278         0       2       Parkes, Mr. Francis \"Frank\"  male   \n",
       "302          303         0       3   Johnson, Mr. William Cahoone Jr  male   \n",
       "413          414         0       2    Cunningham, Mr. Alfred Fleming  male   \n",
       "466          467         0       2             Campbell, Mr. William  male   \n",
       "481          482         0       2  Frost, Mr. Anthony Wood \"Archie\"  male   \n",
       "597          598         0       3               Johnson, Mr. Alfred  male   \n",
       "633          634         0       1     Parr, Mr. William Henry Marsh  male   \n",
       "674          675         0       2        Watson, Mr. Ennis Hastings  male   \n",
       "732          733         0       2              Knight, Mr. Robert J  male   \n",
       "806          807         0       1            Andrews, Mr. Thomas Jr  male   \n",
       "815          816         0       1                  Fry, Mr. Richard  male   \n",
       "822          823         0       1   Reuchlin, Jonkheer. John George  male   \n",
       "\n",
       "      Age  SibSp  Parch  Ticket  Fare Cabin Embarked  \n",
       "179  36.0      0      0    LINE   0.0   NaN        S  \n",
       "263  40.0      0      0  112059   0.0   B94        S  \n",
       "271  25.0      0      0    LINE   0.0   NaN        S  \n",
       "277   NaN      0      0  239853   0.0   NaN        S  \n",
       "302  19.0      0      0    LINE   0.0   NaN        S  \n",
       "413   NaN      0      0  239853   0.0   NaN        S  \n",
       "466   NaN      0      0  239853   0.0   NaN        S  \n",
       "481   NaN      0      0  239854   0.0   NaN        S  \n",
       "597  49.0      0      0    LINE   0.0   NaN        S  \n",
       "633   NaN      0      0  112052   0.0   NaN        S  \n",
       "674   NaN      0      0  239856   0.0   NaN        S  \n",
       "732   NaN      0      0  239855   0.0   NaN        S  \n",
       "806  39.0      0      0  112050   0.0   A36        S  \n",
       "815   NaN      0      0  112058   0.0  B102        S  \n",
       "822  38.0      0      0   19972   0.0   NaN        S  "
      ]
     },
     "execution_count": 75,
     "metadata": {},
     "output_type": "execute_result"
    }
   ],
   "source": [
    "train[train.Fare <1]"
   ]
  },
  {
   "cell_type": "code",
   "execution_count": 76,
   "metadata": {
    "tags": []
   },
   "outputs": [
    {
     "data": {
      "text/plain": [
       "-inf"
      ]
     },
     "execution_count": 76,
     "metadata": {},
     "output_type": "execute_result"
    }
   ],
   "source": [
    "train.Fare.apply(np.log).min()"
   ]
  },
  {
   "cell_type": "code",
   "execution_count": 78,
   "metadata": {},
   "outputs": [],
   "source": [
    "train['Fare'] = train['Fare'] + 1"
   ]
  },
  {
   "cell_type": "code",
   "execution_count": 79,
   "metadata": {
    "tags": []
   },
   "outputs": [
    {
     "data": {
<<<<<<< HEAD
      "image/png": "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",
=======
      "image/png": "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",
>>>>>>> upstream/main
      "text/plain": [
       "<Figure size 576x216 with 2 Axes>"
      ]
     },
     "metadata": {
      "needs_background": "light"
     },
     "output_type": "display_data"
    }
   ],
   "source": [
    "fig, axs = plt.subplots(1, 2, figsize=(8, 3), sharey=True)\n",
    "train[\"Fare\"].hist(ax=axs[0], bins=20)\n",
    "train[\"Fare\"].apply(np.log).hist(ax=axs[1], bins=20)\n",
    "axs[0].set_xlabel(\"Fare\")\n",
    "#axs[1].set_xlabel(\"Log of Fare\")\n",
    "axs[0].set_ylabel(\"Pounds\")\n",
    "\n",
    "plt.show()"
   ]
  },
  {
   "attachments": {},
   "cell_type": "markdown",
   "metadata": {
    "tags": []
   },
   "source": [
    "## Escalado"
   ]
  },
  {
   "attachments": {},
   "cell_type": "markdown",
   "metadata": {
    "tags": []
   },
   "source": [
    "Dado que utilizaremos un LogisticRegressor, entre otros, vamos a escalar  \n",
    "Pero sólo con las verdaderas variables numéricas (PClass, SibSp y Parch son realmente ordinales, las dejamos tal cual)\n",
    "Si queremos rascar más podemos escalarlas posteriormente y volver a probar."
   ]
  },
  {
   "cell_type": "code",
   "execution_count": 80,
   "metadata": {
    "tags": []
   },
   "outputs": [],
   "source": [
    "# Encoding with functions\n",
    "from sklearn.preprocessing import StandardScaler\n",
    "\n",
    "def func_StandardScaler(X, cols_to_scale):\n",
    "    X_temp = X.copy()\n",
    "    SScaler = StandardScaler()\n",
    "    SScaler.fit(X_temp[cols_to_scale])\n",
    "    X_temp[cols_to_scale] = SScaler.transform(X_temp[cols_to_scale])\n",
    "    return X_temp"
   ]
  },
  {
   "cell_type": "code",
   "execution_count": 81,
   "metadata": {
    "tags": []
   },
   "outputs": [],
   "source": [
    "numeric_cols = [\"Age\",\"Fare\"]"
   ]
  },
  {
   "cell_type": "code",
   "execution_count": 82,
   "metadata": {
    "tags": []
   },
   "outputs": [],
   "source": [
    "train_processed = func_StandardScaler(train_almost_ready_encoded, numeric_cols)"
   ]
  },
  {
   "cell_type": "code",
   "execution_count": 83,
   "metadata": {
    "tags": []
   },
   "outputs": [
    {
     "data": {
      "text/html": [
       "<div>\n",
       "<style scoped>\n",
       "    .dataframe tbody tr th:only-of-type {\n",
       "        vertical-align: middle;\n",
       "    }\n",
       "\n",
       "    .dataframe tbody tr th {\n",
       "        vertical-align: top;\n",
       "    }\n",
       "\n",
       "    .dataframe thead th {\n",
       "        text-align: right;\n",
       "    }\n",
       "</style>\n",
       "<table border=\"1\" class=\"dataframe\">\n",
       "  <thead>\n",
       "    <tr style=\"text-align: right;\">\n",
       "      <th></th>\n",
       "      <th>Survived</th>\n",
       "      <th>Pclass</th>\n",
       "      <th>Age</th>\n",
       "      <th>SibSp</th>\n",
       "      <th>Parch</th>\n",
       "      <th>Fare</th>\n",
       "      <th>Sex_female</th>\n",
       "      <th>Sex_male</th>\n",
       "      <th>Embarked_C</th>\n",
       "      <th>Embarked_Q</th>\n",
       "      <th>Embarked_S</th>\n",
       "    </tr>\n",
       "  </thead>\n",
       "  <tbody>\n",
       "    <tr>\n",
       "      <th>0</th>\n",
       "      <td>0</td>\n",
       "      <td>3</td>\n",
       "      <td>-0.597055</td>\n",
       "      <td>1</td>\n",
       "      <td>0</td>\n",
       "      <td>-0.502445</td>\n",
       "      <td>0.0</td>\n",
       "      <td>1.0</td>\n",
       "      <td>0.0</td>\n",
       "      <td>0.0</td>\n",
       "      <td>1.0</td>\n",
       "    </tr>\n",
       "    <tr>\n",
       "      <th>1</th>\n",
       "      <td>1</td>\n",
       "      <td>1</td>\n",
       "      <td>0.634162</td>\n",
       "      <td>1</td>\n",
       "      <td>0</td>\n",
       "      <td>0.786845</td>\n",
       "      <td>1.0</td>\n",
       "      <td>0.0</td>\n",
       "      <td>1.0</td>\n",
       "      <td>0.0</td>\n",
       "      <td>0.0</td>\n",
       "    </tr>\n",
       "    <tr>\n",
       "      <th>2</th>\n",
       "      <td>1</td>\n",
       "      <td>3</td>\n",
       "      <td>-0.289251</td>\n",
       "      <td>0</td>\n",
       "      <td>0</td>\n",
       "      <td>-0.488854</td>\n",
       "      <td>1.0</td>\n",
       "      <td>0.0</td>\n",
       "      <td>0.0</td>\n",
       "      <td>0.0</td>\n",
       "      <td>1.0</td>\n",
       "    </tr>\n",
       "    <tr>\n",
       "      <th>3</th>\n",
       "      <td>1</td>\n",
       "      <td>1</td>\n",
       "      <td>0.403309</td>\n",
       "      <td>1</td>\n",
       "      <td>0</td>\n",
       "      <td>0.420730</td>\n",
       "      <td>1.0</td>\n",
       "      <td>0.0</td>\n",
       "      <td>0.0</td>\n",
       "      <td>0.0</td>\n",
       "      <td>1.0</td>\n",
       "    </tr>\n",
       "    <tr>\n",
       "      <th>4</th>\n",
       "      <td>0</td>\n",
       "      <td>3</td>\n",
       "      <td>0.403309</td>\n",
       "      <td>0</td>\n",
       "      <td>0</td>\n",
       "      <td>-0.486337</td>\n",
       "      <td>0.0</td>\n",
       "      <td>1.0</td>\n",
       "      <td>0.0</td>\n",
       "      <td>0.0</td>\n",
       "      <td>1.0</td>\n",
       "    </tr>\n",
       "    <tr>\n",
       "      <th>...</th>\n",
       "      <td>...</td>\n",
       "      <td>...</td>\n",
       "      <td>...</td>\n",
       "      <td>...</td>\n",
       "      <td>...</td>\n",
       "      <td>...</td>\n",
       "      <td>...</td>\n",
       "      <td>...</td>\n",
       "      <td>...</td>\n",
       "      <td>...</td>\n",
       "      <td>...</td>\n",
       "    </tr>\n",
       "    <tr>\n",
       "      <th>886</th>\n",
       "      <td>0</td>\n",
       "      <td>2</td>\n",
       "      <td>-0.212299</td>\n",
       "      <td>0</td>\n",
       "      <td>0</td>\n",
       "      <td>-0.386671</td>\n",
       "      <td>0.0</td>\n",
       "      <td>1.0</td>\n",
       "      <td>0.0</td>\n",
       "      <td>0.0</td>\n",
       "      <td>1.0</td>\n",
       "    </tr>\n",
       "    <tr>\n",
       "      <th>887</th>\n",
       "      <td>1</td>\n",
       "      <td>1</td>\n",
       "      <td>-0.827908</td>\n",
       "      <td>0</td>\n",
       "      <td>0</td>\n",
       "      <td>-0.044381</td>\n",
       "      <td>1.0</td>\n",
       "      <td>0.0</td>\n",
       "      <td>0.0</td>\n",
       "      <td>0.0</td>\n",
       "      <td>1.0</td>\n",
       "    </tr>\n",
       "    <tr>\n",
       "      <th>888</th>\n",
       "      <td>0</td>\n",
       "      <td>3</td>\n",
       "      <td>0.018554</td>\n",
       "      <td>1</td>\n",
       "      <td>2</td>\n",
       "      <td>-0.176263</td>\n",
       "      <td>1.0</td>\n",
       "      <td>0.0</td>\n",
       "      <td>0.0</td>\n",
       "      <td>0.0</td>\n",
       "      <td>1.0</td>\n",
       "    </tr>\n",
       "    <tr>\n",
       "      <th>889</th>\n",
       "      <td>1</td>\n",
       "      <td>1</td>\n",
       "      <td>-0.289251</td>\n",
       "      <td>0</td>\n",
       "      <td>0</td>\n",
       "      <td>-0.044381</td>\n",
       "      <td>0.0</td>\n",
       "      <td>1.0</td>\n",
       "      <td>1.0</td>\n",
       "      <td>0.0</td>\n",
       "      <td>0.0</td>\n",
       "    </tr>\n",
       "    <tr>\n",
       "      <th>890</th>\n",
       "      <td>0</td>\n",
       "      <td>3</td>\n",
       "      <td>0.172456</td>\n",
       "      <td>0</td>\n",
       "      <td>0</td>\n",
       "      <td>-0.492378</td>\n",
       "      <td>0.0</td>\n",
       "      <td>1.0</td>\n",
       "      <td>0.0</td>\n",
       "      <td>1.0</td>\n",
       "      <td>0.0</td>\n",
       "    </tr>\n",
       "  </tbody>\n",
       "</table>\n",
       "<p>891 rows × 11 columns</p>\n",
       "</div>"
      ],
      "text/plain": [
       "     Survived  Pclass       Age  SibSp  Parch      Fare  Sex_female  Sex_male   \n",
       "0           0       3 -0.597055      1      0 -0.502445         0.0       1.0  \\\n",
       "1           1       1  0.634162      1      0  0.786845         1.0       0.0   \n",
       "2           1       3 -0.289251      0      0 -0.488854         1.0       0.0   \n",
       "3           1       1  0.403309      1      0  0.420730         1.0       0.0   \n",
       "4           0       3  0.403309      0      0 -0.486337         0.0       1.0   \n",
       "..        ...     ...       ...    ...    ...       ...         ...       ...   \n",
       "886         0       2 -0.212299      0      0 -0.386671         0.0       1.0   \n",
       "887         1       1 -0.827908      0      0 -0.044381         1.0       0.0   \n",
       "888         0       3  0.018554      1      2 -0.176263         1.0       0.0   \n",
       "889         1       1 -0.289251      0      0 -0.044381         0.0       1.0   \n",
       "890         0       3  0.172456      0      0 -0.492378         0.0       1.0   \n",
       "\n",
       "     Embarked_C  Embarked_Q  Embarked_S  \n",
       "0           0.0         0.0         1.0  \n",
       "1           1.0         0.0         0.0  \n",
       "2           0.0         0.0         1.0  \n",
       "3           0.0         0.0         1.0  \n",
       "4           0.0         0.0         1.0  \n",
       "..          ...         ...         ...  \n",
       "886         0.0         0.0         1.0  \n",
       "887         0.0         0.0         1.0  \n",
       "888         0.0         0.0         1.0  \n",
       "889         1.0         0.0         0.0  \n",
       "890         0.0         1.0         0.0  \n",
       "\n",
       "[891 rows x 11 columns]"
      ]
     },
     "execution_count": 83,
     "metadata": {},
     "output_type": "execute_result"
    }
   ],
   "source": [
    "train_processed"
   ]
  },
  {
   "cell_type": "code",
   "execution_count": 84,
   "metadata": {
    "tags": []
   },
   "outputs": [],
   "source": [
    "cat_pipeline = Pipeline(\n",
    "    [(\"Impute_Mode\", SimpleImputer(strategy = \"most_frequent\")),\n",
    "     (\"OHEncoder\", OneHotEncoder())\n",
    "    ]\n",
    ")\n",
    "\n",
    "num_pipeline = Pipeline(\n",
    "    [(\"Impute_Mean\", SimpleImputer(strategy = \"mean\")),\n",
    "     (\"SScaler\", StandardScaler())\n",
    "    ]\n",
    ")\n",
    "\n",
    "preprocessing = ColumnTransformer(\n",
    "    [(\"Impute_Numeric\", num_pipeline, [\"Age\",\"Fare\"]),\n",
    "     (\"Process_Categorical\", cat_pipeline, [\"Sex\",\"Embarked\"]),\n",
    "     (\"Exclude\", \"drop\", columns_to_exclude)\n",
    "    ], remainder = \"passthrough\")"
   ]
  },
  {
   "cell_type": "code",
   "execution_count": 85,
   "metadata": {
    "tags": []
   },
   "outputs": [],
   "source": [
    "pipe_preprocessed = preprocessing.fit_transform(train)"
   ]
  },
  {
   "cell_type": "code",
   "execution_count": 86,
   "metadata": {
    "tags": []
   },
   "outputs": [],
   "source": [
    "df_check = pd.DataFrame(pipe_preprocessed, columns= preprocessing.get_feature_names_out())"
   ]
  },
  {
   "attachments": {},
   "cell_type": "markdown",
   "metadata": {
    "tags": []
   },
   "source": [
    "## Agrupamos funciones para el procesado e incluimos Survived en las excluidas (lo deberíamos haber hecho al principio)"
   ]
  },
  {
   "cell_type": "code",
   "execution_count": 87,
   "metadata": {
    "tags": []
   },
   "outputs": [],
   "source": [
    "# Preprocesado en una única función, todo junto\n",
    "\n",
    "def func_exclude_columns(X, exclude_cols = columns_to_exclude):\n",
    "    # Skip missing values from colum\n",
    "    X_temp = X[[col for col in X.columns if col not in exclude_cols]].copy()\n",
    "    return X_temp\n",
    "    \n",
    "def func_missing_imputer(X, mean_col_imputed = [], mode_col_imputed = []):\n",
    "    X_temp = X.copy()\n",
    "    for col in mean_col_imputed:\n",
    "        valor_imputado = round(X_temp[col].mean(),0)\n",
    "        es_nulo = X_temp[col].isna()\n",
    "        X_temp.loc[es_nulo,col] = valor_imputado\n",
    "    for col in mode_col_imputed:\n",
    "        valor_imputado = X_temp[col].mode().values[0]\n",
    "        es_nulo = X_temp[col].isna()\n",
    "        X_temp.loc[es_nulo,col] = valor_imputado\n",
    "    return X_temp\n",
    "            \n",
    "\n",
    "def func_oneHotEnconder(X, cols_to_encode):\n",
    "    X_temp = X.copy()\n",
    "    OHEncoder = OneHotEncoder()\n",
    "    OHEncoder.fit(X_temp[cols_to_encode])\n",
    "    X_temp = pd.concat([X_temp, pd.DataFrame(OHEncoder.transform(X_temp[cols_to_encode]).toarray(),\n",
    "                                            columns = OHEncoder.get_feature_names_out())], axis = 1)\n",
    "    return X_temp.drop(cols_to_encode, axis = 1)\n",
    "    \n",
    "def func_StandardScaler(X, cols_to_scale):\n",
    "    X_temp = X.copy()\n",
    "    SScaler = StandardScaler()\n",
    "    SScaler.fit(X_temp[cols_to_scale])\n",
    "    X_temp[cols_to_scale] = SScaler.transform(X_temp[cols_to_scale])\n",
    "    return X_temp\n",
    "\n",
    "columns_to_exclude.append(\"Survived\")\n",
    "def preprocess_data(X, columns_to_exclude = columns_to_exclude, \n",
    "                    mean_col_imputed = [\"Age\"], \n",
    "                    mode_col_imputed = [\"Embarked\"], \n",
    "                    cols_to_encode = [\"Sex\",\"Embarked\",\"Pclass\"], \n",
    "                    cols_to_scale = [\"Age\",\"Fare\"]):\n",
    "    X_temp = func_exclude_columns(X, columns_to_exclude)\n",
    "    X_temp = func_missing_imputer(X_temp, mean_col_imputed, mode_col_imputed)\n",
    "    X_temp = func_oneHotEnconder(X_temp, cols_to_encode)\n",
    "    X_temp = func_StandardScaler(X_temp, cols_to_scale)\n",
    "    return X_temp\n",
    "    \n",
    "    "
   ]
  },
  {
   "cell_type": "code",
   "execution_count": 88,
   "metadata": {
    "tags": []
   },
   "outputs": [],
   "source": [
    "# Modo Pipeline\n",
    "\n",
    "cat_pipeline = Pipeline(\n",
    "    [(\"Impute_Mode\", SimpleImputer(strategy = \"most_frequent\")),\n",
    "     (\"OHEncoder\", OneHotEncoder())\n",
    "    ]\n",
    ")\n",
    "\n",
    "num_pipeline = Pipeline(\n",
    "    [(\"Impute_Mean\", SimpleImputer(strategy = \"mean\")),\n",
    "     (\"SScaler\", StandardScaler())\n",
    "    ]\n",
    ")\n",
    "\n",
    "preprocessing = ColumnTransformer(\n",
    "    [(\"Impute_Numeric\", num_pipeline, [\"Age\",\"Fare\"]),\n",
    "     (\"Process_Categorical\", cat_pipeline, [\"Sex\",\"Embarked\",\"Pclass\"]),\n",
    "     (\"Exclude\", \"drop\", columns_to_exclude)\n",
    "    ], remainder = \"passthrough\")\n"
   ]
  },
  {
   "cell_type": "code",
   "execution_count": 89,
   "metadata": {
    "tags": []
   },
   "outputs": [],
   "source": [
    "func_train = preprocess_data(train)"
   ]
  },
  {
   "cell_type": "code",
   "execution_count": 90,
   "metadata": {
    "tags": []
   },
   "outputs": [],
   "source": [
    "pipe_train = preprocessing.fit_transform(train)"
   ]
  },
  {
   "cell_type": "code",
   "execution_count": 91,
   "metadata": {
    "tags": []
   },
   "outputs": [],
   "source": [
    "df_pipe_train = pd.DataFrame(pipe_train, columns = preprocessing.get_feature_names_out())"
   ]
  },
  {
   "cell_type": "code",
   "execution_count": 92,
   "metadata": {
    "tags": []
   },
   "outputs": [
    {
     "data": {
      "text/html": [
       "<div>\n",
       "<style scoped>\n",
       "    .dataframe tbody tr th:only-of-type {\n",
       "        vertical-align: middle;\n",
       "    }\n",
       "\n",
       "    .dataframe tbody tr th {\n",
       "        vertical-align: top;\n",
       "    }\n",
       "\n",
       "    .dataframe thead th {\n",
       "        text-align: right;\n",
       "    }\n",
       "</style>\n",
       "<table border=\"1\" class=\"dataframe\">\n",
       "  <thead>\n",
       "    <tr style=\"text-align: right;\">\n",
       "      <th></th>\n",
       "      <th>Age</th>\n",
       "      <th>SibSp</th>\n",
       "      <th>Parch</th>\n",
       "      <th>Fare</th>\n",
       "      <th>Sex_female</th>\n",
       "      <th>Sex_male</th>\n",
       "      <th>Embarked_C</th>\n",
       "      <th>Embarked_Q</th>\n",
       "      <th>Embarked_S</th>\n",
       "      <th>Pclass_1</th>\n",
       "      <th>Pclass_2</th>\n",
       "      <th>Pclass_3</th>\n",
       "    </tr>\n",
       "  </thead>\n",
       "  <tbody>\n",
       "    <tr>\n",
       "      <th>0</th>\n",
       "      <td>-0.597055</td>\n",
       "      <td>1</td>\n",
       "      <td>0</td>\n",
       "      <td>-0.502445</td>\n",
       "      <td>0.0</td>\n",
       "      <td>1.0</td>\n",
       "      <td>0.0</td>\n",
       "      <td>0.0</td>\n",
       "      <td>1.0</td>\n",
       "      <td>0.0</td>\n",
       "      <td>0.0</td>\n",
       "      <td>1.0</td>\n",
       "    </tr>\n",
       "    <tr>\n",
       "      <th>1</th>\n",
       "      <td>0.634162</td>\n",
       "      <td>1</td>\n",
       "      <td>0</td>\n",
       "      <td>0.786845</td>\n",
       "      <td>1.0</td>\n",
       "      <td>0.0</td>\n",
       "      <td>1.0</td>\n",
       "      <td>0.0</td>\n",
       "      <td>0.0</td>\n",
       "      <td>1.0</td>\n",
       "      <td>0.0</td>\n",
       "      <td>0.0</td>\n",
       "    </tr>\n",
       "    <tr>\n",
       "      <th>2</th>\n",
       "      <td>-0.289251</td>\n",
       "      <td>0</td>\n",
       "      <td>0</td>\n",
       "      <td>-0.488854</td>\n",
       "      <td>1.0</td>\n",
       "      <td>0.0</td>\n",
       "      <td>0.0</td>\n",
       "      <td>0.0</td>\n",
       "      <td>1.0</td>\n",
       "      <td>0.0</td>\n",
       "      <td>0.0</td>\n",
       "      <td>1.0</td>\n",
       "    </tr>\n",
       "    <tr>\n",
       "      <th>3</th>\n",
       "      <td>0.403309</td>\n",
       "      <td>1</td>\n",
       "      <td>0</td>\n",
       "      <td>0.420730</td>\n",
       "      <td>1.0</td>\n",
       "      <td>0.0</td>\n",
       "      <td>0.0</td>\n",
       "      <td>0.0</td>\n",
       "      <td>1.0</td>\n",
       "      <td>1.0</td>\n",
       "      <td>0.0</td>\n",
       "      <td>0.0</td>\n",
       "    </tr>\n",
       "    <tr>\n",
       "      <th>4</th>\n",
       "      <td>0.403309</td>\n",
       "      <td>0</td>\n",
       "      <td>0</td>\n",
       "      <td>-0.486337</td>\n",
       "      <td>0.0</td>\n",
       "      <td>1.0</td>\n",
       "      <td>0.0</td>\n",
       "      <td>0.0</td>\n",
       "      <td>1.0</td>\n",
       "      <td>0.0</td>\n",
       "      <td>0.0</td>\n",
       "      <td>1.0</td>\n",
       "    </tr>\n",
       "  </tbody>\n",
       "</table>\n",
       "</div>"
      ],
      "text/plain": [
       "        Age  SibSp  Parch      Fare  Sex_female  Sex_male  Embarked_C   \n",
       "0 -0.597055      1      0 -0.502445         0.0       1.0         0.0  \\\n",
       "1  0.634162      1      0  0.786845         1.0       0.0         1.0   \n",
       "2 -0.289251      0      0 -0.488854         1.0       0.0         0.0   \n",
       "3  0.403309      1      0  0.420730         1.0       0.0         0.0   \n",
       "4  0.403309      0      0 -0.486337         0.0       1.0         0.0   \n",
       "\n",
       "   Embarked_Q  Embarked_S  Pclass_1  Pclass_2  Pclass_3  \n",
       "0         0.0         1.0       0.0       0.0       1.0  \n",
       "1         0.0         0.0       1.0       0.0       0.0  \n",
       "2         0.0         1.0       0.0       0.0       1.0  \n",
       "3         0.0         1.0       1.0       0.0       0.0  \n",
       "4         0.0         1.0       0.0       0.0       1.0  "
      ]
     },
     "execution_count": 92,
     "metadata": {},
     "output_type": "execute_result"
    }
   ],
   "source": [
    "func_train.head()"
   ]
  },
  {
   "cell_type": "code",
   "execution_count": 93,
   "metadata": {
    "tags": []
   },
   "outputs": [
    {
     "data": {
      "text/html": [
       "<div>\n",
       "<style scoped>\n",
       "    .dataframe tbody tr th:only-of-type {\n",
       "        vertical-align: middle;\n",
       "    }\n",
       "\n",
       "    .dataframe tbody tr th {\n",
       "        vertical-align: top;\n",
       "    }\n",
       "\n",
       "    .dataframe thead th {\n",
       "        text-align: right;\n",
       "    }\n",
       "</style>\n",
       "<table border=\"1\" class=\"dataframe\">\n",
       "  <thead>\n",
       "    <tr style=\"text-align: right;\">\n",
       "      <th></th>\n",
       "      <th>Impute_Numeric__Age</th>\n",
       "      <th>Impute_Numeric__Fare</th>\n",
       "      <th>Process_Categorical__Sex_female</th>\n",
       "      <th>Process_Categorical__Sex_male</th>\n",
       "      <th>Process_Categorical__Embarked_C</th>\n",
       "      <th>Process_Categorical__Embarked_Q</th>\n",
       "      <th>Process_Categorical__Embarked_S</th>\n",
       "      <th>Process_Categorical__Pclass_1</th>\n",
       "      <th>Process_Categorical__Pclass_2</th>\n",
       "      <th>Process_Categorical__Pclass_3</th>\n",
       "      <th>remainder__SibSp</th>\n",
       "      <th>remainder__Parch</th>\n",
       "    </tr>\n",
       "  </thead>\n",
       "  <tbody>\n",
       "    <tr>\n",
       "      <th>0</th>\n",
       "      <td>-0.592481</td>\n",
       "      <td>-0.502445</td>\n",
       "      <td>0.0</td>\n",
       "      <td>1.0</td>\n",
       "      <td>0.0</td>\n",
       "      <td>0.0</td>\n",
       "      <td>1.0</td>\n",
       "      <td>0.0</td>\n",
       "      <td>0.0</td>\n",
       "      <td>1.0</td>\n",
       "      <td>1.0</td>\n",
       "      <td>0.0</td>\n",
       "    </tr>\n",
       "    <tr>\n",
       "      <th>1</th>\n",
       "      <td>0.638789</td>\n",
       "      <td>0.786845</td>\n",
       "      <td>1.0</td>\n",
       "      <td>0.0</td>\n",
       "      <td>1.0</td>\n",
       "      <td>0.0</td>\n",
       "      <td>0.0</td>\n",
       "      <td>1.0</td>\n",
       "      <td>0.0</td>\n",
       "      <td>0.0</td>\n",
       "      <td>1.0</td>\n",
       "      <td>0.0</td>\n",
       "    </tr>\n",
       "    <tr>\n",
       "      <th>2</th>\n",
       "      <td>-0.284663</td>\n",
       "      <td>-0.488854</td>\n",
       "      <td>1.0</td>\n",
       "      <td>0.0</td>\n",
       "      <td>0.0</td>\n",
       "      <td>0.0</td>\n",
       "      <td>1.0</td>\n",
       "      <td>0.0</td>\n",
       "      <td>0.0</td>\n",
       "      <td>1.0</td>\n",
       "      <td>0.0</td>\n",
       "      <td>0.0</td>\n",
       "    </tr>\n",
       "    <tr>\n",
       "      <th>3</th>\n",
       "      <td>0.407926</td>\n",
       "      <td>0.420730</td>\n",
       "      <td>1.0</td>\n",
       "      <td>0.0</td>\n",
       "      <td>0.0</td>\n",
       "      <td>0.0</td>\n",
       "      <td>1.0</td>\n",
       "      <td>1.0</td>\n",
       "      <td>0.0</td>\n",
       "      <td>0.0</td>\n",
       "      <td>1.0</td>\n",
       "      <td>0.0</td>\n",
       "    </tr>\n",
       "    <tr>\n",
       "      <th>4</th>\n",
       "      <td>0.407926</td>\n",
       "      <td>-0.486337</td>\n",
       "      <td>0.0</td>\n",
       "      <td>1.0</td>\n",
       "      <td>0.0</td>\n",
       "      <td>0.0</td>\n",
       "      <td>1.0</td>\n",
       "      <td>0.0</td>\n",
       "      <td>0.0</td>\n",
       "      <td>1.0</td>\n",
       "      <td>0.0</td>\n",
       "      <td>0.0</td>\n",
       "    </tr>\n",
       "  </tbody>\n",
       "</table>\n",
       "</div>"
      ],
      "text/plain": [
       "   Impute_Numeric__Age  Impute_Numeric__Fare  Process_Categorical__Sex_female   \n",
       "0            -0.592481             -0.502445                              0.0  \\\n",
       "1             0.638789              0.786845                              1.0   \n",
       "2            -0.284663             -0.488854                              1.0   \n",
       "3             0.407926              0.420730                              1.0   \n",
       "4             0.407926             -0.486337                              0.0   \n",
       "\n",
       "   Process_Categorical__Sex_male  Process_Categorical__Embarked_C   \n",
       "0                            1.0                              0.0  \\\n",
       "1                            0.0                              1.0   \n",
       "2                            0.0                              0.0   \n",
       "3                            0.0                              0.0   \n",
       "4                            1.0                              0.0   \n",
       "\n",
       "   Process_Categorical__Embarked_Q  Process_Categorical__Embarked_S   \n",
       "0                              0.0                              1.0  \\\n",
       "1                              0.0                              0.0   \n",
       "2                              0.0                              1.0   \n",
       "3                              0.0                              1.0   \n",
       "4                              0.0                              1.0   \n",
       "\n",
       "   Process_Categorical__Pclass_1  Process_Categorical__Pclass_2   \n",
       "0                            0.0                            0.0  \\\n",
       "1                            1.0                            0.0   \n",
       "2                            0.0                            0.0   \n",
       "3                            1.0                            0.0   \n",
       "4                            0.0                            0.0   \n",
       "\n",
       "   Process_Categorical__Pclass_3  remainder__SibSp  remainder__Parch  \n",
       "0                            1.0               1.0               0.0  \n",
       "1                            0.0               1.0               0.0  \n",
       "2                            1.0               0.0               0.0  \n",
       "3                            0.0               1.0               0.0  \n",
       "4                            1.0               0.0               0.0  "
      ]
     },
     "execution_count": 93,
     "metadata": {},
     "output_type": "execute_result"
    }
   ],
   "source": [
    "df_pipe_train.head()"
   ]
  },
  {
   "cell_type": "code",
   "execution_count": 94,
   "metadata": {
    "tags": []
   },
   "outputs": [],
   "source": [
    "y_train = train.Survived"
   ]
  },
  {
   "attachments": {},
   "cell_type": "markdown",
   "metadata": {
    "tags": []
   },
   "source": [
    "## A MODELAR"
   ]
  },
  {
   "attachments": {},
   "cell_type": "markdown",
   "metadata": {},
   "source": [
    "Seguiremos comparando el sistema con funciones vs. el sistema con Pipes"
   ]
  },
  {
   "attachments": {},
   "cell_type": "markdown",
   "metadata": {},
   "source": [
    "Vamos a comparar __LogistRegression__, __RandomForest__ y __XGBoost__"
   ]
  },
  {
   "cell_type": "code",
<<<<<<< HEAD
   "execution_count": 154,
=======
   "execution_count": 95,
>>>>>>> upstream/main
   "metadata": {
    "tags": []
   },
   "outputs": [
    {
     "ename": "ModuleNotFoundError",
     "evalue": "No module named 'xgboost'",
     "output_type": "error",
     "traceback": [
      "\u001b[1;31m---------------------------------------------------------------------------\u001b[0m",
      "\u001b[1;31mModuleNotFoundError\u001b[0m                       Traceback (most recent call last)",
      "\u001b[1;32m~\\AppData\\Local\\Temp\\ipykernel_11740\\659342825.py\u001b[0m in \u001b[0;36m<module>\u001b[1;34m\u001b[0m\n\u001b[0;32m      2\u001b[0m \u001b[1;32mfrom\u001b[0m \u001b[0msklearn\u001b[0m\u001b[1;33m.\u001b[0m\u001b[0mensemble\u001b[0m \u001b[1;32mimport\u001b[0m \u001b[0mRandomForestClassifier\u001b[0m\u001b[1;33m\u001b[0m\u001b[1;33m\u001b[0m\u001b[0m\n\u001b[0;32m      3\u001b[0m \u001b[1;32mfrom\u001b[0m \u001b[0msklearn\u001b[0m\u001b[1;33m.\u001b[0m\u001b[0mmodel_selection\u001b[0m \u001b[1;32mimport\u001b[0m \u001b[0mcross_val_score\u001b[0m\u001b[1;33m\u001b[0m\u001b[1;33m\u001b[0m\u001b[0m\n\u001b[1;32m----> 4\u001b[1;33m \u001b[1;32mfrom\u001b[0m \u001b[0mxgboost\u001b[0m \u001b[1;32mimport\u001b[0m \u001b[0mXGBClassifier\u001b[0m\u001b[1;33m\u001b[0m\u001b[1;33m\u001b[0m\u001b[0m\n\u001b[0m\u001b[0;32m      5\u001b[0m \u001b[1;32mimport\u001b[0m \u001b[0mre\u001b[0m\u001b[1;33m\u001b[0m\u001b[1;33m\u001b[0m\u001b[0m\n",
      "\u001b[1;31mModuleNotFoundError\u001b[0m: No module named 'xgboost'"
     ]
    }
   ],
   "source": [
    "from sklearn.linear_model import LogisticRegression\n",
    "from sklearn.ensemble import RandomForestClassifier\n",
    "from sklearn.model_selection import cross_val_score\n",
    "from xgboost import XGBClassifier\n",
    "import re\n"
   ]
  },
  {
   "cell_type": "code",
   "execution_count": 96,
   "metadata": {
    "tags": []
   },
   "outputs": [],
   "source": [
    "# Usando funciones\n",
    "\n",
    "\n",
    "model_list = [LogisticRegression, RandomForestClassifier, XGBClassifier]\n",
    "\n",
    "def model(model_list,X = None,y = None, cv = 5, scoring = \"accuracy\"):\n",
    "    resultados = {}\n",
    "    X_train = preprocess_data(X)\n",
    "    for model in model_list:\n",
    "        model_name = re.match(\"<class '(.*?)'>\",str(model)).group(1).split(\".\")[-1]\n",
    "        resultados[model_name] = cross_val_score(model(), X_train,y, cv = cv, scoring = scoring)\n",
    "        print(\"<%s>: %.4f\" %(model_name,np.mean(resultados[model_name])))\n",
    "    return resultados"
   ]
  },
  {
   "cell_type": "code",
   "execution_count": 97,
   "metadata": {
    "tags": []
   },
   "outputs": [
    {
     "name": "stdout",
     "output_type": "stream",
     "text": [
      "<LogisticRegression>: 0.7935\n",
      "<RandomForestClassifier>: 0.8137\n",
      "<XGBClassifier>: 0.8115\n"
     ]
    },
    {
     "data": {
      "text/plain": [
       "{'LogisticRegression': array([0.77653631, 0.79775281, 0.78651685, 0.76966292, 0.83707865]),\n",
       " 'RandomForestClassifier': array([0.7877095 , 0.79775281, 0.86516854, 0.78651685, 0.83146067]),\n",
       " 'XGBClassifier': array([0.77094972, 0.80898876, 0.85955056, 0.76966292, 0.84831461])}"
      ]
     },
     "execution_count": 97,
     "metadata": {},
     "output_type": "execute_result"
    }
   ],
   "source": [
    "model(model_list,train,y_train)"
   ]
  },
  {
   "cell_type": "code",
   "execution_count": 98,
   "metadata": {
    "tags": []
   },
   "outputs": [
    {
     "name": "stdout",
     "output_type": "stream",
     "text": [
      "logistic: 0.7946\n",
      "[0.77653631 0.80337079 0.78651685 0.76966292 0.83707865]\n",
      "randomF: 0.8126\n",
      "[0.79888268 0.79775281 0.85955056 0.7752809  0.83146067]\n",
      "XGB: 0.8092\n",
      "[0.7877095  0.81460674 0.83146067 0.78089888 0.83146067]\n"
     ]
    }
   ],
   "source": [
    "# Usando Pipes\n",
    "\n",
    "logistic_pipeline = Pipeline(\n",
    "    [(\"Preprocesado\", preprocessing),\n",
    "     (\"Modelo\", LogisticRegression())\n",
    "    ])\n",
    "\n",
    "random_pipeline = Pipeline(\n",
    "    [(\"Preprocesado\", preprocessing),\n",
    "     (\"Modelo\", RandomForestClassifier())\n",
    "    ])\n",
    "\n",
    "xgb_pipeline = Pipeline(\n",
    "    [(\"Preprocesado\", preprocessing),\n",
    "     (\"Modelo\", XGBClassifier())\n",
    "    ])\n",
    "\n",
    "for name,pipe in zip([\"logistic\",\"randomF\", \"XGB\"],[logistic_pipeline, random_pipeline, xgb_pipeline]):\n",
    "    resultado = cross_val_score(pipe, train, y_train, cv = 5, scoring = \"accuracy\")\n",
    "    print(f\"{name}: {np.mean(resultado):.4f}\")\n",
    "    print(resultado)\n",
    "    "
   ]
  },
  {
   "attachments": {},
   "cell_type": "markdown",
   "metadata": {
    "tags": []
   },
   "source": [
    "Los valores en CV son similares, así que vamos a comparar después de ajustar los hiperparámetros"
   ]
  },
  {
   "cell_type": "code",
   "execution_count": 99,
   "metadata": {
    "tags": []
   },
   "outputs": [],
   "source": [
    "from sklearn.model_selection import GridSearchCV\n",
    "\n",
    "# Definimos sus hiperparametros\n",
    "reg_log_param = {    \n",
    "                 \"penalty\": [None,\"l2\"], \n",
    "                 \"C\": np.logspace(0, 4, 10)\n",
    "                }\n",
    "\n",
    "rand_forest_param = {\n",
    "    'n_estimators': [10, 100, 200, 400],\n",
    "    'max_depth': [1,2,4,8],\n",
    "    'max_features': [1, 2, 3]\n",
    "    }\n",
    "\n",
    "xgb_param = {\n",
    "    'n_estimators': [10, 100, 200, 400],\n",
    "    'max_depth': [1,2,4,8],\n",
    "    'learning_rate': [0.1,0.2,0.5,1.0]\n",
    "}\n",
    "\n",
    "cv = 5\n",
    "\n",
    "gs_reg_log = GridSearchCV(LogisticRegression(),\n",
    "                            reg_log_param,\n",
    "                            cv=cv,\n",
    "                            scoring=\"accuracy\",\n",
    "                            verbose=1,\n",
    "                            n_jobs=-1)\n",
    "\n",
    "gs_rand_forest = GridSearchCV(RandomForestClassifier(),\n",
    "                            rand_forest_param,\n",
    "                            cv=cv,\n",
    "                            scoring=\"accuracy\",\n",
    "                            verbose=1,\n",
    "                            n_jobs=-1)\n",
    "\n",
    "gs_xgb = GridSearchCV(XGBClassifier(),\n",
    "                        xgb_param,\n",
    "                        cv=cv,\n",
    "                        scoring=\"accuracy\",\n",
    "                        verbose=1,\n",
    "                        n_jobs=-1)\n",
    "\n",
    "grids = {\"gs_reg_log\":gs_reg_log,\n",
    "         \"gs_rand_forest\":gs_rand_forest,\n",
    "         \"gs_xgb\":gs_xgb}\n",
    "    \n",
    "\n"
   ]
  },
  {
   "cell_type": "code",
   "execution_count": 100,
   "metadata": {
    "tags": []
   },
   "outputs": [
    {
     "name": "stdout",
     "output_type": "stream",
     "text": [
      "Fitting 5 folds for each of 20 candidates, totalling 100 fits\n"
     ]
    },
    {
     "name": "stderr",
     "output_type": "stream",
     "text": [
      "c:\\Users\\jamr1\\miniconda3\\envs\\este\\lib\\site-packages\\sklearn\\model_selection\\_validation.py:378: FitFailedWarning: \n",
      "50 fits failed out of a total of 100.\n",
      "The score on these train-test partitions for these parameters will be set to nan.\n",
      "If these failures are not expected, you can try to debug them by setting error_score='raise'.\n",
      "\n",
      "Below are more details about the failures:\n",
      "--------------------------------------------------------------------------------\n",
      "50 fits failed with the following error:\n",
      "Traceback (most recent call last):\n",
      "  File \"c:\\Users\\jamr1\\miniconda3\\envs\\este\\lib\\site-packages\\sklearn\\model_selection\\_validation.py\", line 686, in _fit_and_score\n",
      "    estimator.fit(X_train, y_train, **fit_params)\n",
      "  File \"c:\\Users\\jamr1\\miniconda3\\envs\\este\\lib\\site-packages\\sklearn\\linear_model\\_logistic.py\", line 1091, in fit\n",
      "    solver = _check_solver(self.solver, self.penalty, self.dual)\n",
      "  File \"c:\\Users\\jamr1\\miniconda3\\envs\\este\\lib\\site-packages\\sklearn\\linear_model\\_logistic.py\", line 55, in _check_solver\n",
      "    raise ValueError(\n",
      "ValueError: Logistic Regression supports only penalties in ['l1', 'l2', 'elasticnet', 'none'], got None.\n",
      "\n",
      "  warnings.warn(some_fits_failed_message, FitFailedWarning)\n",
      "c:\\Users\\jamr1\\miniconda3\\envs\\este\\lib\\site-packages\\sklearn\\model_selection\\_search.py:953: UserWarning: One or more of the test scores are non-finite: [       nan 0.79350951        nan 0.7890214         nan 0.7890214\n",
      "        nan 0.7890214         nan 0.7890214         nan 0.7890214\n",
      "        nan 0.7890214         nan 0.7890214         nan 0.7890214\n",
      "        nan 0.7890214 ]\n",
      "  warnings.warn(\n"
     ]
    },
    {
     "name": "stdout",
     "output_type": "stream",
     "text": [
      "Fitting 5 folds for each of 48 candidates, totalling 240 fits\n",
      "Fitting 5 folds for each of 64 candidates, totalling 320 fits\n",
      "CPU times: total: 3.53 s\n",
      "Wall time: 20.5 s\n"
     ]
    }
   ],
   "source": [
    "%%time\n",
    "X_train = preprocess_data(train)\n",
    "for nombre, grid_search in grids.items():\n",
    "    grid_search.fit(X_train, y_train)"
   ]
  },
  {
   "cell_type": "code",
   "execution_count": 101,
   "metadata": {
    "tags": []
   },
   "outputs": [
    {
     "data": {
      "text/html": [
       "<div>\n",
       "<style scoped>\n",
       "    .dataframe tbody tr th:only-of-type {\n",
       "        vertical-align: middle;\n",
       "    }\n",
       "\n",
       "    .dataframe tbody tr th {\n",
       "        vertical-align: top;\n",
       "    }\n",
       "\n",
       "    .dataframe thead th {\n",
       "        text-align: right;\n",
       "    }\n",
       "</style>\n",
       "<table border=\"1\" class=\"dataframe\">\n",
       "  <thead>\n",
       "    <tr style=\"text-align: right;\">\n",
       "      <th></th>\n",
       "      <th>Grid</th>\n",
       "      <th>Best score</th>\n",
       "    </tr>\n",
       "  </thead>\n",
       "  <tbody>\n",
       "    <tr>\n",
       "      <th>2</th>\n",
       "      <td>gs_xgb</td>\n",
       "      <td>0.831674</td>\n",
       "    </tr>\n",
       "    <tr>\n",
       "      <th>1</th>\n",
       "      <td>gs_rand_forest</td>\n",
       "      <td>0.828322</td>\n",
       "    </tr>\n",
       "    <tr>\n",
       "      <th>0</th>\n",
       "      <td>gs_reg_log</td>\n",
       "      <td>0.793510</td>\n",
       "    </tr>\n",
       "  </tbody>\n",
       "</table>\n",
       "</div>"
      ],
      "text/plain": [
       "             Grid  Best score\n",
       "2          gs_xgb    0.831674\n",
       "1  gs_rand_forest    0.828322\n",
       "0      gs_reg_log    0.793510"
      ]
     },
     "execution_count": 101,
     "metadata": {},
     "output_type": "execute_result"
    }
   ],
   "source": [
    "best_grids = [(i, j.best_score_) for i, j in grids.items()]\n",
    "\n",
    "best_grids = pd.DataFrame(best_grids, columns=[\"Grid\", \"Best score\"]).sort_values(by=\"Best score\", ascending=False)\n",
    "best_grids"
   ]
  },
  {
   "cell_type": "code",
   "execution_count": 102,
   "metadata": {
    "tags": []
   },
   "outputs": [],
   "source": [
    "pipe_reg_log_param = {    \n",
    "                 \"Modelo__penalty\": [None,\"l2\"], \n",
    "                 \"Modelo__C\": np.logspace(0, 4, 10)\n",
    "                }\n",
    "\n",
    "pipe_rand_forest_param = {\n",
    "    'Modelo__n_estimators': [10, 100, 200, 400],\n",
    "    'Modelo__max_depth': [1,2,4,8],\n",
    "    'Modelo__max_features': [1, 2, 3]\n",
    "    }\n",
    "\n",
    "pipe_xgb_param = {\n",
    "    'Modelo__n_estimators': [10, 100, 200, 400],\n",
    "    'Modelo__max_depth': [1,2,4,8],\n",
    "    'Modelo__learning_rate': [0.1,0.2,0.5,1.0]\n",
    "}\n",
    "\n",
    "cv = 5\n",
    "\n",
    "gs_reg_log = GridSearchCV(logistic_pipeline,\n",
    "                            pipe_reg_log_param,\n",
    "                            cv=cv,\n",
    "                            scoring=\"accuracy\",\n",
    "                            verbose=1,\n",
    "                            n_jobs=-1)\n",
    "\n",
    "gs_rand_forest = GridSearchCV(random_pipeline,\n",
    "                            pipe_rand_forest_param,\n",
    "                            cv=cv,\n",
    "                            scoring=\"accuracy\",\n",
    "                            verbose=1,\n",
    "                            n_jobs=-1)\n",
    "\n",
    "gs_xgb = GridSearchCV(xgb_pipeline,\n",
    "                        pipe_xgb_param,\n",
    "                        cv=cv,\n",
    "                        scoring=\"accuracy\",\n",
    "                        verbose=1,\n",
    "                        n_jobs=-1)\n",
    "\n",
    "pipe_grids = {\"gs_reg_log\":gs_reg_log,\n",
    "         \"gs_rand_forest\":gs_rand_forest,\n",
    "         \"gs_xgb\":gs_xgb}\n",
    "    \n",
    "\n"
   ]
  },
  {
   "cell_type": "code",
   "execution_count": 103,
   "metadata": {
    "tags": []
   },
   "outputs": [
    {
     "name": "stdout",
     "output_type": "stream",
     "text": [
      "Fitting 5 folds for each of 20 candidates, totalling 100 fits\n"
     ]
    },
    {
     "name": "stderr",
     "output_type": "stream",
     "text": [
      "c:\\Users\\jamr1\\miniconda3\\envs\\este\\lib\\site-packages\\sklearn\\model_selection\\_validation.py:378: FitFailedWarning: \n",
      "50 fits failed out of a total of 100.\n",
      "The score on these train-test partitions for these parameters will be set to nan.\n",
      "If these failures are not expected, you can try to debug them by setting error_score='raise'.\n",
      "\n",
      "Below are more details about the failures:\n",
      "--------------------------------------------------------------------------------\n",
      "50 fits failed with the following error:\n",
      "Traceback (most recent call last):\n",
      "  File \"c:\\Users\\jamr1\\miniconda3\\envs\\este\\lib\\site-packages\\sklearn\\model_selection\\_validation.py\", line 686, in _fit_and_score\n",
      "    estimator.fit(X_train, y_train, **fit_params)\n",
      "  File \"c:\\Users\\jamr1\\miniconda3\\envs\\este\\lib\\site-packages\\sklearn\\pipeline.py\", line 382, in fit\n",
      "    self._final_estimator.fit(Xt, y, **fit_params_last_step)\n",
      "  File \"c:\\Users\\jamr1\\miniconda3\\envs\\este\\lib\\site-packages\\sklearn\\linear_model\\_logistic.py\", line 1091, in fit\n",
      "    solver = _check_solver(self.solver, self.penalty, self.dual)\n",
      "  File \"c:\\Users\\jamr1\\miniconda3\\envs\\este\\lib\\site-packages\\sklearn\\linear_model\\_logistic.py\", line 55, in _check_solver\n",
      "    raise ValueError(\n",
      "ValueError: Logistic Regression supports only penalties in ['l1', 'l2', 'elasticnet', 'none'], got None.\n",
      "\n",
      "  warnings.warn(some_fits_failed_message, FitFailedWarning)\n",
      "c:\\Users\\jamr1\\miniconda3\\envs\\este\\lib\\site-packages\\sklearn\\model_selection\\_search.py:953: UserWarning: One or more of the test scores are non-finite: [       nan 0.79463311        nan 0.790145          nan 0.790145\n",
      "        nan 0.790145          nan 0.790145          nan 0.790145\n",
      "        nan 0.790145          nan 0.790145          nan 0.790145\n",
      "        nan 0.790145  ]\n",
      "  warnings.warn(\n"
     ]
    },
    {
     "name": "stdout",
     "output_type": "stream",
     "text": [
      "Fitting 5 folds for each of 48 candidates, totalling 240 fits\n",
      "Fitting 5 folds for each of 64 candidates, totalling 320 fits\n",
      "CPU times: total: 3.73 s\n",
      "Wall time: 15.4 s\n"
     ]
    }
   ],
   "source": [
    "%%time\n",
    "for nombre, grid_search in pipe_grids.items():\n",
    "    grid_search.fit(train, y_train)"
   ]
  },
  {
   "cell_type": "code",
   "execution_count": 104,
   "metadata": {
    "tags": []
   },
   "outputs": [
    {
     "data": {
      "text/html": [
       "<div>\n",
       "<style scoped>\n",
       "    .dataframe tbody tr th:only-of-type {\n",
       "        vertical-align: middle;\n",
       "    }\n",
       "\n",
       "    .dataframe tbody tr th {\n",
       "        vertical-align: top;\n",
       "    }\n",
       "\n",
       "    .dataframe thead th {\n",
       "        text-align: right;\n",
       "    }\n",
       "</style>\n",
       "<table border=\"1\" class=\"dataframe\">\n",
       "  <thead>\n",
       "    <tr style=\"text-align: right;\">\n",
       "      <th></th>\n",
       "      <th>Grid</th>\n",
       "      <th>Best score</th>\n",
       "    </tr>\n",
       "  </thead>\n",
       "  <tbody>\n",
       "    <tr>\n",
       "      <th>2</th>\n",
       "      <td>gs_xgb</td>\n",
       "      <td>0.835051</td>\n",
       "    </tr>\n",
       "    <tr>\n",
       "      <th>1</th>\n",
       "      <td>gs_rand_forest</td>\n",
       "      <td>0.829446</td>\n",
       "    </tr>\n",
       "    <tr>\n",
       "      <th>0</th>\n",
       "      <td>gs_reg_log</td>\n",
       "      <td>0.794633</td>\n",
       "    </tr>\n",
       "  </tbody>\n",
       "</table>\n",
       "</div>"
      ],
      "text/plain": [
       "             Grid  Best score\n",
       "2          gs_xgb    0.835051\n",
       "1  gs_rand_forest    0.829446\n",
       "0      gs_reg_log    0.794633"
      ]
     },
     "execution_count": 104,
     "metadata": {},
     "output_type": "execute_result"
    }
   ],
   "source": [
    "best_grids = [(i, j.best_score_) for i, j in pipe_grids.items()]\n",
    "\n",
    "best_grids = pd.DataFrame(best_grids, columns=[\"Grid\", \"Best score\"]).sort_values(by=\"Best score\", ascending=False)\n",
    "best_grids"
   ]
  },
  {
   "cell_type": "code",
   "execution_count": 110,
   "metadata": {
    "tags": []
   },
   "outputs": [],
   "source": [
    "y_test = test.Survived"
   ]
  },
  {
   "cell_type": "code",
   "execution_count": 106,
   "metadata": {
    "tags": []
   },
   "outputs": [],
   "source": [
    "from sklearn.metrics import classification_report"
   ]
  },
  {
   "cell_type": "code",
   "execution_count": 111,
   "metadata": {
    "tags": []
   },
   "outputs": [
    {
     "name": "stdout",
     "output_type": "stream",
     "text": [
      "              precision    recall  f1-score   support\n",
      "\n",
      "           0       0.79      0.87      0.83       260\n",
      "           1       0.74      0.62      0.67       158\n",
      "\n",
      "    accuracy                           0.77       418\n",
      "   macro avg       0.76      0.74      0.75       418\n",
      "weighted avg       0.77      0.77      0.77       418\n",
      "\n"
     ]
    }
   ],
   "source": [
    "print(classification_report(y_test, grids[\"gs_xgb\"].best_estimator_.predict(preprocess_data(test))))"
   ]
  },
  {
   "cell_type": "code",
   "execution_count": 112,
   "metadata": {
    "tags": []
   },
   "outputs": [
    {
     "name": "stdout",
     "output_type": "stream",
     "text": [
      "              precision    recall  f1-score   support\n",
      "\n",
      "           0       0.77      0.89      0.83       260\n",
      "           1       0.76      0.57      0.65       158\n",
      "\n",
      "    accuracy                           0.77       418\n",
      "   macro avg       0.76      0.73      0.74       418\n",
      "weighted avg       0.77      0.77      0.76       418\n",
      "\n"
     ]
    }
   ],
   "source": [
    "print(classification_report(y_test, pipe_grids[\"gs_xgb\"].best_estimator_.predict(test)))"
   ]
  },
  {
   "cell_type": "code",
   "execution_count": 113,
   "metadata": {},
   "outputs": [
    {
     "name": "stdout",
     "output_type": "stream",
     "text": [
      "              precision    recall  f1-score   support\n",
      "\n",
      "           0       0.80      0.89      0.84       260\n",
      "           1       0.78      0.64      0.70       158\n",
      "\n",
      "    accuracy                           0.79       418\n",
      "   macro avg       0.79      0.76      0.77       418\n",
      "weighted avg       0.79      0.79      0.79       418\n",
      "\n"
     ]
    }
   ],
   "source": [
    "print(classification_report(y_test, pipe_grids[\"gs_rand_forest\"].best_estimator_.predict(test)))"
   ]
  },
  {
   "cell_type": "code",
   "execution_count": null,
   "metadata": {},
   "outputs": [],
   "source": []
  },
  {
   "attachments": {},
   "cell_type": "markdown",
   "metadata": {},
   "source": [
    "AND NOW... AUTO ML"
   ]
  },
  {
   "cell_type": "code",
   "execution_count": 109,
   "metadata": {
    "tags": []
   },
   "outputs": [
    {
     "ename": "ModuleNotFoundError",
     "evalue": "No module named 'supervised'",
     "output_type": "error",
     "traceback": [
      "\u001b[1;31m---------------------------------------------------------------------------\u001b[0m",
      "\u001b[1;31mModuleNotFoundError\u001b[0m                       Traceback (most recent call last)",
      "\u001b[1;32mc:\\Users\\jamr1\\Documents\\Data_Science\\GITHUB\\Machine_Learning\\4-Pipelines\\Pipeline_AutoML.ipynb Cell 131\u001b[0m in \u001b[0;36m<cell line: 4>\u001b[1;34m()\u001b[0m\n\u001b[0;32m      <a href='vscode-notebook-cell:/c%3A/Users/jamr1/Documents/Data_Science/GITHUB/Machine_Learning/4-Pipelines/Pipeline_AutoML.ipynb#Y243sZmlsZQ%3D%3D?line=1'>2</a>\u001b[0m \u001b[39mimport\u001b[39;00m \u001b[39mnumpy\u001b[39;00m \u001b[39mas\u001b[39;00m \u001b[39mnp\u001b[39;00m\n\u001b[0;32m      <a href='vscode-notebook-cell:/c%3A/Users/jamr1/Documents/Data_Science/GITHUB/Machine_Learning/4-Pipelines/Pipeline_AutoML.ipynb#Y243sZmlsZQ%3D%3D?line=2'>3</a>\u001b[0m \u001b[39mfrom\u001b[39;00m \u001b[39msklearn\u001b[39;00m\u001b[39m.\u001b[39;00m\u001b[39mmetrics\u001b[39;00m \u001b[39mimport\u001b[39;00m accuracy_score\n\u001b[1;32m----> <a href='vscode-notebook-cell:/c%3A/Users/jamr1/Documents/Data_Science/GITHUB/Machine_Learning/4-Pipelines/Pipeline_AutoML.ipynb#Y243sZmlsZQ%3D%3D?line=3'>4</a>\u001b[0m \u001b[39mfrom\u001b[39;00m \u001b[39msupervised\u001b[39;00m \u001b[39mimport\u001b[39;00m AutoML\n\u001b[0;32m      <a href='vscode-notebook-cell:/c%3A/Users/jamr1/Documents/Data_Science/GITHUB/Machine_Learning/4-Pipelines/Pipeline_AutoML.ipynb#Y243sZmlsZQ%3D%3D?line=6'>7</a>\u001b[0m X \u001b[39m=\u001b[39m train[train\u001b[39m.\u001b[39mcolumns[\u001b[39m2\u001b[39m:]]\n\u001b[0;32m      <a href='vscode-notebook-cell:/c%3A/Users/jamr1/Documents/Data_Science/GITHUB/Machine_Learning/4-Pipelines/Pipeline_AutoML.ipynb#Y243sZmlsZQ%3D%3D?line=7'>8</a>\u001b[0m y \u001b[39m=\u001b[39m train[\u001b[39m\"\u001b[39m\u001b[39mSurvived\u001b[39m\u001b[39m\"\u001b[39m]\n",
      "\u001b[1;31mModuleNotFoundError\u001b[0m: No module named 'supervised'"
     ]
    }
   ],
   "source": [
    "import pandas as pd\n",
    "import numpy as np\n",
    "from sklearn.metrics import accuracy_score\n",
    "from supervised import AutoML\n",
    "\n",
    "\n",
    "X = train[train.columns[2:]]\n",
    "y = train[\"Survived\"]\n",
    "\n",
    "automl = AutoML(results_path=\"AutoML_5\")\n",
    "automl.fit(X, y)\n",
    "\n",
    "predictions = automl.predict(test)\n",
    "print(f\"Accuracy: {accuracy_score(test['Survived'], predictions)*100.0:.2f}%\" )"
   ]
  },
  {
   "cell_type": "code",
   "execution_count": null,
   "metadata": {},
   "outputs": [],
   "source": []
  },
  {
   "attachments": {},
   "cell_type": "markdown",
   "metadata": {},
   "source": [
    "Referencias:"
   ]
  },
  {
   "attachments": {},
   "cell_type": "markdown",
   "metadata": {},
   "source": [
    "https://github.com/mljar/mljar-supervised  \n",
    "https://h2o.ai/platform/h2o-automl/?n=res9  \n",
    "https://auto.gluon.ai/stable/index.html#  \n",
    "https://www.automl.org/  \n"
   ]
  },
  {
   "attachments": {},
   "cell_type": "markdown",
   "metadata": {},
   "source": [
    "###### "
   ]
  }
 ],
 "metadata": {
  "interpreter": {
   "hash": "b8ee907ad2201c6d9588d3f44c3076f7bb061a669037d938a152617689572a16"
  },
  "kernelspec": {
   "display_name": "Python 3 (ipykernel)",
   "language": "python",
   "name": "python3"
  },
  "language_info": {
   "codemirror_mode": {
    "name": "ipython",
    "version": 3
   },
   "file_extension": ".py",
   "mimetype": "text/x-python",
   "name": "python",
   "nbconvert_exporter": "python",
   "pygments_lexer": "ipython3",
<<<<<<< HEAD
   "version": "3.7.4"
=======
   "version": "3.9.5"
>>>>>>> upstream/main
  }
 },
 "nbformat": 4,
 "nbformat_minor": 4
}
